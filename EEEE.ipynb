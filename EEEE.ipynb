{
  "nbformat": 4,
  "nbformat_minor": 0,
  "metadata": {
    "colab": {
      "name": "EEEE",
      "provenance": [],
      "collapsed_sections": [],
      "toc_visible": true
    },
    "kernelspec": {
      "name": "python3",
      "display_name": "Python 3"
    }
  },
  "cells": [
    {
      "cell_type": "markdown",
      "metadata": {
        "id": "OrYzq9vR1v7U",
        "colab_type": "text"
      },
      "source": [
        "# Remarks #"
      ]
    },
    {
      "cell_type": "markdown",
      "metadata": {
        "id": "RRKiRaNC04nm",
        "colab_type": "text"
      },
      "source": [
        "* It is preferable to download this Jupyter Notebook and upload it on google drive then running it.\n",
        "* A large dataset will be downloaded for this project. Among the data, you may choose the number of samplngs that you may use when running the notebook."
      ]
    },
    {
      "cell_type": "markdown",
      "metadata": {
        "id": "ln9RLEMT3UKT",
        "colab_type": "text"
      },
      "source": [
        "# Objective #\n"
      ]
    },
    {
      "cell_type": "markdown",
      "metadata": {
        "id": "FlVLkMHV3Xk1",
        "colab_type": "text"
      },
      "source": [
        "1.   First, we will collect various samples of the COCO dataset and filter out the nouns for each sample.\n",
        "  * We used a relatively small sample compared to the actual data amount due to hardware limitations.\n",
        "2.   Then, we will filter out the nouns and compare it with each other, and measure the cosine similarity.\n",
        "3. We will then show a graphical representation of how similar the items are."
      ]
    },
    {
      "cell_type": "markdown",
      "metadata": {
        "id": "qgPxexU515tn",
        "colab_type": "text"
      },
      "source": [
        "![alt text](https://miro.medium.com/max/442/1*UODvtQMybHE8c0eL3K5z5A.png)\n"
      ]
    },
    {
      "cell_type": "markdown",
      "metadata": {
        "id": "Xl98BwVx31vB",
        "colab_type": "text"
      },
      "source": [
        "   4.  We will use gensim topic modelling to train our data to see if the model can predict scenes that are similar. \n",
        "       * We discarded all the parts of the caption data, with the exception of nouns.\n",
        "       * By treating the bag of captions as a document and each caption list as a bag of words, we trained our data and tested it to see if genism successfully was able to predict similar scenes.\n",
        "   5. We will also show a graphical representation of such, to emphasise our observations and to draw conclusions."
      ]
    },
    {
      "cell_type": "markdown",
      "metadata": {
        "id": "tlbYnNXi3F7x",
        "colab_type": "text"
      },
      "source": [
        "\n",
        "![alt text](https://miro.medium.com/max/886/1*yiH5sZI-IBxDSQMKhvbcHw.png)"
      ]
    },
    {
      "cell_type": "markdown",
      "metadata": {
        "id": "u0bNuN_x-Usd",
        "colab_type": "text"
      },
      "source": [
        "# Import Statements #"
      ]
    },
    {
      "cell_type": "markdown",
      "metadata": {
        "id": "zVrqpNoRQPRa",
        "colab_type": "text"
      },
      "source": [
        "We will first import the appropriate modules which we will be using right now."
      ]
    },
    {
      "cell_type": "code",
      "metadata": {
        "id": "SSZIjvGG--Us",
        "colab_type": "code",
        "colab": {}
      },
      "source": [
        "from __future__ import absolute_import, division, print_function, unicode_literals"
      ],
      "execution_count": 0,
      "outputs": []
    },
    {
      "cell_type": "code",
      "metadata": {
        "id": "UAczlzdR-BGl",
        "colab_type": "code",
        "outputId": "bbec25be-6b0e-4444-8f06-23b64c87aebd",
        "colab": {
          "base_uri": "https://localhost:8080/",
          "height": 34
        }
      },
      "source": [
        "from __future__ import absolute_import, division, print_function, unicode_literals\n",
        "try:\n",
        "  %tensorflow_version 2.x\n",
        "except Exception:\n",
        "  pass\n",
        "import tensorflow as tf\n",
        "import matplotlib.pyplot as plt\n",
        "from sklearn.model_selection import train_test_split\n",
        "from sklearn.utils import shuffle\n",
        "\n",
        "import re\n",
        "import numpy as np\n",
        "import os\n",
        "import time\n",
        "import json\n",
        "from glob import glob\n",
        "from PIL import Image\n",
        "import pickle\n",
        "print(\"Imported\")"
      ],
      "execution_count": 0,
      "outputs": [
        {
          "output_type": "stream",
          "text": [
            "Imported\n"
          ],
          "name": "stdout"
        }
      ]
    },
    {
      "cell_type": "markdown",
      "metadata": {
        "id": "WMVZW7nL_zJY",
        "colab_type": "text"
      },
      "source": [
        "# Import Dataset #"
      ]
    },
    {
      "cell_type": "markdown",
      "metadata": {
        "id": "M5zIDnqV4x2Q",
        "colab_type": "text"
      },
      "source": [
        "We will download the COCO dataset.\n",
        "\n",
        "> Indented block\n",
        "\n"
      ]
    },
    {
      "cell_type": "code",
      "metadata": {
        "id": "jS8RtAJMASRT",
        "colab_type": "code",
        "colab": {}
      },
      "source": [
        "annotation_folder = '/annotations/'\n",
        "if not os.path.exists(os.path.abspath('.') + annotation_folder):\n",
        "  annotation_zip = tf.keras.utils.get_file('captions.zip',\n",
        "                                          cache_subdir=os.path.abspath('.'),\n",
        "                                          origin = 'http://images.cocodataset.org/annotations/annotations_trainval2014.zip',\n",
        "                                          extract = True)\n",
        "  annotation_file = os.path.dirname(annotation_zip)+'/annotations/captions_train2014.json'\n",
        "  os.remove(annotation_zip)\n",
        "image_folder = '/train2014/'\n",
        "if not os.path.exists(os.path.abspath('.') + image_folder):\n",
        "  image_zip = tf.keras.utils.get_file('train2014.zip',\n",
        "                                      cache_subdir=os.path.abspath('.'),\n",
        "                                      origin = 'http://images.cocodataset.org/zips/train2014.zip',\n",
        "                                      extract = True)\n",
        "  PATH = os.path.dirname(image_zip) + image_folder\n",
        "  os.remove(image_zip)\n",
        "else:\n",
        "  PATH = os.path.abspath('.') + image_folder"
      ],
      "execution_count": 0,
      "outputs": []
    },
    {
      "cell_type": "markdown",
      "metadata": {
        "id": "kuk1NGil5E4S",
        "colab_type": "text"
      },
      "source": [
        "We will restrict the training size by setting up a certain limit. This case, we are using 10000 samples."
      ]
    },
    {
      "cell_type": "code",
      "metadata": {
        "id": "V7TM7N6_5Cps",
        "colab_type": "code",
        "colab": {}
      },
      "source": [
        "with open(annotation_file, 'r') as f:\n",
        "    annotations = json.load(f)\n",
        "\n",
        "all_captions = []\n",
        "all_img_name_vector = []\n",
        "\n",
        "for annot in annotations['annotations']:\n",
        "    caption = '<start> ' + annot['caption'] + ' <end>'\n",
        "    image_id = annot['image_id']\n",
        "    full_coco_image_path = PATH + 'COCO_train2014_' + '%012d.jpg' % (image_id)\n",
        "\n",
        "    all_img_name_vector.append(full_coco_image_path)\n",
        "    all_captions.append(caption)\n",
        "\n",
        "train_captions, img_name_vector = shuffle(all_captions,\n",
        "                                          all_img_name_vector,\n",
        "                                          random_state=1)\n",
        "num_examples = 13000\n",
        "train_captions = train_captions[:num_examples]\n",
        "img_name_vector = img_name_vector[:num_examples]"
      ],
      "execution_count": 0,
      "outputs": []
    },
    {
      "cell_type": "code",
      "metadata": {
        "id": "4bgN7c4JPaC1",
        "colab_type": "code",
        "outputId": "08f2875f-1665-42d0-a949-8cfca8977d8b",
        "colab": {
          "base_uri": "https://localhost:8080/",
          "height": 34
        }
      },
      "source": [
        "len(train_captions)"
      ],
      "execution_count": 0,
      "outputs": [
        {
          "output_type": "execute_result",
          "data": {
            "text/plain": [
              "13000"
            ]
          },
          "metadata": {
            "tags": []
          },
          "execution_count": 117
        }
      ]
    },
    {
      "cell_type": "markdown",
      "metadata": {
        "id": "Kiwy8mWJeJnw",
        "colab_type": "text"
      },
      "source": [
        "# Extracting the Nouns from the Restricted Dataset"
      ]
    },
    {
      "cell_type": "markdown",
      "metadata": {
        "id": "P9TgCSy7YBLC",
        "colab_type": "text"
      },
      "source": [
        "Now that we have limited the datatset for training, we will construct an algorithm so that we are able to filter out the nouns.\n",
        "\n",
        "We wil use NLTK library, to filter out the nouns.\n",
        "\n",
        "Incase your NLTK packages are not downloaded, this jupyter notebook will allow you to download the 'punkt' package and the 'averaged_perceptron_tagger' package. \n",
        "\n"
      ]
    },
    {
      "cell_type": "code",
      "metadata": {
        "id": "5ZXuQytnzaPT",
        "colab_type": "code",
        "outputId": "ce471fd8-7bc8-4ba5-a13d-9427a0ab47d6",
        "colab": {
          "base_uri": "https://localhost:8080/",
          "height": 119
        }
      },
      "source": [
        "import nltk\n",
        "nltk.download('punkt')\n",
        "nltk.download('averaged_perceptron_tagger')\n",
        "\n",
        "def filter_nouns(data):\n",
        "    i = 0\n",
        "    nouns = None\n",
        "    noun_list = []\n",
        "    while i < len(data):\n",
        "        lines = ''.join(data[i])\n",
        "        # function to test if something is a noun\n",
        "        is_noun = lambda pos: pos[:2] == 'NN'\n",
        "        # do the nlp stuff\n",
        "        tokenized = nltk.word_tokenize(lines)\n",
        "        nouns = [word for (word, pos) in nltk.pos_tag(tokenized) if is_noun(pos)] \n",
        "        noun_list = [*noun_list, nouns]\n",
        "        i += 1     \n",
        "    return noun_list"
      ],
      "execution_count": 0,
      "outputs": [
        {
          "output_type": "stream",
          "text": [
            "[nltk_data] Downloading package punkt to /root/nltk_data...\n",
            "[nltk_data]   Package punkt is already up-to-date!\n",
            "[nltk_data] Downloading package averaged_perceptron_tagger to\n",
            "[nltk_data]     /root/nltk_data...\n",
            "[nltk_data]   Package averaged_perceptron_tagger is already up-to-\n",
            "[nltk_data]       date!\n"
          ],
          "name": "stdout"
        }
      ]
    },
    {
      "cell_type": "code",
      "metadata": {
        "id": "E6MrRDS8wvyG",
        "colab_type": "code",
        "outputId": "5ea13054-e9b6-43e6-9d04-ba9f9c22878b",
        "colab": {
          "base_uri": "https://localhost:8080/",
          "height": 1000
        }
      },
      "source": [
        "def filter(document):\n",
        "    i = 0\n",
        "    df = None\n",
        "    noun_list = []\n",
        "    while i < len(document):\n",
        "        \n",
        "        # Filter out components that are not needed \n",
        "        # Convert list of strings to natural language\n",
        "        while 'A' in document[i]: document[i].remove('A')\n",
        "        while 'start' in document[i]: document[i].remove('start')\n",
        "        while 'end' in document[i]: document[i].remove('end')\n",
        "        while '>' in document[i]: document[i].remove('>')\n",
        "        while '<' in document[i]: document[i].remove('<')\n",
        "        noun_str = ' '.join(document[i])\n",
        "        noun_list = [*noun_list, noun_str]\n",
        "        \n",
        "        i += 1\n",
        "    return noun_list\n",
        "filter(filter_nouns(train_captions))"
      ],
      "execution_count": 0,
      "outputs": [
        {
          "output_type": "stream",
          "text": [
            "ERROR! Session/line number was not unique in database. History logging moved to new session 62\n"
          ],
          "name": "stdout"
        },
        {
          "output_type": "execute_result",
          "data": {
            "text/plain": [
              "['skateboarder trick skateboard ramp',\n",
              " 'person air skis',\n",
              " 'wood door boards',\n",
              " 'Do Enter sign road stadium',\n",
              " 'Small child chair plate',\n",
              " 'groups people toilet area',\n",
              " 'hand cellphone',\n",
              " 'People computers student room',\n",
              " 'birds field',\n",
              " 'man cell phone park',\n",
              " 'group men table microphones speech',\n",
              " 'bathroom toilet sprayer wall',\n",
              " 'woman bench phone',\n",
              " 'woman clock purse market',\n",
              " 'surfer hand signal',\n",
              " 'cat asphalt',\n",
              " 'carrots cut squash carrots',\n",
              " 'Traffic lights intersection world',\n",
              " 'man goatee backseat vehicle luggage',\n",
              " 'street sign intersection Beacon Ave Stevens St.',\n",
              " 'kid skateboard kid',\n",
              " 'apple clock display',\n",
              " 'bunch color watches table',\n",
              " 'man suit standing front stove',\n",
              " 'Pizzas sauce cheese table',\n",
              " 'variety vegetables sticks tray control',\n",
              " 'bus road driver',\n",
              " 'pizza cut pieces top counter',\n",
              " 'plate breakfast food eggs toast hash browns',\n",
              " 'transit bus lot',\n",
              " 'man air skateboard',\n",
              " 'ground plane',\n",
              " 'person bananas back',\n",
              " 'Three zebras field grass',\n",
              " 'couple pieces toast cup syrup',\n",
              " 'Many dishes people',\n",
              " 'herd wire fence',\n",
              " 'slice pizza cheese crust',\n",
              " 'herd cows field',\n",
              " 'paper plate dog sandwich cream cheese',\n",
              " 'baby boy room baby doll',\n",
              " 'man woman tennis rackets court',\n",
              " 'bus side man storage bus',\n",
              " 'girl man tie',\n",
              " 'baseball player bat game',\n",
              " 'man ocean waters waves',\n",
              " 'couple women top tennis court',\n",
              " 'zebra',\n",
              " 'clock side beige bell tower',\n",
              " 'bear teeth camera',\n",
              " 'remote sink room',\n",
              " 'bathroom sink mirror toilet tub',\n",
              " 'passenger train platform',\n",
              " 'group people restaurant table',\n",
              " 'men glasses',\n",
              " 'woman slice pizza cheese',\n",
              " 'motor bike side road',\n",
              " 'plate foods cheeses',\n",
              " 'Donuts cell phone table',\n",
              " 'Six plastic containers vegetables',\n",
              " 'horse standing front portrait village',\n",
              " 'women hill',\n",
              " 'man glasses suit vest',\n",
              " 'kitchen counters chrome microwave backsplash',\n",
              " 'retriever dog desk',\n",
              " 'dog leash reflection door',\n",
              " 'giraffe umbrella',\n",
              " 'skier blue jacket goggles',\n",
              " 'skier view mountain top',\n",
              " 'truck highway',\n",
              " 'batter plate swing pitch',\n",
              " 'train towards train station',\n",
              " 'People baggage claim area airport',\n",
              " 'bride groom wedding cake',\n",
              " 'Parking meters front spaces lot',\n",
              " 'bunch road signs side road',\n",
              " 'plate food table pitchers',\n",
              " 'laptop desk coke bottle Apple monitor',\n",
              " 'person skis lays snow legs',\n",
              " 'Cars street traffic light',\n",
              " 'people tables outdoors',\n",
              " 'giraffe boulder wall',\n",
              " 'leather chair book arm',\n",
              " 'group cross country skiiers race',\n",
              " 'table plates food',\n",
              " 'couple animals day',\n",
              " 'man tie front mirror',\n",
              " 'cat piece luggage',\n",
              " 'elephant background monkey sides',\n",
              " 'man tennis ball',\n",
              " 'bathroom door',\n",
              " 'bar blender liquid',\n",
              " 'girafee top tree girafee',\n",
              " 'clock tower towering city',\n",
              " 'man motor cycle saddle bags',\n",
              " 'mug keyboard desk',\n",
              " 'man drives horse carriage',\n",
              " 'zebras side side grass',\n",
              " 'Inside apartment door chairs refrigerator',\n",
              " 'bathroom beige flooring walls',\n",
              " 'glass pan sauce zucchini',\n",
              " 'child skis cable',\n",
              " 'baseball pitcher motion ball fingers',\n",
              " 'zebra drinking pond',\n",
              " 'apple grapes kiwi bowl',\n",
              " 'sitting table papers cups',\n",
              " 'hill skier bottom',\n",
              " 'passenger train station',\n",
              " 'train amount pollution traveling train station',\n",
              " 'waterway navigation',\n",
              " 'couple ripe bananas top table',\n",
              " 'person tennis racket tennis tennis court',\n",
              " 'Woman sky man',\n",
              " 'bus flag front',\n",
              " 'Motorcycles line walls room',\n",
              " 'bedroom walls bed desk',\n",
              " 'woman racquet',\n",
              " 'girl surf board water',\n",
              " 'beds closet room',\n",
              " 'Dessert sample plate chocolate cake strawberry ice cream',\n",
              " 'man woman hug park bench',\n",
              " 'kitten mirror room',\n",
              " 'Three ambulances row parking lot',\n",
              " 'living room man',\n",
              " 'couple people horse',\n",
              " 'Shell pasta beef broccoli hunk bread',\n",
              " 'plate meat potatoes broccolli',\n",
              " 'woman book library',\n",
              " 'bathtub combination hand shower cradle',\n",
              " 'dogs sidewalk horse passes',\n",
              " 'man bathroom',\n",
              " 'Air Canada flight sky',\n",
              " 'batter pitch baseball game',\n",
              " 'pieces cake plates table',\n",
              " 'Many sheep field ones',\n",
              " 'set baskets top table',\n",
              " 'computer mouse keyboard table',\n",
              " 'baseball player bat game',\n",
              " 'man boy tennis tennis court',\n",
              " 'Three cups saucers gold post',\n",
              " 'group wine glasses wine',\n",
              " 'woman table plate food front',\n",
              " 'bus sign side',\n",
              " 'boys tennis court basket tennis balls',\n",
              " 'water hydrant police cars background',\n",
              " 'book bag stairs',\n",
              " 'group people bus',\n",
              " 'man teeth bathroom',\n",
              " 'man Wii front Christmas tree',\n",
              " 'children grandmother bake bread',\n",
              " 'group plates donuts',\n",
              " 'cat wood statue',\n",
              " 'baseball pitcher baseball pitchers mound',\n",
              " 'person beach',\n",
              " 'round bed room walls sheets',\n",
              " 'bathroom transportation',\n",
              " 'Cars light evening',\n",
              " 'utility truck passing people',\n",
              " 'refrigerator lot things',\n",
              " 'hotdog bun bottle water table',\n",
              " 'woman glasses video game remote hands',\n",
              " 'man skateboard ramp',\n",
              " 'object photo',\n",
              " 'woman shirt jeans sits park bench cell',\n",
              " 'group sailors celebrating something people cake',\n",
              " 'picture Alaska Airlines jumbo jet flight',\n",
              " 'pizza toppings',\n",
              " 'Many signs chain link fence fire hydrant',\n",
              " 'sheep middle grass',\n",
              " 'person cake lot kids',\n",
              " 'Large airplane sky',\n",
              " 'dog furniture background',\n",
              " 'boy tennis ball racket',\n",
              " 'cat front window grass',\n",
              " 'hotel room swans heart bottom',\n",
              " 'person top',\n",
              " 'group motorcycles display room',\n",
              " 'Workers luggage passenger jet',\n",
              " 'cars road street lights',\n",
              " 'Three men elephant car behind',\n",
              " 'group horses dirt field',\n",
              " 'window glass shower stall bathroom bright',\n",
              " 'group vases counter',\n",
              " 'motor cycle cop truck',\n",
              " 'cat book',\n",
              " 'woman food',\n",
              " 'room window',\n",
              " 'suitcase clothing floor indoors',\n",
              " 'police officers horse street',\n",
              " 'pile produce top table',\n",
              " 'zebra field',\n",
              " 'bathroom mirror sinks',\n",
              " 'Six dollar bills phone',\n",
              " 'view laptop',\n",
              " 'desk laptop monitor',\n",
              " 'woman book airplane',\n",
              " 'sign beneath stand tree',\n",
              " 'giraffes field',\n",
              " 'boy skate board park',\n",
              " 'woman mask someone airplane',\n",
              " 'tennis player racket stares thought',\n",
              " 'Red airplane airport',\n",
              " 'dog cage motocycle',\n",
              " 'dog bed slats',\n",
              " 'couple school buses dirt',\n",
              " 'Three skiers winter gear mountain slope',\n",
              " 'vendor front fruit',\n",
              " 'tour bus middle parking lot',\n",
              " 'person flies kite',\n",
              " 'sheep dirt field',\n",
              " 'group bikers highway',\n",
              " 'row urinals line wall men bathroom',\n",
              " 'cooks kitchen food',\n",
              " 'people side side wearign ballerina shoes',\n",
              " 'man toddler front body board',\n",
              " 'style living room',\n",
              " 'stuffed bear tree',\n",
              " 'carrots oranges board',\n",
              " 'passenger jet sky',\n",
              " 'men ties way',\n",
              " 'table clock bottles',\n",
              " 'Photo dingy bathroom toilet',\n",
              " 'cat food dish',\n",
              " 'Attractvie lady bikini sits towel beach',\n",
              " 'seagulls ocean',\n",
              " 'man trench coat kite',\n",
              " 'vases window ledge day',\n",
              " 'bananas pears lemons fruit',\n",
              " 'Neckties circumference pole',\n",
              " 'lot suitcase side building',\n",
              " 'baby top baby elephant',\n",
              " 'Woman dishes kitchen',\n",
              " 'child piece paper scissors',\n",
              " 'Rancher cowboy hat',\n",
              " 'child food plate',\n",
              " 'family giraffe standing front building baby deer',\n",
              " 'slice pizza knife board',\n",
              " 'man cake children birthday party',\n",
              " 'service bus street',\n",
              " 'playing board',\n",
              " 'Blue airplane airport runway',\n",
              " 'silver pasenger trains side side',\n",
              " 'image steer horns',\n",
              " 'picture boats water',\n",
              " 'giraffes savanna baobab tree',\n",
              " 'view shop clock door',\n",
              " 'boy kitchen pizza',\n",
              " 'man skateboard ramp',\n",
              " 'pizza top metal counter',\n",
              " 'bank street corner clock building',\n",
              " 'fruit yogurt bowl salad',\n",
              " 'plant shelf window',\n",
              " 'bathroom',\n",
              " 'cat bench',\n",
              " 'Inside kitchen door',\n",
              " 'couple stuffed bears',\n",
              " 'night time street sign pole',\n",
              " 'couple smiling wine glasses',\n",
              " 'dish broccoli summer squash sits table',\n",
              " 'Man hill snowboard',\n",
              " 'guy board wave',\n",
              " 'Green decker bus attendant front',\n",
              " 'man home plate baseball uniform',\n",
              " 'meal bread vegetables plate',\n",
              " 'man swings tennis racket ball',\n",
              " 'Green bananas grapefruit pot flowers',\n",
              " 'car thats front fire hydrant',\n",
              " 'Commercial airliner landing',\n",
              " 'man skis crater sorts',\n",
              " 'meal containers',\n",
              " 'group kids game soccer',\n",
              " 'bear carrot field',\n",
              " 'shots bald man teeth',\n",
              " 'group buses cars street',\n",
              " 'living room wit ha fire place',\n",
              " 'train driving bridge field',\n",
              " 'sailboat water cement walkway',\n",
              " 'cat field',\n",
              " 'birds field',\n",
              " 'bunch food table',\n",
              " 'woman frisbee ball dogs',\n",
              " 'man blackberry phone crowd people front stage men podium',\n",
              " 'bowl soup carrots fork',\n",
              " 'family people dining room table assortment food wine',\n",
              " 'lot comdents',\n",
              " 'people bed',\n",
              " 'wheelchair cargo van',\n",
              " 'Plane runway',\n",
              " 'cat sits living room front television',\n",
              " 'man jump',\n",
              " 'woman car dog',\n",
              " 'woman gesture photograph',\n",
              " 'baby zebra field',\n",
              " 'Several flowers stems glass vase',\n",
              " 'woman pair scissors tape hands',\n",
              " 'Vegetables counter kitchen',\n",
              " 'table types liquor',\n",
              " 'Trains tracks snow',\n",
              " 'dog cat cake',\n",
              " 'person board',\n",
              " 'birds telephone wires bird',\n",
              " 'Sheep eat bowl sheepdog',\n",
              " 'giraffe adult giraffe',\n",
              " 'Female surfer waves sea',\n",
              " 'view tennis court men tennis',\n",
              " 'woman glass plates front',\n",
              " 'woman bench',\n",
              " 'woman dress umbrella walks railing stone wall',\n",
              " 'woman horse',\n",
              " 'keyboard mouse cell phone notepad desk',\n",
              " 'BUSY CROWDED CITY WITH LIGHTS EVERYWHERE',\n",
              " 'cows directions meadow',\n",
              " 'clocks signs train platforms',\n",
              " 'crowd people fair kites',\n",
              " 'refrigerator corner room',\n",
              " 'Single planes airport mountain',\n",
              " 'Three giraffes grassy field',\n",
              " 'grandfather clock wall',\n",
              " 'person sandwich',\n",
              " 'woman vegetables kitchen',\n",
              " 'man suit tie laying dirt',\n",
              " 'man hospital bed computer',\n",
              " 'group men game frisbee park',\n",
              " 'People motorcycles grass',\n",
              " 'couple bears road',\n",
              " 'man refrigerator',\n",
              " 'children bathtub suds',\n",
              " 'giraffes field trees',\n",
              " 'person front tray pretzels',\n",
              " 'number zebras field trees',\n",
              " 'man jacket bow tie',\n",
              " 'piece cake plate',\n",
              " 'vintage photo man bear',\n",
              " 'people bench woods shore lake',\n",
              " 'sign fire hydrant',\n",
              " 'man cell phone winter hat',\n",
              " 'people',\n",
              " 'herd cows barb wire fence',\n",
              " 'closeup sign piece paper tape',\n",
              " 'people motor boat body water',\n",
              " 'clock top tower',\n",
              " 'laying sand',\n",
              " 'men sit shade motorcycle',\n",
              " 'group birds park bench',\n",
              " 'fire hydrant front business',\n",
              " 'group people skis slope',\n",
              " 'person balcony chandeliers',\n",
              " 'plastic container finger food chopsticks juice box rubber band',\n",
              " 'Tennis players court crowd watches',\n",
              " 'Ducks plants edge body water',\n",
              " 'group people city street',\n",
              " 'spoon plate food',\n",
              " 'person arms',\n",
              " 'blanket side bed',\n",
              " 'decker buses blue decker bus',\n",
              " 'giraffes field trees background',\n",
              " 'Taxi bus side road',\n",
              " 'line traffic truck car vehicle horse',\n",
              " 'man tie note',\n",
              " 'boy dog',\n",
              " 'area water people',\n",
              " 'zebra top grass field',\n",
              " 'wedding cake luggage',\n",
              " 'children outside bench',\n",
              " 'girl bench hands chin',\n",
              " 'man laptop cats table',\n",
              " 'men hands picture',\n",
              " 'woman wine wine event',\n",
              " 'giraffe group spectators',\n",
              " 'boat stairs field',\n",
              " 'person skis slope',\n",
              " 'water show skiers shoulders skiers',\n",
              " 'Downward view toilet cubicle',\n",
              " 'water skier watercraft lake',\n",
              " 'baby sheep mother sheep field',\n",
              " 'cat crib',\n",
              " 'couple people standing snow',\n",
              " 'guy umbrella light beach night',\n",
              " 'medium size boat body water',\n",
              " 'man skis water',\n",
              " 'officer motorcycle group protesters street',\n",
              " 'stone sign temperature date',\n",
              " 'girl pink silverware pizza',\n",
              " 'Fresh fruit vegetables bunch',\n",
              " 'sign mirror',\n",
              " 'Street signs directions castle standing background',\n",
              " 'couple puppies bed',\n",
              " 'guy beach surf board',\n",
              " 'giraffe camel grass field',\n",
              " 'man suit tie room renovation',\n",
              " 'person ocean surfboard trick',\n",
              " 'man bottle liquor field',\n",
              " 'computer top table',\n",
              " 'decker bus street',\n",
              " 'jetliner blue sky',\n",
              " 'street sign road',\n",
              " 'lion chair table',\n",
              " 'corner street people',\n",
              " 'boy girl',\n",
              " 'man woman video game',\n",
              " 'woman kitchen pizza cardboard',\n",
              " 'ducks water',\n",
              " 'telephones body cat',\n",
              " 'man birth baby sheeps',\n",
              " 'frolicking shrubbery',\n",
              " 'shutters building blue',\n",
              " 'mixer liquid',\n",
              " 'holder bathroom toothbrushes',\n",
              " 'blue house boat grass',\n",
              " 'bear story book',\n",
              " 'bathroom',\n",
              " 'Statues animals lawn',\n",
              " 'boy bench cellphone',\n",
              " 'plane hangar photo',\n",
              " 'hand phones room',\n",
              " 'tray oranges bananas pineapple',\n",
              " 'child piece brocolli',\n",
              " 'man surfboard towards beach foam',\n",
              " 'Emergency vehicles fireman cherry picker top ladder city',\n",
              " 'woman drinks kitchen',\n",
              " 'man steal pizza',\n",
              " 'person skis snow',\n",
              " 'decker bus street',\n",
              " 'woman court racquet',\n",
              " 'woman beach blue umbrella head',\n",
              " 'cat apples',\n",
              " 'Military man',\n",
              " 'table room',\n",
              " 'officer motorcycle side car',\n",
              " 'street downtown skyscraper',\n",
              " 'bunch elephants middle brush',\n",
              " 'truck bus tow',\n",
              " 'motorcyclist highway',\n",
              " 'men speed boat water',\n",
              " 'twin bed corner room painting wall',\n",
              " 'man back truck',\n",
              " 'horse baggage saddle',\n",
              " 'Five remotes',\n",
              " 'person factor bananas',\n",
              " 'giraffe standing middle area',\n",
              " 'man horse number shirt',\n",
              " 'man movie',\n",
              " 'man street dog',\n",
              " 'Woman plate food',\n",
              " 'children steam train bear front engine',\n",
              " 'plate meat seafood corn slice bread',\n",
              " 'airplane top airport tarmac',\n",
              " 'plate fork cake',\n",
              " 'lunch assortment things',\n",
              " 'pizza plate toppings',\n",
              " 'blue toilet stall foot rests',\n",
              " 'pile veggies gravy',\n",
              " 'stone clock tower trees',\n",
              " 'baskets fruit vegetables',\n",
              " 'woman pink umbrella alleyway',\n",
              " 'road way sign middle desert',\n",
              " 'half plate',\n",
              " 'group people top boat',\n",
              " 'cat bed',\n",
              " 'kids ball court',\n",
              " 'giraffes path food',\n",
              " 'grazing hillside',\n",
              " 'man shirt tie wool vest',\n",
              " 'zebra one',\n",
              " 'girls bears paper hats',\n",
              " 'Clock hippo base',\n",
              " 'man pan inside metal sink',\n",
              " 'People path boat body water',\n",
              " 'Young boy bat youth baseball game park',\n",
              " 'women peace sign table pizza',\n",
              " 'person skateboard trick',\n",
              " 'kitchen pets food dishes floor',\n",
              " 'stone house clock front',\n",
              " 'kitchen stainless appliances',\n",
              " 'box pizza',\n",
              " 'kitchen appliances',\n",
              " 'lady kitchen',\n",
              " 'surfer wave ocean',\n",
              " 'man wave surfboard ocean',\n",
              " 'elephant elephant crossing water',\n",
              " 'woman tennis ball',\n",
              " 'baby front cardboard box orange bananas',\n",
              " 'man saddle horse',\n",
              " 'wind surfer water mountain',\n",
              " 'View bathroom hotel room',\n",
              " 'dog window building',\n",
              " 'person cowboy hat park bench',\n",
              " 'people skateboards ramp',\n",
              " 'person others television',\n",
              " 'Baby giraffe cage branch',\n",
              " 'chairs bench bushes',\n",
              " 'table computer type equipment',\n",
              " 'couple animals dirt',\n",
              " 'airplane sky',\n",
              " 'person motor cart para sail chute',\n",
              " 'cow head someone strap',\n",
              " 'sort experiment toaster',\n",
              " 'people sandy shore',\n",
              " 'boy board hill',\n",
              " 'row park benches building background',\n",
              " 'Bakers kitchen table cakes pastries',\n",
              " 'man glasses works computer',\n",
              " 'skier wheelchair bound skis chair',\n",
              " 'traffic sign sits foreground line row houses',\n",
              " 'cat couch living room',\n",
              " 'tennis player tennis ball',\n",
              " 'athlete horse obstacle field',\n",
              " 'truck mountains',\n",
              " 'bridge river',\n",
              " 'picture Rockefeller Plaza street sign',\n",
              " 'man son refrigerator',\n",
              " 'man motorcycle metal structure',\n",
              " 'counter bowls bottles stove',\n",
              " 'pizza card board box',\n",
              " 'women umbrella',\n",
              " 'Diapered baby adult tie',\n",
              " 'transit bus city street',\n",
              " 'herd elephants field',\n",
              " 'man birds',\n",
              " 'baseball pitcher uniform mound',\n",
              " 'male tennis player racket',\n",
              " 'baseball player swings baseball',\n",
              " 'field cows trees',\n",
              " 'couple carrots board knife',\n",
              " 'woman wall phone',\n",
              " 'bowl food vegetables foods',\n",
              " 'people rain station',\n",
              " 'men field frisbee',\n",
              " 'bench bend path woods',\n",
              " 'view people surfboards water',\n",
              " 'construction sign street',\n",
              " 'restaurant bar grill',\n",
              " 'car parking lot clock tower background',\n",
              " 'sign School Boring Slow Down',\n",
              " 'train station train passengers',\n",
              " 'THIS BLACK AND WHITE PHOTO SURFER',\n",
              " 'men water boat',\n",
              " 'man motorcycle horse',\n",
              " 'nose dog cushion chair',\n",
              " 'arrangement vase',\n",
              " 'Zebra standing fence area Zebra ground',\n",
              " 'cat legs bed',\n",
              " 'People city street',\n",
              " 'moden tracks',\n",
              " 'bathroom vanity sinks countertop',\n",
              " 'cows grass trees',\n",
              " 'blue airplane runway',\n",
              " 'men bench cell phones',\n",
              " 'guy picture group people',\n",
              " 'skier powder snow',\n",
              " 'people front wall',\n",
              " 'woman shirt sits table plate food',\n",
              " 'kite air',\n",
              " 'memory foam mattress sit room',\n",
              " 'horse grass water',\n",
              " 'woman front refrigerator glass beer',\n",
              " 'roast dinner plate table',\n",
              " 'couple umbrella cloudy afternoon',\n",
              " 'Many motorcycles bikers parking lot',\n",
              " 'woman umbrella tree water',\n",
              " 'stop sign kinds graffiti',\n",
              " 'child chair bag candy',\n",
              " 'baseball players baseball field crowd watching',\n",
              " 'boy skateboard fence',\n",
              " 'street scene police officers horses',\n",
              " 'Black photograph airplane beach',\n",
              " 'lights dark city street night',\n",
              " 'One suitcase duffel bag',\n",
              " 'crown people beach kites',\n",
              " 'twin bed sheets pair pillows',\n",
              " 'boat',\n",
              " 'plate food table cake icing',\n",
              " 'woman baby kitchen',\n",
              " 'horse field grass',\n",
              " 'trio birds stream snow',\n",
              " 'Men stand front war plane',\n",
              " 'skier jump slope',\n",
              " 'man surfboard ocean',\n",
              " 'man back motorcycle',\n",
              " 'sink bathroom',\n",
              " 'skateboarder rail skatepark',\n",
              " 'plate donut creamer',\n",
              " 'man air skis',\n",
              " 'crowd people flag',\n",
              " 'brick building steeple corner',\n",
              " 'bunch people tables',\n",
              " 'person pink donut front TV',\n",
              " 'giraffe',\n",
              " 'man skateboard street people road',\n",
              " 'man dog side street cars',\n",
              " 'man head lamp Apple laptop',\n",
              " 'zebra dirt bushes tree',\n",
              " 'One boy street',\n",
              " 'Dodgers baseball player field',\n",
              " 'baseball player baseball catchers baseball field',\n",
              " 'couple carnival assortment stuffed animals',\n",
              " 'man hat gun',\n",
              " 'crosswalk city street night',\n",
              " 'kid hat bench',\n",
              " 'person dogs beach',\n",
              " 'tennis player ball',\n",
              " 'person park bench grass',\n",
              " 'jet ocean sky',\n",
              " 'display giraffes zebras elephants building',\n",
              " 'carnival displays lights lots people',\n",
              " 'group people game controllers',\n",
              " 'doorway bed chair',\n",
              " 'bus side street',\n",
              " 'fire hydrant area street',\n",
              " 'Dogs sheep arena crowd watching',\n",
              " 'blue plate food biscuits',\n",
              " 'photos kid cake',\n",
              " 'man blanket Frisbee',\n",
              " 'passenger train track',\n",
              " 'People sidewalk city',\n",
              " 'man home kitchen',\n",
              " 'boy skateboard street corner',\n",
              " 'toilet tub',\n",
              " 'surfer wet suit ocean',\n",
              " 'lacrosse player game equipment',\n",
              " 'image boy tricks skateboard',\n",
              " 'Giraffe spots tree',\n",
              " 'man street sign crowd people',\n",
              " 'street sign bicycle',\n",
              " 'person skateboard standing top ramp',\n",
              " 'People board train',\n",
              " 'skateboarder tricks park area',\n",
              " 'woman knife party foods',\n",
              " 'table chairs window',\n",
              " 'couple trains tracks station',\n",
              " 'kites cloudy sky',\n",
              " 'jets row',\n",
              " 'man man',\n",
              " 'photo baby bed',\n",
              " 'Wine glass table wine',\n",
              " 'close propeller blades',\n",
              " 'pace car marathon time',\n",
              " 'truck yacht street',\n",
              " 'woman bench bear',\n",
              " 'truck trailer man walks',\n",
              " 'men Wii game system',\n",
              " 'chefs meal kitchen',\n",
              " 'picture bed room',\n",
              " 'picture kid water fun',\n",
              " 'vase',\n",
              " 'couple men snowboards',\n",
              " 'Three skiers skies icy road',\n",
              " 'man horse child',\n",
              " 'man air board',\n",
              " 'picture street sign',\n",
              " 'man tennis court',\n",
              " 'baseball game crowd fans stands',\n",
              " 'man suit wall beach ocean',\n",
              " 'variety food ingredients silver pot',\n",
              " 'note front teddybear',\n",
              " 'woman umbrella street',\n",
              " 'woman tennis ball racket',\n",
              " 'dog walks adults view San Francisco Bridge',\n",
              " 'baseball batter contact ball',\n",
              " 'baby dress shirt vest',\n",
              " 'mouth ducks background',\n",
              " 'baseball player ball bat',\n",
              " 'man suit wave',\n",
              " 'dishes fruits slice watermelon table',\n",
              " 'beige living room chairs lamps television',\n",
              " 'sign construction area building street',\n",
              " 'snowboarder jump air night boarding',\n",
              " 'picture people',\n",
              " 'horse fence dirt',\n",
              " 'zebra baby field',\n",
              " 'Woman suitcases escalator',\n",
              " 'people side city street',\n",
              " 'woman kite daytime sky',\n",
              " 'tower shows clocks circles',\n",
              " 'group people luggage airport',\n",
              " 'oven leg joke',\n",
              " 'giraffe walks field',\n",
              " 'woman bite pizza restaurant',\n",
              " 'person food',\n",
              " 'guy phone hands',\n",
              " 'course meal meat vegetables',\n",
              " 'Car turn intersection vehicles',\n",
              " 'image dog front fire hydrant',\n",
              " 'baseball player baseball bat baseball field',\n",
              " 'men kitchen',\n",
              " 'street signs sub shop',\n",
              " 'kitchen man bottle',\n",
              " 'doughnuts',\n",
              " 'person picture bathroom mirror',\n",
              " 'bunch kites sky',\n",
              " 'man snow board side snow slope',\n",
              " 'Person head hands bench',\n",
              " 'couple horses city street',\n",
              " 'couple motorcycle riders track',\n",
              " 'zebra tree',\n",
              " 'bathroom pink curtain',\n",
              " 'man t shirt frisbee',\n",
              " 'cubicle pins wall toys top',\n",
              " 'zebras field stand side side',\n",
              " 'person desk soldering iron',\n",
              " 'bathroom sink soap dispenser cup brushes',\n",
              " 'group people skis race',\n",
              " 'One turn way sign middle road',\n",
              " 'man surfboard beach',\n",
              " 'Man parking meter tree city street',\n",
              " 'man dog house',\n",
              " 'ketchup dispenser hotdog',\n",
              " 'magazine counter',\n",
              " 'person meal vegetables pizza',\n",
              " 'Bikes sign',\n",
              " 'person surfboard wave',\n",
              " 'analog clock building background',\n",
              " 'train line bridge top river',\n",
              " 'bathroom tub walk',\n",
              " 'cat keyboard floor',\n",
              " 'woman baby birds shoulder',\n",
              " 'wood dining room table chairs sits room leather chair',\n",
              " 'computer desk printer monitor',\n",
              " 'Large truck city street',\n",
              " 'people frisbee field',\n",
              " 'surfer head surf',\n",
              " 'woman standing duffle bag field trees frisbee',\n",
              " 'giraffes pen trees',\n",
              " 'toilet lid parts seat',\n",
              " 'intersection street signs traffic light',\n",
              " 'horse top grass field',\n",
              " 'men laptops',\n",
              " 'man motorcycle',\n",
              " 'room area chairs wall',\n",
              " 'giraffe camera zebras',\n",
              " 'Workers concrete hole field',\n",
              " 'TV top refrigerator items',\n",
              " 'man baseball bat airport',\n",
              " 'View street traffic buses cars motorcycle rider trees buildings',\n",
              " 'view city rainy night',\n",
              " 'man tennis court racket',\n",
              " 'man tennis ball racket',\n",
              " 'group kids grass',\n",
              " 'women side walk street car truck',\n",
              " 'cat picnic table',\n",
              " 'men woman photo',\n",
              " 'herd sheep pasture',\n",
              " 'cat suitcase',\n",
              " 'person bottom snowy hill',\n",
              " 'vases flowers table',\n",
              " 'baseball player ball',\n",
              " 'picture person soccerball',\n",
              " 'man dogs park',\n",
              " 'city street cars people',\n",
              " 'man top surfboard wave',\n",
              " 'dog tricycle leash',\n",
              " 'woman horse fence event',\n",
              " 'hut grass roof bench',\n",
              " 'man racket game tennis',\n",
              " 'rider bicycle helmet crosswalk',\n",
              " 'man phone front pool',\n",
              " 'people house cake',\n",
              " 'set metal stairs room clothes vines',\n",
              " 'decker bus city street',\n",
              " 'bird person hand food',\n",
              " 'plate piece meat lettuce cup juice',\n",
              " 'tennis player racket court',\n",
              " 'table toothbrushes toothpaste lotion snacks deodorant',\n",
              " 'pizza entre salad plate',\n",
              " 'men baseball bats',\n",
              " 'Dog mattress front laptop',\n",
              " 'dog resting hole dirt shoe',\n",
              " 'Several boxes fruit',\n",
              " 'coney dog onions fries',\n",
              " 'meat basket',\n",
              " 'sun shines window living room',\n",
              " 'train train tracks',\n",
              " 'dirt road parking area',\n",
              " 'giraffe standing hay trough',\n",
              " 'gray cat grass',\n",
              " 'woman mirror woman teeth',\n",
              " 'guy bike bus',\n",
              " 'men wine',\n",
              " 'Hot dogs grill marks buns grill',\n",
              " 'woman phone room',\n",
              " 'stop sign street sign',\n",
              " 'bear Art Soul cigarette lighter hand',\n",
              " 'bull men cart street',\n",
              " 'living room area table chairs bar stools counter top television',\n",
              " 'man skateboard trick',\n",
              " 'girl ball fire hydrant',\n",
              " 'Ten field day',\n",
              " 'picture leather couch laptop',\n",
              " 'image person skiis making tracks',\n",
              " 'kitchen oven sink',\n",
              " 'girl dog eat cake table',\n",
              " 'kitchen pantry glass bottles counter',\n",
              " 'train track caboose car silver train',\n",
              " 'group people living room',\n",
              " 'COUPLE OF GIRAFFES IN THE WILD WALKING IN THE SAND',\n",
              " 'tree forest',\n",
              " 'story commuter bus city street',\n",
              " 'Adults meal pizza',\n",
              " 'truck street buildings',\n",
              " 'street sign NE st back sign',\n",
              " 'wing outside plane window',\n",
              " 'lady front refrigerator',\n",
              " 'boys bed truck',\n",
              " 'Several bags middle area',\n",
              " 'car street streetlamp',\n",
              " 'man person shooter video game',\n",
              " 'giraffe neck leaves tree',\n",
              " 'woman ball tennis racquet court',\n",
              " 'wall bouquets',\n",
              " 'person friends',\n",
              " 'group people park benches dog',\n",
              " 'kitchen bunch items shelf',\n",
              " 'row passenger buses lone road',\n",
              " 'Woman tennis ball court',\n",
              " 'picture person frisbee front buildings',\n",
              " 'lot bunches bananas lot watermelons',\n",
              " 'People fruit market tables',\n",
              " 'couple people dog water',\n",
              " 'street sign names streets',\n",
              " 'Pancakes bacon eggs table',\n",
              " 'man surfboard top wave',\n",
              " 'boy baseball bat baseball uniform',\n",
              " 'dog cat bear bed',\n",
              " 'bowl fruit plate croissant sandwich',\n",
              " 'baseball player',\n",
              " 'vendor display stone walk',\n",
              " 'plate food',\n",
              " 'motorcycles front mountain landscape',\n",
              " 'bathroom toilet sink window',\n",
              " 'Three baseball players baseball field',\n",
              " 'tour car passengers',\n",
              " 'train pulls station',\n",
              " 'toilet sidewalk graffiti',\n",
              " 'cellphone sits desk headphones',\n",
              " 'man women cake',\n",
              " 'woman bike lot bikes park',\n",
              " 'Horse dog jester ceramics store window',\n",
              " 'life photograph oranges apples',\n",
              " 'man hair microphone',\n",
              " 'children bed camper',\n",
              " 'tray finger sandwiches scones fruit bottom table tea',\n",
              " 'giraffe water hole birds',\n",
              " 'bikers street',\n",
              " 'baseball player ball mitt baseball diamond',\n",
              " 'elephant grassy area',\n",
              " 'people side orad bus jeep close',\n",
              " 'group people beach surfboards',\n",
              " 'horse cart street',\n",
              " 'guy skateboard curb',\n",
              " 'table burrito plate plates food cups',\n",
              " 'plate meat ball sandwiches sauce',\n",
              " 'shore boats',\n",
              " 'THERE PIZZA ON THE COUNTER',\n",
              " 'train yard trains',\n",
              " 'man dirtbike dirt track',\n",
              " 'Man rain coat others city street',\n",
              " 'elephant food people',\n",
              " 'homemade pizza toppings piece paper',\n",
              " 'passenger train track trees',\n",
              " 'plate meal broccoli cheese',\n",
              " 'couple people ocean',\n",
              " 'person table plate food',\n",
              " 'room cot clothes',\n",
              " 'lion bottle',\n",
              " 'dog floor office area',\n",
              " 'clock side building',\n",
              " 'guys rackets ball',\n",
              " 'man surf board ocean',\n",
              " 'snowboarder snowy mountain slope',\n",
              " 'teams frisbee field',\n",
              " 'bird grass',\n",
              " 'view ivy stone wall train station',\n",
              " 'Stuffed animals flowers stone memorial',\n",
              " 'vintage photo woman bath tub',\n",
              " 'vase flower table',\n",
              " 'snowboarder ramp',\n",
              " 'plate beef broccoli',\n",
              " 'elephant pile food',\n",
              " 'bear area water',\n",
              " 'man ocean board',\n",
              " 'animals building',\n",
              " 'people pose picture',\n",
              " 'picture couch room',\n",
              " 'man shirt trick skateboard',\n",
              " 'street sign Steiner corner',\n",
              " 'couple street signs side road',\n",
              " 'group animals tree',\n",
              " 'plate club sandwich fries',\n",
              " 'Cat front computer screen keyboard',\n",
              " 'bathroom trash sink',\n",
              " 'Dued parking lot trick skateboard',\n",
              " 'man trunks beach people water',\n",
              " 'chair couch room',\n",
              " 'gas station toilet months',\n",
              " 'pair scissors hair tie hang hooks wall',\n",
              " 'bird ground worm mouth',\n",
              " 'couple giraffe field',\n",
              " 'airplane town',\n",
              " 'person parasail lake',\n",
              " 'group giraffe tree',\n",
              " 'woman room phone',\n",
              " 'woman something coffee table',\n",
              " 'van drives pavement row meters',\n",
              " 'group people kitchen',\n",
              " 'kitchen sink',\n",
              " 'Damaged car motorcycle accident street',\n",
              " 'man sidewalk bus background',\n",
              " 'couple people Frisbees',\n",
              " 'person persons hair',\n",
              " 'Small parts bathroom',\n",
              " 'Five sheep standing line herder',\n",
              " 'group people soccer players',\n",
              " 'Three boarders mountain slope',\n",
              " 'man baseball bat baseball game',\n",
              " 'kite',\n",
              " 'people run hill',\n",
              " 'sheep top stone wall',\n",
              " 'bus buildings car',\n",
              " 'group zebra field fence',\n",
              " 'man cork bottle',\n",
              " 'table plates food',\n",
              " 'refrigerator freezer washer dryer',\n",
              " 'Cellphone back vehicle',\n",
              " 'reason desk flower',\n",
              " 'herd cattle field',\n",
              " 'baseball player baseball outfield Birmingham',\n",
              " 'box doughnuts lines',\n",
              " 'man camera teeth',\n",
              " 'cats heads toilet',\n",
              " 'Zebras meander wildlife park',\n",
              " 'picture fire hydrangeas',\n",
              " 'woman statue bear',\n",
              " 'Breakfast pancakes cream drizzle caramel',\n",
              " 'giraffes tree giraffe',\n",
              " 'right direction sign',\n",
              " 'Bunches bananas fruit tables',\n",
              " 'cat graffiti sign',\n",
              " 'surfer sidewalk beach',\n",
              " 'couple men',\n",
              " 'man cake knife',\n",
              " 'bull dog bandana skateboard',\n",
              " 'woman motor bike truck',\n",
              " 'people giraffe',\n",
              " 'stone church clock tower city road',\n",
              " 'horse beach day',\n",
              " 'flowers vase window',\n",
              " 'cow top beach ocean',\n",
              " 'picture cooks animal',\n",
              " 'People horseback beach shore',\n",
              " 'man snowboard snow slope',\n",
              " 'cut half corn table fork',\n",
              " 'bowl food broccoli',\n",
              " 'boys kite',\n",
              " 'fighter jet display building',\n",
              " 'man pair scissors head',\n",
              " 'baseball player bat batters',\n",
              " 'woman shirt phone ear',\n",
              " 'People lift people',\n",
              " 'baseball players baseball field',\n",
              " 'elephant child giraffes lion',\n",
              " 'baseball player pants jersey pitch',\n",
              " 'Three women skis slope',\n",
              " 'street sign tents',\n",
              " 'Green bus lot buses',\n",
              " 'cell phone somebody hands everything',\n",
              " 'pair zebras enclosure',\n",
              " 'person jet ski water buildings',\n",
              " 'train bridge',\n",
              " 'man wine row wine glasses',\n",
              " 'man pink Frisbee',\n",
              " 'beach cloudless day dozens kites air',\n",
              " 'road sign destinations highway',\n",
              " 'tree lot oranges',\n",
              " 'man camera motorcycle',\n",
              " 'man trick skateboard park',\n",
              " 'person skis snow hill',\n",
              " 'sandwich greens plate',\n",
              " 'woman frisbee field',\n",
              " 'dog frisbee mouth dog beach',\n",
              " 'man jumps frisbee',\n",
              " 'office table desks area',\n",
              " 'hand piece sandwich',\n",
              " 'bowl fruits apples bananas',\n",
              " 'clock hand brick wall',\n",
              " 'Dark man sunglasses Frisbee',\n",
              " 'bed room bed',\n",
              " 'girls bed lamp',\n",
              " 'men pile gravel',\n",
              " 'laptop desk window',\n",
              " 'dog floor pair scissors floor',\n",
              " 'cat hiding bag floor pair scissors',\n",
              " 'grey park bench brick wall',\n",
              " 'baseball player ball field',\n",
              " 'couple men glasses wine',\n",
              " 'collection vegetables sits sink',\n",
              " 'lone train engine traffic signals',\n",
              " 'box donuts chocolate vanilla',\n",
              " 'group men women drinks restaurant',\n",
              " 'blender lid cord',\n",
              " 'Well businessman parking lot',\n",
              " ...]"
            ]
          },
          "metadata": {
            "tags": []
          },
          "execution_count": 119
        }
      ]
    },
    {
      "cell_type": "markdown",
      "metadata": {
        "id": "_PBXEQzngGnT",
        "colab_type": "text"
      },
      "source": [
        "# Cosine similarity # "
      ]
    },
    {
      "cell_type": "markdown",
      "metadata": {
        "id": "a62fK3-IeYmj",
        "colab_type": "text"
      },
      "source": [
        "## Cosine Similarity Analysis ##"
      ]
    },
    {
      "cell_type": "markdown",
      "metadata": {
        "id": "Ipkcc6xteCh_",
        "colab_type": "text"
      },
      "source": [
        "To understand how related these image captions are, we attempted to yield a generalised idea by finding its cosine similarity of nouns in each scene. "
      ]
    },
    {
      "cell_type": "markdown",
      "metadata": {
        "id": "luzT3BsBBa6R",
        "colab_type": "text"
      },
      "source": [
        "With the obtained list of lists which contains the nouns for each training set, we will now calculate the cosine similarity and plot a visual representation of how similar each captions are."
      ]
    },
    {
      "cell_type": "markdown",
      "metadata": {
        "id": "oiMmEMVjEY_S",
        "colab_type": "text"
      },
      "source": [
        "We will first construct a document-term matrix. \n"
      ]
    },
    {
      "cell_type": "code",
      "metadata": {
        "id": "5iFgMQzJEaEJ",
        "colab_type": "code",
        "colab": {}
      },
      "source": [
        "# Define the bag of captions \n",
        "import numpy as np\n",
        "captions = filter(filter_nouns(train_captions))"
      ],
      "execution_count": 0,
      "outputs": []
    },
    {
      "cell_type": "code",
      "metadata": {
        "id": "D_ObHSxkEfZr",
        "colab_type": "code",
        "outputId": "273302d4-4510-4f29-a55b-5a528f2e47a8",
        "colab": {
          "base_uri": "https://localhost:8080/",
          "height": 272
        }
      },
      "source": [
        "# import appropriate models\n",
        "from sklearn.feature_extraction.text import TfidfVectorizer\n",
        "import pandas as pd\n",
        "\n",
        "def construct_matrix(document):   \n",
        "    # Create the Document Term Matrix\n",
        "    count_vectorizer = TfidfVectorizer(stop_words='english')\n",
        "    count_vectorizer = TfidfVectorizer()\n",
        "    \n",
        "    # Define the matrix\n",
        "    sparse_matrix = count_vectorizer.fit_transform(document)\n",
        "\n",
        "    #  Convert Sparse Matrix to Pandas Dataframe to see the word frequencies.\n",
        "    doc_term_matrix = sparse_matrix.todense()\n",
        "    \n",
        "    #  Label each row with the appropriate caption\n",
        "    count = 0\n",
        "    numbers = []\n",
        "    while count < len(document):\n",
        "        count += 1\n",
        "        numbers = [*numbers, \"Caption {}\".format(len(numbers) + 1)]\n",
        "    \n",
        "    df = pd.DataFrame(doc_term_matrix, \n",
        "                  columns=count_vectorizer.get_feature_names(), \n",
        "                  index=[x for x in numbers]) \n",
        "    return df\n",
        "\n",
        "matrix = construct_matrix(captions)\n",
        "observations = np.shape(matrix)[0]\n",
        "features = np.shape(matrix)[1]\n",
        "\n",
        "print(\"The data has {} observations and {} features.\".format(observations, \\\n",
        "                                                             features))\n",
        "print(matrix)"
      ],
      "execution_count": 0,
      "outputs": [
        {
          "output_type": "stream",
          "text": [
            "The data has 13000 observations and 3900 features.\n",
            "                51  aarons  abandon  accent  ...  zipper  zone  zoo  zucchini\n",
            "Caption 1      0.0     0.0      0.0     0.0  ...     0.0   0.0  0.0       0.0\n",
            "Caption 2      0.0     0.0      0.0     0.0  ...     0.0   0.0  0.0       0.0\n",
            "Caption 3      0.0     0.0      0.0     0.0  ...     0.0   0.0  0.0       0.0\n",
            "Caption 4      0.0     0.0      0.0     0.0  ...     0.0   0.0  0.0       0.0\n",
            "Caption 5      0.0     0.0      0.0     0.0  ...     0.0   0.0  0.0       0.0\n",
            "...            ...     ...      ...     ...  ...     ...   ...  ...       ...\n",
            "Caption 12996  0.0     0.0      0.0     0.0  ...     0.0   0.0  0.0       0.0\n",
            "Caption 12997  0.0     0.0      0.0     0.0  ...     0.0   0.0  0.0       0.0\n",
            "Caption 12998  0.0     0.0      0.0     0.0  ...     0.0   0.0  0.0       0.0\n",
            "Caption 12999  0.0     0.0      0.0     0.0  ...     0.0   0.0  0.0       0.0\n",
            "Caption 13000  0.0     0.0      0.0     0.0  ...     0.0   0.0  0.0       0.0\n",
            "\n",
            "[13000 rows x 3900 columns]\n"
          ],
          "name": "stdout"
        }
      ]
    },
    {
      "cell_type": "markdown",
      "metadata": {
        "id": "9DgGIjtGvsQa",
        "colab_type": "text"
      },
      "source": [
        "Now that we have successfully generated a document term matrix, we will compute the cosine similarity and display the output, using sklearn.metrics."
      ]
    },
    {
      "cell_type": "code",
      "metadata": {
        "id": "tB1aXPJEEgn9",
        "colab_type": "code",
        "outputId": "7736e85e-f2e2-4300-e5fb-7a811ed4bb30",
        "colab": {
          "base_uri": "https://localhost:8080/",
          "height": 136
        }
      },
      "source": [
        "# Compute Cosine Similarity\n",
        "from sklearn.metrics.pairwise import cosine_similarity\n",
        "\n",
        "cos_sim = cosine_similarity(matrix, matrix)\n",
        "# print(np.shape(cos_sim))\n",
        "print(cos_sim)"
      ],
      "execution_count": 0,
      "outputs": [
        {
          "output_type": "stream",
          "text": [
            "[[1. 0. 0. ... 0. 0. 0.]\n",
            " [0. 1. 0. ... 0. 0. 0.]\n",
            " [0. 0. 1. ... 0. 0. 0.]\n",
            " ...\n",
            " [0. 0. 0. ... 1. 0. 0.]\n",
            " [0. 0. 0. ... 0. 1. 0.]\n",
            " [0. 0. 0. ... 0. 0. 1.]]\n"
          ],
          "name": "stdout"
        }
      ]
    },
    {
      "cell_type": "markdown",
      "metadata": {
        "id": "mEHMm5DgwKmT",
        "colab_type": "text"
      },
      "source": [
        "We will visualise this computed cosine similarity matrix by clustering in terms of k-means.\n",
        "\n",
        "Before that, we will do a principle component analysis to reduce the dimensions of the data, and find the optimal clusters."
      ]
    },
    {
      "cell_type": "code",
      "metadata": {
        "id": "_lXECgreAqsX",
        "colab_type": "code",
        "outputId": "698fa03c-2422-486a-884a-505c1e6838bc",
        "colab": {
          "base_uri": "https://localhost:8080/",
          "height": 278
        }
      },
      "source": [
        "# Imports\n",
        "from sklearn.cluster import KMeans\n",
        "from sklearn.decomposition import PCA\n",
        "from sklearn.preprocessing import StandardScaler\n",
        "%config InlineBackend.figure_format='retina'\n",
        "\n",
        "# Load in the data\n",
        "df = cosine_similarity(matrix, matrix)\n",
        "# Standardize the data to have a mean of ~0 and a variance of 1\n",
        "X_std = StandardScaler().fit_transform(df)\n",
        "# Create a PCA instance: pca\n",
        "pca = PCA(n_components=10)\n",
        "principalComponents = pca.fit_transform(X_std)\n",
        "# Plot the explained variances\n",
        "features = range(pca.n_components_)\n",
        "plt.bar(features, pca.explained_variance_ratio_, color='red')\n",
        "plt.xlabel('PCA features')\n",
        "plt.ylabel('variance %')\n",
        "plt.xticks(features)\n",
        "# Save components to a DataFrame\n",
        "PCA_components = pd.DataFrame(principalComponents)"
      ],
      "execution_count": 0,
      "outputs": [
        {
          "output_type": "display_data",
          "data": {
            "image/png": "[encoded data removed]",
            "text/plain": [
              "<Figure size 432x288 with 1 Axes>"
            ]
          },
          "metadata": {
            "tags": [],
            "image/png": {
              "width": 392,
              "height": 261
            }
          }
        }
      ]
    },
    {
      "cell_type": "markdown",
      "metadata": {
        "id": "jZWysz1nCh_N",
        "colab_type": "text"
      },
      "source": [
        "Here we see a variance drop after the first component."
      ]
    },
    {
      "cell_type": "code",
      "metadata": {
        "id": "Yrz6h3ZEBE9U",
        "colab_type": "code",
        "outputId": "ae03cae3-a62a-4d21-a073-64b92024ca95",
        "colab": {
          "base_uri": "https://localhost:8080/",
          "height": 295
        }
      },
      "source": [
        "plt.scatter(PCA_components[0], PCA_components[1], alpha=.1, color='red')\n",
        "plt.xlabel('PCA 1')\n",
        "plt.ylabel('PCA 2')"
      ],
      "execution_count": 0,
      "outputs": [
        {
          "output_type": "execute_result",
          "data": {
            "text/plain": [
              "Text(0, 0.5, 'PCA 2')"
            ]
          },
          "metadata": {
            "tags": []
          },
          "execution_count": 12
        },
        {
          "output_type": "display_data",
          "data": {
            "image/png": "[encoded data removed]",
            "text/plain": [
              "<Figure size 432x288 with 1 Axes>"
            ]
          },
          "metadata": {
            "tags": [],
            "image/png": {
              "width": 390,
              "height": 261
            }
          }
        }
      ]
    },
    {
      "cell_type": "markdown",
      "metadata": {
        "id": "gQCoMcdwE09b",
        "colab_type": "text"
      },
      "source": [
        "We must find the sum of squared distances of samples to their closest cluster center to determine the optimal clustering."
      ]
    },
    {
      "cell_type": "code",
      "metadata": {
        "id": "9__A3QqTBKuC",
        "colab_type": "code",
        "outputId": "cd9ae284-23b7-43b6-8fcc-d0bf9ce734d9",
        "colab": {
          "base_uri": "https://localhost:8080/",
          "height": 289
        }
      },
      "source": [
        "ks = range(1, 10)\n",
        "inertias = []\n",
        "for k in ks:\n",
        "    # Create a KMeans instance with k clusters: model\n",
        "    model = KMeans(n_clusters=k)\n",
        "    \n",
        "    # Fit model to samples\n",
        "    model.fit(PCA_components.iloc[:,:3])\n",
        "    \n",
        "    # Append the inertia to the list of inertias\n",
        "    inertias.append(model.inertia_)\n",
        "    \n",
        "plt.plot(ks, inertias, '-o', color='blue')\n",
        "plt.xlabel('no. clusters, k')\n",
        "plt.ylabel('inertia')\n",
        "plt.xticks(ks)\n",
        "plt.show()"
      ],
      "execution_count": 0,
      "outputs": [
        {
          "output_type": "display_data",
          "data": {
            "image/png": "[encoded data removed]",
            "text/plain": [
              "<Figure size 432x288 with 1 Axes>"
            ]
          },
          "metadata": {
            "tags": [],
            "image/png": {
              "width": 392,
              "height": 272
            }
          }
        }
      ]
    },
    {
      "cell_type": "markdown",
      "metadata": {
        "id": "L-cKvfOcBU8r",
        "colab_type": "text"
      },
      "source": [
        "We see an elbow point at around 2~3 clusters. We will use 2 clusters as our optimal number of clusters."
      ]
    },
    {
      "cell_type": "code",
      "metadata": {
        "id": "K5BBU-kmCEv_",
        "colab_type": "code",
        "outputId": "3d57fb50-5a74-469c-eb37-7cbeb19f3475",
        "colab": {
          "base_uri": "https://localhost:8080/",
          "height": 265
        }
      },
      "source": [
        "kmeans = KMeans(n_clusters=3, init='k-means++', max_iter=300, n_init=10, random_state=0)\n",
        "pred_y = kmeans.fit_predict(df)\n",
        "plt.scatter(df[:,0], df[:,1])\n",
        "plt.scatter(kmeans.cluster_centers_[:, 0], kmeans.cluster_centers_[:, 1], s=200, c='red')\n",
        "plt.show()"
      ],
      "execution_count": 0,
      "outputs": [
        {
          "output_type": "display_data",
          "data": {
            "image/png": "[encoded data removed]",
            "text/plain": [
              "<Figure size 432x288 with 1 Axes>"
            ]
          },
          "metadata": {
            "tags": [],
            "image/png": {
              "width": 372,
              "height": 248
            }
          }
        }
      ]
    },
    {
      "cell_type": "markdown",
      "metadata": {
        "id": "ZS_hmMCkv95I",
        "colab_type": "text"
      },
      "source": [
        "## Matthew edit this box and please expand on the analysis. ##\n",
        "\n",
        "From the plots, most of the data are heavily centered away, so the scenes are not as similar. \n"
      ]
    },
    {
      "cell_type": "markdown",
      "metadata": {
        "id": "BHp9duXWE9BE",
        "colab_type": "text"
      },
      "source": [
        "## Predicting Nouns with similarity##\n",
        "\n",
        "Now, we will use a Topic Modelling Gensim Library to train, and and map out the similar nouns, despite the dissimilarity. We will compare this with cosine similarity and map out a visual representation.\n",
        "\n",
        "We will treat each caption as the documents, and then the nouns within those captions as a bag of words. Using this we will construct a function to add tags to the document, and train it. \n"
      ]
    },
    {
      "cell_type": "code",
      "metadata": {
        "id": "jKIQTFPy1UMV",
        "colab_type": "code",
        "colab": {}
      },
      "source": [
        "import gensim"
      ],
      "execution_count": 0,
      "outputs": []
    },
    {
      "cell_type": "code",
      "metadata": {
        "id": "vkvcjTgS03UY",
        "colab_type": "code",
        "colab": {}
      },
      "source": [
        "def read_corpus(f, tokens_only=False):\n",
        "    for i, line in enumerate(f):\n",
        "        tokens = gensim.utils.simple_preprocess(line)\n",
        "        if tokens_only:\n",
        "            yield tokens\n",
        "        else:\n",
        "            # For training data, add tags\n",
        "            yield gensim.models.doc2vec.TaggedDocument(tokens, [i])"
      ],
      "execution_count": 0,
      "outputs": []
    },
    {
      "cell_type": "markdown",
      "metadata": {
        "id": "QKavY2lWB6gq",
        "colab_type": "text"
      },
      "source": [
        "We will limit the data and use 1000, as larger data with high varying degrees of similarity may cause a very long runtime."
      ]
    },
    {
      "cell_type": "code",
      "metadata": {
        "id": "ffasnqmP0437",
        "colab_type": "code",
        "outputId": "e2f6c859-eb4e-4b39-9478-b0b3549fbf20",
        "colab": {
          "base_uri": "https://localhost:8080/",
          "height": 54
        }
      },
      "source": [
        "R = list(read_corpus(captions))\n",
        "r = R[:1000]\n",
        "\n",
        "print(r)"
      ],
      "execution_count": 187,
      "outputs": [
        {
          "output_type": "stream",
          "text": [
            "[TaggedDocument(words=['skateboarder', 'trick', 'skateboard', 'ramp'], tags=[0]), TaggedDocument(words=['person', 'air', 'skis'], tags=[1]), TaggedDocument(words=['wood', 'door', 'boards'], tags=[2]), TaggedDocument(words=['do', 'enter', 'sign', 'road', 'stadium'], tags=[3]), TaggedDocument(words=['small', 'child', 'chair', 'plate'], tags=[4]), TaggedDocument(words=['groups', 'people', 'toilet', 'area'], tags=[5]), TaggedDocument(words=['hand', 'cellphone'], tags=[6]), TaggedDocument(words=['people', 'computers', 'student', 'room'], tags=[7]), TaggedDocument(words=['birds', 'field'], tags=[8]), TaggedDocument(words=['man', 'cell', 'phone', 'park'], tags=[9]), TaggedDocument(words=['group', 'men', 'table', 'microphones', 'speech'], tags=[10]), TaggedDocument(words=['bathroom', 'toilet', 'sprayer', 'wall'], tags=[11]), TaggedDocument(words=['woman', 'bench', 'phone'], tags=[12]), TaggedDocument(words=['woman', 'clock', 'purse', 'market'], tags=[13]), TaggedDocument(words=['surfer', 'hand', 'signal'], tags=[14]), TaggedDocument(words=['cat', 'asphalt'], tags=[15]), TaggedDocument(words=['carrots', 'cut', 'squash', 'carrots'], tags=[16]), TaggedDocument(words=['traffic', 'lights', 'intersection', 'world'], tags=[17]), TaggedDocument(words=['man', 'goatee', 'backseat', 'vehicle', 'luggage'], tags=[18]), TaggedDocument(words=['street', 'sign', 'intersection', 'beacon', 'ave', 'stevens', 'st'], tags=[19]), TaggedDocument(words=['kid', 'skateboard', 'kid'], tags=[20]), TaggedDocument(words=['apple', 'clock', 'display'], tags=[21]), TaggedDocument(words=['bunch', 'color', 'watches', 'table'], tags=[22]), TaggedDocument(words=['man', 'suit', 'standing', 'front', 'stove'], tags=[23]), TaggedDocument(words=['pizzas', 'sauce', 'cheese', 'table'], tags=[24]), TaggedDocument(words=['variety', 'vegetables', 'sticks', 'tray', 'control'], tags=[25]), TaggedDocument(words=['bus', 'road', 'driver'], tags=[26]), TaggedDocument(words=['pizza', 'cut', 'pieces', 'top', 'counter'], tags=[27]), TaggedDocument(words=['plate', 'breakfast', 'food', 'eggs', 'toast', 'hash', 'browns'], tags=[28]), TaggedDocument(words=['transit', 'bus', 'lot'], tags=[29]), TaggedDocument(words=['man', 'air', 'skateboard'], tags=[30]), TaggedDocument(words=['ground', 'plane'], tags=[31]), TaggedDocument(words=['person', 'bananas', 'back'], tags=[32]), TaggedDocument(words=['three', 'zebras', 'field', 'grass'], tags=[33]), TaggedDocument(words=['couple', 'pieces', 'toast', 'cup', 'syrup'], tags=[34]), TaggedDocument(words=['many', 'dishes', 'people'], tags=[35]), TaggedDocument(words=['herd', 'wire', 'fence'], tags=[36]), TaggedDocument(words=['slice', 'pizza', 'cheese', 'crust'], tags=[37]), TaggedDocument(words=['herd', 'cows', 'field'], tags=[38]), TaggedDocument(words=['paper', 'plate', 'dog', 'sandwich', 'cream', 'cheese'], tags=[39]), TaggedDocument(words=['baby', 'boy', 'room', 'baby', 'doll'], tags=[40]), TaggedDocument(words=['man', 'woman', 'tennis', 'rackets', 'court'], tags=[41]), TaggedDocument(words=['bus', 'side', 'man', 'storage', 'bus'], tags=[42]), TaggedDocument(words=['girl', 'man', 'tie'], tags=[43]), TaggedDocument(words=['baseball', 'player', 'bat', 'game'], tags=[44]), TaggedDocument(words=['man', 'ocean', 'waters', 'waves'], tags=[45]), TaggedDocument(words=['couple', 'women', 'top', 'tennis', 'court'], tags=[46]), TaggedDocument(words=['zebra'], tags=[47]), TaggedDocument(words=['clock', 'side', 'beige', 'bell', 'tower'], tags=[48]), TaggedDocument(words=['bear', 'teeth', 'camera'], tags=[49]), TaggedDocument(words=['remote', 'sink', 'room'], tags=[50]), TaggedDocument(words=['bathroom', 'sink', 'mirror', 'toilet', 'tub'], tags=[51]), TaggedDocument(words=['passenger', 'train', 'platform'], tags=[52]), TaggedDocument(words=['group', 'people', 'restaurant', 'table'], tags=[53]), TaggedDocument(words=['men', 'glasses'], tags=[54]), TaggedDocument(words=['woman', 'slice', 'pizza', 'cheese'], tags=[55]), TaggedDocument(words=['motor', 'bike', 'side', 'road'], tags=[56]), TaggedDocument(words=['plate', 'foods', 'cheeses'], tags=[57]), TaggedDocument(words=['donuts', 'cell', 'phone', 'table'], tags=[58]), TaggedDocument(words=['six', 'plastic', 'containers', 'vegetables'], tags=[59]), TaggedDocument(words=['horse', 'standing', 'front', 'portrait', 'village'], tags=[60]), TaggedDocument(words=['women', 'hill'], tags=[61]), TaggedDocument(words=['man', 'glasses', 'suit', 'vest'], tags=[62]), TaggedDocument(words=['kitchen', 'counters', 'chrome', 'microwave', 'backsplash'], tags=[63]), TaggedDocument(words=['retriever', 'dog', 'desk'], tags=[64]), TaggedDocument(words=['dog', 'leash', 'reflection', 'door'], tags=[65]), TaggedDocument(words=['giraffe', 'umbrella'], tags=[66]), TaggedDocument(words=['skier', 'blue', 'jacket', 'goggles'], tags=[67]), TaggedDocument(words=['skier', 'view', 'mountain', 'top'], tags=[68]), TaggedDocument(words=['truck', 'highway'], tags=[69]), TaggedDocument(words=['batter', 'plate', 'swing', 'pitch'], tags=[70]), TaggedDocument(words=['train', 'towards', 'train', 'station'], tags=[71]), TaggedDocument(words=['people', 'baggage', 'claim', 'area', 'airport'], tags=[72]), TaggedDocument(words=['bride', 'groom', 'wedding', 'cake'], tags=[73]), TaggedDocument(words=['parking', 'meters', 'front', 'spaces', 'lot'], tags=[74]), TaggedDocument(words=['bunch', 'road', 'signs', 'side', 'road'], tags=[75]), TaggedDocument(words=['plate', 'food', 'table', 'pitchers'], tags=[76]), TaggedDocument(words=['laptop', 'desk', 'coke', 'bottle', 'apple', 'monitor'], tags=[77]), TaggedDocument(words=['person', 'skis', 'lays', 'snow', 'legs'], tags=[78]), TaggedDocument(words=['cars', 'street', 'traffic', 'light'], tags=[79]), TaggedDocument(words=['people', 'tables', 'outdoors'], tags=[80]), TaggedDocument(words=['giraffe', 'boulder', 'wall'], tags=[81]), TaggedDocument(words=['leather', 'chair', 'book', 'arm'], tags=[82]), TaggedDocument(words=['group', 'cross', 'country', 'skiiers', 'race'], tags=[83]), TaggedDocument(words=['table', 'plates', 'food'], tags=[84]), TaggedDocument(words=['couple', 'animals', 'day'], tags=[85]), TaggedDocument(words=['man', 'tie', 'front', 'mirror'], tags=[86]), TaggedDocument(words=['cat', 'piece', 'luggage'], tags=[87]), TaggedDocument(words=['elephant', 'background', 'monkey', 'sides'], tags=[88]), TaggedDocument(words=['man', 'tennis', 'ball'], tags=[89]), TaggedDocument(words=['bathroom', 'door'], tags=[90]), TaggedDocument(words=['bar', 'blender', 'liquid'], tags=[91]), TaggedDocument(words=['girafee', 'top', 'tree', 'girafee'], tags=[92]), TaggedDocument(words=['clock', 'tower', 'towering', 'city'], tags=[93]), TaggedDocument(words=['man', 'motor', 'cycle', 'saddle', 'bags'], tags=[94]), TaggedDocument(words=['mug', 'keyboard', 'desk'], tags=[95]), TaggedDocument(words=['man', 'drives', 'horse', 'carriage'], tags=[96]), TaggedDocument(words=['zebras', 'side', 'side', 'grass'], tags=[97]), TaggedDocument(words=['inside', 'apartment', 'door', 'chairs', 'refrigerator'], tags=[98]), TaggedDocument(words=['bathroom', 'beige', 'flooring', 'walls'], tags=[99]), TaggedDocument(words=['glass', 'pan', 'sauce', 'zucchini'], tags=[100]), TaggedDocument(words=['child', 'skis', 'cable'], tags=[101]), TaggedDocument(words=['baseball', 'pitcher', 'motion', 'ball', 'fingers'], tags=[102]), TaggedDocument(words=['zebra', 'drinking', 'pond'], tags=[103]), TaggedDocument(words=['apple', 'grapes', 'kiwi', 'bowl'], tags=[104]), TaggedDocument(words=['sitting', 'table', 'papers', 'cups'], tags=[105]), TaggedDocument(words=['hill', 'skier', 'bottom'], tags=[106]), TaggedDocument(words=['passenger', 'train', 'station'], tags=[107]), TaggedDocument(words=['train', 'amount', 'pollution', 'traveling', 'train', 'station'], tags=[108]), TaggedDocument(words=['waterway', 'navigation'], tags=[109]), TaggedDocument(words=['couple', 'ripe', 'bananas', 'top', 'table'], tags=[110]), TaggedDocument(words=['person', 'tennis', 'racket', 'tennis', 'tennis', 'court'], tags=[111]), TaggedDocument(words=['woman', 'sky', 'man'], tags=[112]), TaggedDocument(words=['bus', 'flag', 'front'], tags=[113]), TaggedDocument(words=['motorcycles', 'line', 'walls', 'room'], tags=[114]), TaggedDocument(words=['bedroom', 'walls', 'bed', 'desk'], tags=[115]), TaggedDocument(words=['woman', 'racquet'], tags=[116]), TaggedDocument(words=['girl', 'surf', 'board', 'water'], tags=[117]), TaggedDocument(words=['beds', 'closet', 'room'], tags=[118]), TaggedDocument(words=['dessert', 'sample', 'plate', 'chocolate', 'cake', 'strawberry', 'ice', 'cream'], tags=[119]), TaggedDocument(words=['man', 'woman', 'hug', 'park', 'bench'], tags=[120]), TaggedDocument(words=['kitten', 'mirror', 'room'], tags=[121]), TaggedDocument(words=['three', 'ambulances', 'row', 'parking', 'lot'], tags=[122]), TaggedDocument(words=['living', 'room', 'man'], tags=[123]), TaggedDocument(words=['couple', 'people', 'horse'], tags=[124]), TaggedDocument(words=['shell', 'pasta', 'beef', 'broccoli', 'hunk', 'bread'], tags=[125]), TaggedDocument(words=['plate', 'meat', 'potatoes', 'broccolli'], tags=[126]), TaggedDocument(words=['woman', 'book', 'library'], tags=[127]), TaggedDocument(words=['bathtub', 'combination', 'hand', 'shower', 'cradle'], tags=[128]), TaggedDocument(words=['dogs', 'sidewalk', 'horse', 'passes'], tags=[129]), TaggedDocument(words=['man', 'bathroom'], tags=[130]), TaggedDocument(words=['air', 'canada', 'flight', 'sky'], tags=[131]), TaggedDocument(words=['batter', 'pitch', 'baseball', 'game'], tags=[132]), TaggedDocument(words=['pieces', 'cake', 'plates', 'table'], tags=[133]), TaggedDocument(words=['many', 'sheep', 'field', 'ones'], tags=[134]), TaggedDocument(words=['set', 'baskets', 'top', 'table'], tags=[135]), TaggedDocument(words=['computer', 'mouse', 'keyboard', 'table'], tags=[136]), TaggedDocument(words=['baseball', 'player', 'bat', 'game'], tags=[137]), TaggedDocument(words=['man', 'boy', 'tennis', 'tennis', 'court'], tags=[138]), TaggedDocument(words=['three', 'cups', 'saucers', 'gold', 'post'], tags=[139]), TaggedDocument(words=['group', 'wine', 'glasses', 'wine'], tags=[140]), TaggedDocument(words=['woman', 'table', 'plate', 'food', 'front'], tags=[141]), TaggedDocument(words=['bus', 'sign', 'side'], tags=[142]), TaggedDocument(words=['boys', 'tennis', 'court', 'basket', 'tennis', 'balls'], tags=[143]), TaggedDocument(words=['water', 'hydrant', 'police', 'cars', 'background'], tags=[144]), TaggedDocument(words=['book', 'bag', 'stairs'], tags=[145]), TaggedDocument(words=['group', 'people', 'bus'], tags=[146]), TaggedDocument(words=['man', 'teeth', 'bathroom'], tags=[147]), TaggedDocument(words=['man', 'wii', 'front', 'christmas', 'tree'], tags=[148]), TaggedDocument(words=['children', 'grandmother', 'bake', 'bread'], tags=[149]), TaggedDocument(words=['group', 'plates', 'donuts'], tags=[150]), TaggedDocument(words=['cat', 'wood', 'statue'], tags=[151]), TaggedDocument(words=['baseball', 'pitcher', 'baseball', 'pitchers', 'mound'], tags=[152]), TaggedDocument(words=['person', 'beach'], tags=[153]), TaggedDocument(words=['round', 'bed', 'room', 'walls', 'sheets'], tags=[154]), TaggedDocument(words=['bathroom', 'transportation'], tags=[155]), TaggedDocument(words=['cars', 'light', 'evening'], tags=[156]), TaggedDocument(words=['utility', 'truck', 'passing', 'people'], tags=[157]), TaggedDocument(words=['refrigerator', 'lot', 'things'], tags=[158]), TaggedDocument(words=['hotdog', 'bun', 'bottle', 'water', 'table'], tags=[159]), TaggedDocument(words=['woman', 'glasses', 'video', 'game', 'remote', 'hands'], tags=[160]), TaggedDocument(words=['man', 'skateboard', 'ramp'], tags=[161]), TaggedDocument(words=['object', 'photo'], tags=[162]), TaggedDocument(words=['woman', 'shirt', 'jeans', 'sits', 'park', 'bench', 'cell'], tags=[163]), TaggedDocument(words=['group', 'sailors', 'celebrating', 'something', 'people', 'cake'], tags=[164]), TaggedDocument(words=['picture', 'alaska', 'airlines', 'jumbo', 'jet', 'flight'], tags=[165]), TaggedDocument(words=['pizza', 'toppings'], tags=[166]), TaggedDocument(words=['many', 'signs', 'chain', 'link', 'fence', 'fire', 'hydrant'], tags=[167]), TaggedDocument(words=['sheep', 'middle', 'grass'], tags=[168]), TaggedDocument(words=['person', 'cake', 'lot', 'kids'], tags=[169]), TaggedDocument(words=['large', 'airplane', 'sky'], tags=[170]), TaggedDocument(words=['dog', 'furniture', 'background'], tags=[171]), TaggedDocument(words=['boy', 'tennis', 'ball', 'racket'], tags=[172]), TaggedDocument(words=['cat', 'front', 'window', 'grass'], tags=[173]), TaggedDocument(words=['hotel', 'room', 'swans', 'heart', 'bottom'], tags=[174]), TaggedDocument(words=['person', 'top'], tags=[175]), TaggedDocument(words=['group', 'motorcycles', 'display', 'room'], tags=[176]), TaggedDocument(words=['workers', 'luggage', 'passenger', 'jet'], tags=[177]), TaggedDocument(words=['cars', 'road', 'street', 'lights'], tags=[178]), TaggedDocument(words=['three', 'men', 'elephant', 'car', 'behind'], tags=[179]), TaggedDocument(words=['group', 'horses', 'dirt', 'field'], tags=[180]), TaggedDocument(words=['window', 'glass', 'shower', 'stall', 'bathroom', 'bright'], tags=[181]), TaggedDocument(words=['group', 'vases', 'counter'], tags=[182]), TaggedDocument(words=['motor', 'cycle', 'cop', 'truck'], tags=[183]), TaggedDocument(words=['cat', 'book'], tags=[184]), TaggedDocument(words=['woman', 'food'], tags=[185]), TaggedDocument(words=['room', 'window'], tags=[186]), TaggedDocument(words=['suitcase', 'clothing', 'floor', 'indoors'], tags=[187]), TaggedDocument(words=['police', 'officers', 'horse', 'street'], tags=[188]), TaggedDocument(words=['pile', 'produce', 'top', 'table'], tags=[189]), TaggedDocument(words=['zebra', 'field'], tags=[190]), TaggedDocument(words=['bathroom', 'mirror', 'sinks'], tags=[191]), TaggedDocument(words=['six', 'dollar', 'bills', 'phone'], tags=[192]), TaggedDocument(words=['view', 'laptop'], tags=[193]), TaggedDocument(words=['desk', 'laptop', 'monitor'], tags=[194]), TaggedDocument(words=['woman', 'book', 'airplane'], tags=[195]), TaggedDocument(words=['sign', 'beneath', 'stand', 'tree'], tags=[196]), TaggedDocument(words=['giraffes', 'field'], tags=[197]), TaggedDocument(words=['boy', 'skate', 'board', 'park'], tags=[198]), TaggedDocument(words=['woman', 'mask', 'someone', 'airplane'], tags=[199]), TaggedDocument(words=['tennis', 'player', 'racket', 'stares', 'thought'], tags=[200]), TaggedDocument(words=['red', 'airplane', 'airport'], tags=[201]), TaggedDocument(words=['dog', 'cage', 'motocycle'], tags=[202]), TaggedDocument(words=['dog', 'bed', 'slats'], tags=[203]), TaggedDocument(words=['couple', 'school', 'buses', 'dirt'], tags=[204]), TaggedDocument(words=['three', 'skiers', 'winter', 'gear', 'mountain', 'slope'], tags=[205]), TaggedDocument(words=['vendor', 'front', 'fruit'], tags=[206]), TaggedDocument(words=['tour', 'bus', 'middle', 'parking', 'lot'], tags=[207]), TaggedDocument(words=['person', 'flies', 'kite'], tags=[208]), TaggedDocument(words=['sheep', 'dirt', 'field'], tags=[209]), TaggedDocument(words=['group', 'bikers', 'highway'], tags=[210]), TaggedDocument(words=['row', 'urinals', 'line', 'wall', 'men', 'bathroom'], tags=[211]), TaggedDocument(words=['cooks', 'kitchen', 'food'], tags=[212]), TaggedDocument(words=['people', 'side', 'side', 'wearign', 'ballerina', 'shoes'], tags=[213]), TaggedDocument(words=['man', 'toddler', 'front', 'body', 'board'], tags=[214]), TaggedDocument(words=['style', 'living', 'room'], tags=[215]), TaggedDocument(words=['stuffed', 'bear', 'tree'], tags=[216]), TaggedDocument(words=['carrots', 'oranges', 'board'], tags=[217]), TaggedDocument(words=['passenger', 'jet', 'sky'], tags=[218]), TaggedDocument(words=['men', 'ties', 'way'], tags=[219]), TaggedDocument(words=['table', 'clock', 'bottles'], tags=[220]), TaggedDocument(words=['photo', 'dingy', 'bathroom', 'toilet'], tags=[221]), TaggedDocument(words=['cat', 'food', 'dish'], tags=[222]), TaggedDocument(words=['attractvie', 'lady', 'bikini', 'sits', 'towel', 'beach'], tags=[223]), TaggedDocument(words=['seagulls', 'ocean'], tags=[224]), TaggedDocument(words=['man', 'trench', 'coat', 'kite'], tags=[225]), TaggedDocument(words=['vases', 'window', 'ledge', 'day'], tags=[226]), TaggedDocument(words=['bananas', 'pears', 'lemons', 'fruit'], tags=[227]), TaggedDocument(words=['neckties', 'circumference', 'pole'], tags=[228]), TaggedDocument(words=['lot', 'suitcase', 'side', 'building'], tags=[229]), TaggedDocument(words=['baby', 'top', 'baby', 'elephant'], tags=[230]), TaggedDocument(words=['woman', 'dishes', 'kitchen'], tags=[231]), TaggedDocument(words=['child', 'piece', 'paper', 'scissors'], tags=[232]), TaggedDocument(words=['rancher', 'cowboy', 'hat'], tags=[233]), TaggedDocument(words=['child', 'food', 'plate'], tags=[234]), TaggedDocument(words=['family', 'giraffe', 'standing', 'front', 'building', 'baby', 'deer'], tags=[235]), TaggedDocument(words=['slice', 'pizza', 'knife', 'board'], tags=[236]), TaggedDocument(words=['man', 'cake', 'children', 'birthday', 'party'], tags=[237]), TaggedDocument(words=['service', 'bus', 'street'], tags=[238]), TaggedDocument(words=['playing', 'board'], tags=[239]), TaggedDocument(words=['blue', 'airplane', 'airport', 'runway'], tags=[240]), TaggedDocument(words=['silver', 'pasenger', 'trains', 'side', 'side'], tags=[241]), TaggedDocument(words=['image', 'steer', 'horns'], tags=[242]), TaggedDocument(words=['picture', 'boats', 'water'], tags=[243]), TaggedDocument(words=['giraffes', 'savanna', 'baobab', 'tree'], tags=[244]), TaggedDocument(words=['view', 'shop', 'clock', 'door'], tags=[245]), TaggedDocument(words=['boy', 'kitchen', 'pizza'], tags=[246]), TaggedDocument(words=['man', 'skateboard', 'ramp'], tags=[247]), TaggedDocument(words=['pizza', 'top', 'metal', 'counter'], tags=[248]), TaggedDocument(words=['bank', 'street', 'corner', 'clock', 'building'], tags=[249]), TaggedDocument(words=['fruit', 'yogurt', 'bowl', 'salad'], tags=[250]), TaggedDocument(words=['plant', 'shelf', 'window'], tags=[251]), TaggedDocument(words=['bathroom'], tags=[252]), TaggedDocument(words=['cat', 'bench'], tags=[253]), TaggedDocument(words=['inside', 'kitchen', 'door'], tags=[254]), TaggedDocument(words=['couple', 'stuffed', 'bears'], tags=[255]), TaggedDocument(words=['night', 'time', 'street', 'sign', 'pole'], tags=[256]), TaggedDocument(words=['couple', 'smiling', 'wine', 'glasses'], tags=[257]), TaggedDocument(words=['dish', 'broccoli', 'summer', 'squash', 'sits', 'table'], tags=[258]), TaggedDocument(words=['man', 'hill', 'snowboard'], tags=[259]), TaggedDocument(words=['guy', 'board', 'wave'], tags=[260]), TaggedDocument(words=['green', 'decker', 'bus', 'attendant', 'front'], tags=[261]), TaggedDocument(words=['man', 'home', 'plate', 'baseball', 'uniform'], tags=[262]), TaggedDocument(words=['meal', 'bread', 'vegetables', 'plate'], tags=[263]), TaggedDocument(words=['man', 'swings', 'tennis', 'racket', 'ball'], tags=[264]), TaggedDocument(words=['green', 'bananas', 'grapefruit', 'pot', 'flowers'], tags=[265]), TaggedDocument(words=['car', 'thats', 'front', 'fire', 'hydrant'], tags=[266]), TaggedDocument(words=['commercial', 'airliner', 'landing'], tags=[267]), TaggedDocument(words=['man', 'skis', 'crater', 'sorts'], tags=[268]), TaggedDocument(words=['meal', 'containers'], tags=[269]), TaggedDocument(words=['group', 'kids', 'game', 'soccer'], tags=[270]), TaggedDocument(words=['bear', 'carrot', 'field'], tags=[271]), TaggedDocument(words=['shots', 'bald', 'man', 'teeth'], tags=[272]), TaggedDocument(words=['group', 'buses', 'cars', 'street'], tags=[273]), TaggedDocument(words=['living', 'room', 'wit', 'ha', 'fire', 'place'], tags=[274]), TaggedDocument(words=['train', 'driving', 'bridge', 'field'], tags=[275]), TaggedDocument(words=['sailboat', 'water', 'cement', 'walkway'], tags=[276]), TaggedDocument(words=['cat', 'field'], tags=[277]), TaggedDocument(words=['birds', 'field'], tags=[278]), TaggedDocument(words=['bunch', 'food', 'table'], tags=[279]), TaggedDocument(words=['woman', 'frisbee', 'ball', 'dogs'], tags=[280]), TaggedDocument(words=['man', 'blackberry', 'phone', 'crowd', 'people', 'front', 'stage', 'men', 'podium'], tags=[281]), TaggedDocument(words=['bowl', 'soup', 'carrots', 'fork'], tags=[282]), TaggedDocument(words=['family', 'people', 'dining', 'room', 'table', 'assortment', 'food', 'wine'], tags=[283]), TaggedDocument(words=['lot', 'comdents'], tags=[284]), TaggedDocument(words=['people', 'bed'], tags=[285]), TaggedDocument(words=['wheelchair', 'cargo', 'van'], tags=[286]), TaggedDocument(words=['plane', 'runway'], tags=[287]), TaggedDocument(words=['cat', 'sits', 'living', 'room', 'front', 'television'], tags=[288]), TaggedDocument(words=['man', 'jump'], tags=[289]), TaggedDocument(words=['woman', 'car', 'dog'], tags=[290]), TaggedDocument(words=['woman', 'gesture', 'photograph'], tags=[291]), TaggedDocument(words=['baby', 'zebra', 'field'], tags=[292]), TaggedDocument(words=['several', 'flowers', 'stems', 'glass', 'vase'], tags=[293]), TaggedDocument(words=['woman', 'pair', 'scissors', 'tape', 'hands'], tags=[294]), TaggedDocument(words=['vegetables', 'counter', 'kitchen'], tags=[295]), TaggedDocument(words=['table', 'types', 'liquor'], tags=[296]), TaggedDocument(words=['trains', 'tracks', 'snow'], tags=[297]), TaggedDocument(words=['dog', 'cat', 'cake'], tags=[298]), TaggedDocument(words=['person', 'board'], tags=[299]), TaggedDocument(words=['birds', 'telephone', 'wires', 'bird'], tags=[300]), TaggedDocument(words=['sheep', 'eat', 'bowl', 'sheepdog'], tags=[301]), TaggedDocument(words=['giraffe', 'adult', 'giraffe'], tags=[302]), TaggedDocument(words=['female', 'surfer', 'waves', 'sea'], tags=[303]), TaggedDocument(words=['view', 'tennis', 'court', 'men', 'tennis'], tags=[304]), TaggedDocument(words=['woman', 'glass', 'plates', 'front'], tags=[305]), TaggedDocument(words=['woman', 'bench'], tags=[306]), TaggedDocument(words=['woman', 'dress', 'umbrella', 'walks', 'railing', 'stone', 'wall'], tags=[307]), TaggedDocument(words=['woman', 'horse'], tags=[308]), TaggedDocument(words=['keyboard', 'mouse', 'cell', 'phone', 'notepad', 'desk'], tags=[309]), TaggedDocument(words=['busy', 'crowded', 'city', 'with', 'lights', 'everywhere'], tags=[310]), TaggedDocument(words=['cows', 'directions', 'meadow'], tags=[311]), TaggedDocument(words=['clocks', 'signs', 'train', 'platforms'], tags=[312]), TaggedDocument(words=['crowd', 'people', 'fair', 'kites'], tags=[313]), TaggedDocument(words=['refrigerator', 'corner', 'room'], tags=[314]), TaggedDocument(words=['single', 'planes', 'airport', 'mountain'], tags=[315]), TaggedDocument(words=['three', 'giraffes', 'grassy', 'field'], tags=[316]), TaggedDocument(words=['grandfather', 'clock', 'wall'], tags=[317]), TaggedDocument(words=['person', 'sandwich'], tags=[318]), TaggedDocument(words=['woman', 'vegetables', 'kitchen'], tags=[319]), TaggedDocument(words=['man', 'suit', 'tie', 'laying', 'dirt'], tags=[320]), TaggedDocument(words=['man', 'hospital', 'bed', 'computer'], tags=[321]), TaggedDocument(words=['group', 'men', 'game', 'frisbee', 'park'], tags=[322]), TaggedDocument(words=['people', 'motorcycles', 'grass'], tags=[323]), TaggedDocument(words=['couple', 'bears', 'road'], tags=[324]), TaggedDocument(words=['man', 'refrigerator'], tags=[325]), TaggedDocument(words=['children', 'bathtub', 'suds'], tags=[326]), TaggedDocument(words=['giraffes', 'field', 'trees'], tags=[327]), TaggedDocument(words=['person', 'front', 'tray', 'pretzels'], tags=[328]), TaggedDocument(words=['number', 'zebras', 'field', 'trees'], tags=[329]), TaggedDocument(words=['man', 'jacket', 'bow', 'tie'], tags=[330]), TaggedDocument(words=['piece', 'cake', 'plate'], tags=[331]), TaggedDocument(words=['vintage', 'photo', 'man', 'bear'], tags=[332]), TaggedDocument(words=['people', 'bench', 'woods', 'shore', 'lake'], tags=[333]), TaggedDocument(words=['sign', 'fire', 'hydrant'], tags=[334]), TaggedDocument(words=['man', 'cell', 'phone', 'winter', 'hat'], tags=[335]), TaggedDocument(words=['people'], tags=[336]), TaggedDocument(words=['herd', 'cows', 'barb', 'wire', 'fence'], tags=[337]), TaggedDocument(words=['closeup', 'sign', 'piece', 'paper', 'tape'], tags=[338]), TaggedDocument(words=['people', 'motor', 'boat', 'body', 'water'], tags=[339]), TaggedDocument(words=['clock', 'top', 'tower'], tags=[340]), TaggedDocument(words=['laying', 'sand'], tags=[341]), TaggedDocument(words=['men', 'sit', 'shade', 'motorcycle'], tags=[342]), TaggedDocument(words=['group', 'birds', 'park', 'bench'], tags=[343]), TaggedDocument(words=['fire', 'hydrant', 'front', 'business'], tags=[344]), TaggedDocument(words=['group', 'people', 'skis', 'slope'], tags=[345]), TaggedDocument(words=['person', 'balcony', 'chandeliers'], tags=[346]), TaggedDocument(words=['plastic', 'container', 'finger', 'food', 'chopsticks', 'juice', 'box', 'rubber', 'band'], tags=[347]), TaggedDocument(words=['tennis', 'players', 'court', 'crowd', 'watches'], tags=[348]), TaggedDocument(words=['ducks', 'plants', 'edge', 'body', 'water'], tags=[349]), TaggedDocument(words=['group', 'people', 'city', 'street'], tags=[350]), TaggedDocument(words=['spoon', 'plate', 'food'], tags=[351]), TaggedDocument(words=['person', 'arms'], tags=[352]), TaggedDocument(words=['blanket', 'side', 'bed'], tags=[353]), TaggedDocument(words=['decker', 'buses', 'blue', 'decker', 'bus'], tags=[354]), TaggedDocument(words=['giraffes', 'field', 'trees', 'background'], tags=[355]), TaggedDocument(words=['taxi', 'bus', 'side', 'road'], tags=[356]), TaggedDocument(words=['line', 'traffic', 'truck', 'car', 'vehicle', 'horse'], tags=[357]), TaggedDocument(words=['man', 'tie', 'note'], tags=[358]), TaggedDocument(words=['boy', 'dog'], tags=[359]), TaggedDocument(words=['area', 'water', 'people'], tags=[360]), TaggedDocument(words=['zebra', 'top', 'grass', 'field'], tags=[361]), TaggedDocument(words=['wedding', 'cake', 'luggage'], tags=[362]), TaggedDocument(words=['children', 'outside', 'bench'], tags=[363]), TaggedDocument(words=['girl', 'bench', 'hands', 'chin'], tags=[364]), TaggedDocument(words=['man', 'laptop', 'cats', 'table'], tags=[365]), TaggedDocument(words=['men', 'hands', 'picture'], tags=[366]), TaggedDocument(words=['woman', 'wine', 'wine', 'event'], tags=[367]), TaggedDocument(words=['giraffe', 'group', 'spectators'], tags=[368]), TaggedDocument(words=['boat', 'stairs', 'field'], tags=[369]), TaggedDocument(words=['person', 'skis', 'slope'], tags=[370]), TaggedDocument(words=['water', 'show', 'skiers', 'shoulders', 'skiers'], tags=[371]), TaggedDocument(words=['downward', 'view', 'toilet', 'cubicle'], tags=[372]), TaggedDocument(words=['water', 'skier', 'watercraft', 'lake'], tags=[373]), TaggedDocument(words=['baby', 'sheep', 'mother', 'sheep', 'field'], tags=[374]), TaggedDocument(words=['cat', 'crib'], tags=[375]), TaggedDocument(words=['couple', 'people', 'standing', 'snow'], tags=[376]), TaggedDocument(words=['guy', 'umbrella', 'light', 'beach', 'night'], tags=[377]), TaggedDocument(words=['medium', 'size', 'boat', 'body', 'water'], tags=[378]), TaggedDocument(words=['man', 'skis', 'water'], tags=[379]), TaggedDocument(words=['officer', 'motorcycle', 'group', 'protesters', 'street'], tags=[380]), TaggedDocument(words=['stone', 'sign', 'temperature', 'date'], tags=[381]), TaggedDocument(words=['girl', 'pink', 'silverware', 'pizza'], tags=[382]), TaggedDocument(words=['fresh', 'fruit', 'vegetables', 'bunch'], tags=[383]), TaggedDocument(words=['sign', 'mirror'], tags=[384]), TaggedDocument(words=['street', 'signs', 'directions', 'castle', 'standing', 'background'], tags=[385]), TaggedDocument(words=['couple', 'puppies', 'bed'], tags=[386]), TaggedDocument(words=['guy', 'beach', 'surf', 'board'], tags=[387]), TaggedDocument(words=['giraffe', 'camel', 'grass', 'field'], tags=[388]), TaggedDocument(words=['man', 'suit', 'tie', 'room', 'renovation'], tags=[389]), TaggedDocument(words=['person', 'ocean', 'surfboard', 'trick'], tags=[390]), TaggedDocument(words=['man', 'bottle', 'liquor', 'field'], tags=[391]), TaggedDocument(words=['computer', 'top', 'table'], tags=[392]), TaggedDocument(words=['decker', 'bus', 'street'], tags=[393]), TaggedDocument(words=['jetliner', 'blue', 'sky'], tags=[394]), TaggedDocument(words=['street', 'sign', 'road'], tags=[395]), TaggedDocument(words=['lion', 'chair', 'table'], tags=[396]), TaggedDocument(words=['corner', 'street', 'people'], tags=[397]), TaggedDocument(words=['boy', 'girl'], tags=[398]), TaggedDocument(words=['man', 'woman', 'video', 'game'], tags=[399]), TaggedDocument(words=['woman', 'kitchen', 'pizza', 'cardboard'], tags=[400]), TaggedDocument(words=['ducks', 'water'], tags=[401]), TaggedDocument(words=['telephones', 'body', 'cat'], tags=[402]), TaggedDocument(words=['man', 'birth', 'baby', 'sheeps'], tags=[403]), TaggedDocument(words=['frolicking', 'shrubbery'], tags=[404]), TaggedDocument(words=['shutters', 'building', 'blue'], tags=[405]), TaggedDocument(words=['mixer', 'liquid'], tags=[406]), TaggedDocument(words=['holder', 'bathroom', 'toothbrushes'], tags=[407]), TaggedDocument(words=['blue', 'house', 'boat', 'grass'], tags=[408]), TaggedDocument(words=['bear', 'story', 'book'], tags=[409]), TaggedDocument(words=['bathroom'], tags=[410]), TaggedDocument(words=['statues', 'animals', 'lawn'], tags=[411]), TaggedDocument(words=['boy', 'bench', 'cellphone'], tags=[412]), TaggedDocument(words=['plane', 'hangar', 'photo'], tags=[413]), TaggedDocument(words=['hand', 'phones', 'room'], tags=[414]), TaggedDocument(words=['tray', 'oranges', 'bananas', 'pineapple'], tags=[415]), TaggedDocument(words=['child', 'piece', 'brocolli'], tags=[416]), TaggedDocument(words=['man', 'surfboard', 'towards', 'beach', 'foam'], tags=[417]), TaggedDocument(words=['emergency', 'vehicles', 'fireman', 'cherry', 'picker', 'top', 'ladder', 'city'], tags=[418]), TaggedDocument(words=['woman', 'drinks', 'kitchen'], tags=[419]), TaggedDocument(words=['man', 'steal', 'pizza'], tags=[420]), TaggedDocument(words=['person', 'skis', 'snow'], tags=[421]), TaggedDocument(words=['decker', 'bus', 'street'], tags=[422]), TaggedDocument(words=['woman', 'court', 'racquet'], tags=[423]), TaggedDocument(words=['woman', 'beach', 'blue', 'umbrella', 'head'], tags=[424]), TaggedDocument(words=['cat', 'apples'], tags=[425]), TaggedDocument(words=['military', 'man'], tags=[426]), TaggedDocument(words=['table', 'room'], tags=[427]), TaggedDocument(words=['officer', 'motorcycle', 'side', 'car'], tags=[428]), TaggedDocument(words=['street', 'downtown', 'skyscraper'], tags=[429]), TaggedDocument(words=['bunch', 'elephants', 'middle', 'brush'], tags=[430]), TaggedDocument(words=['truck', 'bus', 'tow'], tags=[431]), TaggedDocument(words=['motorcyclist', 'highway'], tags=[432]), TaggedDocument(words=['men', 'speed', 'boat', 'water'], tags=[433]), TaggedDocument(words=['twin', 'bed', 'corner', 'room', 'painting', 'wall'], tags=[434]), TaggedDocument(words=['man', 'back', 'truck'], tags=[435]), TaggedDocument(words=['horse', 'baggage', 'saddle'], tags=[436]), TaggedDocument(words=['five', 'remotes'], tags=[437]), TaggedDocument(words=['person', 'factor', 'bananas'], tags=[438]), TaggedDocument(words=['giraffe', 'standing', 'middle', 'area'], tags=[439]), TaggedDocument(words=['man', 'horse', 'number', 'shirt'], tags=[440]), TaggedDocument(words=['man', 'movie'], tags=[441]), TaggedDocument(words=['man', 'street', 'dog'], tags=[442]), TaggedDocument(words=['woman', 'plate', 'food'], tags=[443]), TaggedDocument(words=['children', 'steam', 'train', 'bear', 'front', 'engine'], tags=[444]), TaggedDocument(words=['plate', 'meat', 'seafood', 'corn', 'slice', 'bread'], tags=[445]), TaggedDocument(words=['airplane', 'top', 'airport', 'tarmac'], tags=[446]), TaggedDocument(words=['plate', 'fork', 'cake'], tags=[447]), TaggedDocument(words=['lunch', 'assortment', 'things'], tags=[448]), TaggedDocument(words=['pizza', 'plate', 'toppings'], tags=[449]), TaggedDocument(words=['blue', 'toilet', 'stall', 'foot', 'rests'], tags=[450]), TaggedDocument(words=['pile', 'veggies', 'gravy'], tags=[451]), TaggedDocument(words=['stone', 'clock', 'tower', 'trees'], tags=[452]), TaggedDocument(words=['baskets', 'fruit', 'vegetables'], tags=[453]), TaggedDocument(words=['woman', 'pink', 'umbrella', 'alleyway'], tags=[454]), TaggedDocument(words=['road', 'way', 'sign', 'middle', 'desert'], tags=[455]), TaggedDocument(words=['half', 'plate'], tags=[456]), TaggedDocument(words=['group', 'people', 'top', 'boat'], tags=[457]), TaggedDocument(words=['cat', 'bed'], tags=[458]), TaggedDocument(words=['kids', 'ball', 'court'], tags=[459]), TaggedDocument(words=['giraffes', 'path', 'food'], tags=[460]), TaggedDocument(words=['grazing', 'hillside'], tags=[461]), TaggedDocument(words=['man', 'shirt', 'tie', 'wool', 'vest'], tags=[462]), TaggedDocument(words=['zebra', 'one'], tags=[463]), TaggedDocument(words=['girls', 'bears', 'paper', 'hats'], tags=[464]), TaggedDocument(words=['clock', 'hippo', 'base'], tags=[465]), TaggedDocument(words=['man', 'pan', 'inside', 'metal', 'sink'], tags=[466]), TaggedDocument(words=['people', 'path', 'boat', 'body', 'water'], tags=[467]), TaggedDocument(words=['young', 'boy', 'bat', 'youth', 'baseball', 'game', 'park'], tags=[468]), TaggedDocument(words=['women', 'peace', 'sign', 'table', 'pizza'], tags=[469]), TaggedDocument(words=['person', 'skateboard', 'trick'], tags=[470]), TaggedDocument(words=['kitchen', 'pets', 'food', 'dishes', 'floor'], tags=[471]), TaggedDocument(words=['stone', 'house', 'clock', 'front'], tags=[472]), TaggedDocument(words=['kitchen', 'stainless', 'appliances'], tags=[473]), TaggedDocument(words=['box', 'pizza'], tags=[474]), TaggedDocument(words=['kitchen', 'appliances'], tags=[475]), TaggedDocument(words=['lady', 'kitchen'], tags=[476]), TaggedDocument(words=['surfer', 'wave', 'ocean'], tags=[477]), TaggedDocument(words=['man', 'wave', 'surfboard', 'ocean'], tags=[478]), TaggedDocument(words=['elephant', 'elephant', 'crossing', 'water'], tags=[479]), TaggedDocument(words=['woman', 'tennis', 'ball'], tags=[480]), TaggedDocument(words=['baby', 'front', 'cardboard', 'box', 'orange', 'bananas'], tags=[481]), TaggedDocument(words=['man', 'saddle', 'horse'], tags=[482]), TaggedDocument(words=['wind', 'surfer', 'water', 'mountain'], tags=[483]), TaggedDocument(words=['view', 'bathroom', 'hotel', 'room'], tags=[484]), TaggedDocument(words=['dog', 'window', 'building'], tags=[485]), TaggedDocument(words=['person', 'cowboy', 'hat', 'park', 'bench'], tags=[486]), TaggedDocument(words=['people', 'skateboards', 'ramp'], tags=[487]), TaggedDocument(words=['person', 'others', 'television'], tags=[488]), TaggedDocument(words=['baby', 'giraffe', 'cage', 'branch'], tags=[489]), TaggedDocument(words=['chairs', 'bench', 'bushes'], tags=[490]), TaggedDocument(words=['table', 'computer', 'type', 'equipment'], tags=[491]), TaggedDocument(words=['couple', 'animals', 'dirt'], tags=[492]), TaggedDocument(words=['airplane', 'sky'], tags=[493]), TaggedDocument(words=['person', 'motor', 'cart', 'para', 'sail', 'chute'], tags=[494]), TaggedDocument(words=['cow', 'head', 'someone', 'strap'], tags=[495]), TaggedDocument(words=['sort', 'experiment', 'toaster'], tags=[496]), TaggedDocument(words=['people', 'sandy', 'shore'], tags=[497]), TaggedDocument(words=['boy', 'board', 'hill'], tags=[498]), TaggedDocument(words=['row', 'park', 'benches', 'building', 'background'], tags=[499]), TaggedDocument(words=['bakers', 'kitchen', 'table', 'cakes', 'pastries'], tags=[500]), TaggedDocument(words=['man', 'glasses', 'works', 'computer'], tags=[501]), TaggedDocument(words=['skier', 'wheelchair', 'bound', 'skis', 'chair'], tags=[502]), TaggedDocument(words=['traffic', 'sign', 'sits', 'foreground', 'line', 'row', 'houses'], tags=[503]), TaggedDocument(words=['cat', 'couch', 'living', 'room'], tags=[504]), TaggedDocument(words=['tennis', 'player', 'tennis', 'ball'], tags=[505]), TaggedDocument(words=['athlete', 'horse', 'obstacle', 'field'], tags=[506]), TaggedDocument(words=['truck', 'mountains'], tags=[507]), TaggedDocument(words=['bridge', 'river'], tags=[508]), TaggedDocument(words=['picture', 'rockefeller', 'plaza', 'street', 'sign'], tags=[509]), TaggedDocument(words=['man', 'son', 'refrigerator'], tags=[510]), TaggedDocument(words=['man', 'motorcycle', 'metal', 'structure'], tags=[511]), TaggedDocument(words=['counter', 'bowls', 'bottles', 'stove'], tags=[512]), TaggedDocument(words=['pizza', 'card', 'board', 'box'], tags=[513]), TaggedDocument(words=['women', 'umbrella'], tags=[514]), TaggedDocument(words=['diapered', 'baby', 'adult', 'tie'], tags=[515]), TaggedDocument(words=['transit', 'bus', 'city', 'street'], tags=[516]), TaggedDocument(words=['herd', 'elephants', 'field'], tags=[517]), TaggedDocument(words=['man', 'birds'], tags=[518]), TaggedDocument(words=['baseball', 'pitcher', 'uniform', 'mound'], tags=[519]), TaggedDocument(words=['male', 'tennis', 'player', 'racket'], tags=[520]), TaggedDocument(words=['baseball', 'player', 'swings', 'baseball'], tags=[521]), TaggedDocument(words=['field', 'cows', 'trees'], tags=[522]), TaggedDocument(words=['couple', 'carrots', 'board', 'knife'], tags=[523]), TaggedDocument(words=['woman', 'wall', 'phone'], tags=[524]), TaggedDocument(words=['bowl', 'food', 'vegetables', 'foods'], tags=[525]), TaggedDocument(words=['people', 'rain', 'station'], tags=[526]), TaggedDocument(words=['men', 'field', 'frisbee'], tags=[527]), TaggedDocument(words=['bench', 'bend', 'path', 'woods'], tags=[528]), TaggedDocument(words=['view', 'people', 'surfboards', 'water'], tags=[529]), TaggedDocument(words=['construction', 'sign', 'street'], tags=[530]), TaggedDocument(words=['restaurant', 'bar', 'grill'], tags=[531]), TaggedDocument(words=['car', 'parking', 'lot', 'clock', 'tower', 'background'], tags=[532]), TaggedDocument(words=['sign', 'school', 'boring', 'slow', 'down'], tags=[533]), TaggedDocument(words=['train', 'station', 'train', 'passengers'], tags=[534]), TaggedDocument(words=['this', 'black', 'and', 'white', 'photo', 'surfer'], tags=[535]), TaggedDocument(words=['men', 'water', 'boat'], tags=[536]), TaggedDocument(words=['man', 'motorcycle', 'horse'], tags=[537]), TaggedDocument(words=['nose', 'dog', 'cushion', 'chair'], tags=[538]), TaggedDocument(words=['arrangement', 'vase'], tags=[539]), TaggedDocument(words=['zebra', 'standing', 'fence', 'area', 'zebra', 'ground'], tags=[540]), TaggedDocument(words=['cat', 'legs', 'bed'], tags=[541]), TaggedDocument(words=['people', 'city', 'street'], tags=[542]), TaggedDocument(words=['moden', 'tracks'], tags=[543]), TaggedDocument(words=['bathroom', 'vanity', 'sinks', 'countertop'], tags=[544]), TaggedDocument(words=['cows', 'grass', 'trees'], tags=[545]), TaggedDocument(words=['blue', 'airplane', 'runway'], tags=[546]), TaggedDocument(words=['men', 'bench', 'cell', 'phones'], tags=[547]), TaggedDocument(words=['guy', 'picture', 'group', 'people'], tags=[548]), TaggedDocument(words=['skier', 'powder', 'snow'], tags=[549]), TaggedDocument(words=['people', 'front', 'wall'], tags=[550]), TaggedDocument(words=['woman', 'shirt', 'sits', 'table', 'plate', 'food'], tags=[551]), TaggedDocument(words=['kite', 'air'], tags=[552]), TaggedDocument(words=['memory', 'foam', 'mattress', 'sit', 'room'], tags=[553]), TaggedDocument(words=['horse', 'grass', 'water'], tags=[554]), TaggedDocument(words=['woman', 'front', 'refrigerator', 'glass', 'beer'], tags=[555]), TaggedDocument(words=['roast', 'dinner', 'plate', 'table'], tags=[556]), TaggedDocument(words=['couple', 'umbrella', 'cloudy', 'afternoon'], tags=[557]), TaggedDocument(words=['many', 'motorcycles', 'bikers', 'parking', 'lot'], tags=[558]), TaggedDocument(words=['woman', 'umbrella', 'tree', 'water'], tags=[559]), TaggedDocument(words=['stop', 'sign', 'kinds', 'graffiti'], tags=[560]), TaggedDocument(words=['child', 'chair', 'bag', 'candy'], tags=[561]), TaggedDocument(words=['baseball', 'players', 'baseball', 'field', 'crowd', 'watching'], tags=[562]), TaggedDocument(words=['boy', 'skateboard', 'fence'], tags=[563]), TaggedDocument(words=['street', 'scene', 'police', 'officers', 'horses'], tags=[564]), TaggedDocument(words=['black', 'photograph', 'airplane', 'beach'], tags=[565]), TaggedDocument(words=['lights', 'dark', 'city', 'street', 'night'], tags=[566]), TaggedDocument(words=['one', 'suitcase', 'duffel', 'bag'], tags=[567]), TaggedDocument(words=['crown', 'people', 'beach', 'kites'], tags=[568]), TaggedDocument(words=['twin', 'bed', 'sheets', 'pair', 'pillows'], tags=[569]), TaggedDocument(words=['boat'], tags=[570]), TaggedDocument(words=['plate', 'food', 'table', 'cake', 'icing'], tags=[571]), TaggedDocument(words=['woman', 'baby', 'kitchen'], tags=[572]), TaggedDocument(words=['horse', 'field', 'grass'], tags=[573]), TaggedDocument(words=['trio', 'birds', 'stream', 'snow'], tags=[574]), TaggedDocument(words=['men', 'stand', 'front', 'war', 'plane'], tags=[575]), TaggedDocument(words=['skier', 'jump', 'slope'], tags=[576]), TaggedDocument(words=['man', 'surfboard', 'ocean'], tags=[577]), TaggedDocument(words=['man', 'back', 'motorcycle'], tags=[578]), TaggedDocument(words=['sink', 'bathroom'], tags=[579]), TaggedDocument(words=['skateboarder', 'rail', 'skatepark'], tags=[580]), TaggedDocument(words=['plate', 'donut', 'creamer'], tags=[581]), TaggedDocument(words=['man', 'air', 'skis'], tags=[582]), TaggedDocument(words=['crowd', 'people', 'flag'], tags=[583]), TaggedDocument(words=['brick', 'building', 'steeple', 'corner'], tags=[584]), TaggedDocument(words=['bunch', 'people', 'tables'], tags=[585]), TaggedDocument(words=['person', 'pink', 'donut', 'front', 'tv'], tags=[586]), TaggedDocument(words=['giraffe'], tags=[587]), TaggedDocument(words=['man', 'skateboard', 'street', 'people', 'road'], tags=[588]), TaggedDocument(words=['man', 'dog', 'side', 'street', 'cars'], tags=[589]), TaggedDocument(words=['man', 'head', 'lamp', 'apple', 'laptop'], tags=[590]), TaggedDocument(words=['zebra', 'dirt', 'bushes', 'tree'], tags=[591]), TaggedDocument(words=['one', 'boy', 'street'], tags=[592]), TaggedDocument(words=['dodgers', 'baseball', 'player', 'field'], tags=[593]), TaggedDocument(words=['baseball', 'player', 'baseball', 'catchers', 'baseball', 'field'], tags=[594]), TaggedDocument(words=['couple', 'carnival', 'assortment', 'stuffed', 'animals'], tags=[595]), TaggedDocument(words=['man', 'hat', 'gun'], tags=[596]), TaggedDocument(words=['crosswalk', 'city', 'street', 'night'], tags=[597]), TaggedDocument(words=['kid', 'hat', 'bench'], tags=[598]), TaggedDocument(words=['person', 'dogs', 'beach'], tags=[599]), TaggedDocument(words=['tennis', 'player', 'ball'], tags=[600]), TaggedDocument(words=['person', 'park', 'bench', 'grass'], tags=[601]), TaggedDocument(words=['jet', 'ocean', 'sky'], tags=[602]), TaggedDocument(words=['display', 'giraffes', 'zebras', 'elephants', 'building'], tags=[603]), TaggedDocument(words=['carnival', 'displays', 'lights', 'lots', 'people'], tags=[604]), TaggedDocument(words=['group', 'people', 'game', 'controllers'], tags=[605]), TaggedDocument(words=['doorway', 'bed', 'chair'], tags=[606]), TaggedDocument(words=['bus', 'side', 'street'], tags=[607]), TaggedDocument(words=['fire', 'hydrant', 'area', 'street'], tags=[608]), TaggedDocument(words=['dogs', 'sheep', 'arena', 'crowd', 'watching'], tags=[609]), TaggedDocument(words=['blue', 'plate', 'food', 'biscuits'], tags=[610]), TaggedDocument(words=['photos', 'kid', 'cake'], tags=[611]), TaggedDocument(words=['man', 'blanket', 'frisbee'], tags=[612]), TaggedDocument(words=['passenger', 'train', 'track'], tags=[613]), TaggedDocument(words=['people', 'sidewalk', 'city'], tags=[614]), TaggedDocument(words=['man', 'home', 'kitchen'], tags=[615]), TaggedDocument(words=['boy', 'skateboard', 'street', 'corner'], tags=[616]), TaggedDocument(words=['toilet', 'tub'], tags=[617]), TaggedDocument(words=['surfer', 'wet', 'suit', 'ocean'], tags=[618]), TaggedDocument(words=['lacrosse', 'player', 'game', 'equipment'], tags=[619]), TaggedDocument(words=['image', 'boy', 'tricks', 'skateboard'], tags=[620]), TaggedDocument(words=['giraffe', 'spots', 'tree'], tags=[621]), TaggedDocument(words=['man', 'street', 'sign', 'crowd', 'people'], tags=[622]), TaggedDocument(words=['street', 'sign', 'bicycle'], tags=[623]), TaggedDocument(words=['person', 'skateboard', 'standing', 'top', 'ramp'], tags=[624]), TaggedDocument(words=['people', 'board', 'train'], tags=[625]), TaggedDocument(words=['skateboarder', 'tricks', 'park', 'area'], tags=[626]), TaggedDocument(words=['woman', 'knife', 'party', 'foods'], tags=[627]), TaggedDocument(words=['table', 'chairs', 'window'], tags=[628]), TaggedDocument(words=['couple', 'trains', 'tracks', 'station'], tags=[629]), TaggedDocument(words=['kites', 'cloudy', 'sky'], tags=[630]), TaggedDocument(words=['jets', 'row'], tags=[631]), TaggedDocument(words=['man', 'man'], tags=[632]), TaggedDocument(words=['photo', 'baby', 'bed'], tags=[633]), TaggedDocument(words=['wine', 'glass', 'table', 'wine'], tags=[634]), TaggedDocument(words=['close', 'propeller', 'blades'], tags=[635]), TaggedDocument(words=['pace', 'car', 'marathon', 'time'], tags=[636]), TaggedDocument(words=['truck', 'yacht', 'street'], tags=[637]), TaggedDocument(words=['woman', 'bench', 'bear'], tags=[638]), TaggedDocument(words=['truck', 'trailer', 'man', 'walks'], tags=[639]), TaggedDocument(words=['men', 'wii', 'game', 'system'], tags=[640]), TaggedDocument(words=['chefs', 'meal', 'kitchen'], tags=[641]), TaggedDocument(words=['picture', 'bed', 'room'], tags=[642]), TaggedDocument(words=['picture', 'kid', 'water', 'fun'], tags=[643]), TaggedDocument(words=['vase'], tags=[644]), TaggedDocument(words=['couple', 'men', 'snowboards'], tags=[645]), TaggedDocument(words=['three', 'skiers', 'skies', 'icy', 'road'], tags=[646]), TaggedDocument(words=['man', 'horse', 'child'], tags=[647]), TaggedDocument(words=['man', 'air', 'board'], tags=[648]), TaggedDocument(words=['picture', 'street', 'sign'], tags=[649]), TaggedDocument(words=['man', 'tennis', 'court'], tags=[650]), TaggedDocument(words=['baseball', 'game', 'crowd', 'fans', 'stands'], tags=[651]), TaggedDocument(words=['man', 'suit', 'wall', 'beach', 'ocean'], tags=[652]), TaggedDocument(words=['variety', 'food', 'ingredients', 'silver', 'pot'], tags=[653]), TaggedDocument(words=['note', 'front', 'teddybear'], tags=[654]), TaggedDocument(words=['woman', 'umbrella', 'street'], tags=[655]), TaggedDocument(words=['woman', 'tennis', 'ball', 'racket'], tags=[656]), TaggedDocument(words=['dog', 'walks', 'adults', 'view', 'san', 'francisco', 'bridge'], tags=[657]), TaggedDocument(words=['baseball', 'batter', 'contact', 'ball'], tags=[658]), TaggedDocument(words=['baby', 'dress', 'shirt', 'vest'], tags=[659]), TaggedDocument(words=['mouth', 'ducks', 'background'], tags=[660]), TaggedDocument(words=['baseball', 'player', 'ball', 'bat'], tags=[661]), TaggedDocument(words=['man', 'suit', 'wave'], tags=[662]), TaggedDocument(words=['dishes', 'fruits', 'slice', 'watermelon', 'table'], tags=[663]), TaggedDocument(words=['beige', 'living', 'room', 'chairs', 'lamps', 'television'], tags=[664]), TaggedDocument(words=['sign', 'construction', 'area', 'building', 'street'], tags=[665]), TaggedDocument(words=['snowboarder', 'jump', 'air', 'night', 'boarding'], tags=[666]), TaggedDocument(words=['picture', 'people'], tags=[667]), TaggedDocument(words=['horse', 'fence', 'dirt'], tags=[668]), TaggedDocument(words=['zebra', 'baby', 'field'], tags=[669]), TaggedDocument(words=['woman', 'suitcases', 'escalator'], tags=[670]), TaggedDocument(words=['people', 'side', 'city', 'street'], tags=[671]), TaggedDocument(words=['woman', 'kite', 'daytime', 'sky'], tags=[672]), TaggedDocument(words=['tower', 'shows', 'clocks', 'circles'], tags=[673]), TaggedDocument(words=['group', 'people', 'luggage', 'airport'], tags=[674]), TaggedDocument(words=['oven', 'leg', 'joke'], tags=[675]), TaggedDocument(words=['giraffe', 'walks', 'field'], tags=[676]), TaggedDocument(words=['woman', 'bite', 'pizza', 'restaurant'], tags=[677]), TaggedDocument(words=['person', 'food'], tags=[678]), TaggedDocument(words=['guy', 'phone', 'hands'], tags=[679]), TaggedDocument(words=['course', 'meal', 'meat', 'vegetables'], tags=[680]), TaggedDocument(words=['car', 'turn', 'intersection', 'vehicles'], tags=[681]), TaggedDocument(words=['image', 'dog', 'front', 'fire', 'hydrant'], tags=[682]), TaggedDocument(words=['baseball', 'player', 'baseball', 'bat', 'baseball', 'field'], tags=[683]), TaggedDocument(words=['men', 'kitchen'], tags=[684]), TaggedDocument(words=['street', 'signs', 'sub', 'shop'], tags=[685]), TaggedDocument(words=['kitchen', 'man', 'bottle'], tags=[686]), TaggedDocument(words=['doughnuts'], tags=[687]), TaggedDocument(words=['person', 'picture', 'bathroom', 'mirror'], tags=[688]), TaggedDocument(words=['bunch', 'kites', 'sky'], tags=[689]), TaggedDocument(words=['man', 'snow', 'board', 'side', 'snow', 'slope'], tags=[690]), TaggedDocument(words=['person', 'head', 'hands', 'bench'], tags=[691]), TaggedDocument(words=['couple', 'horses', 'city', 'street'], tags=[692]), TaggedDocument(words=['couple', 'motorcycle', 'riders', 'track'], tags=[693]), TaggedDocument(words=['zebra', 'tree'], tags=[694]), TaggedDocument(words=['bathroom', 'pink', 'curtain'], tags=[695]), TaggedDocument(words=['man', 'shirt', 'frisbee'], tags=[696]), TaggedDocument(words=['cubicle', 'pins', 'wall', 'toys', 'top'], tags=[697]), TaggedDocument(words=['zebras', 'field', 'stand', 'side', 'side'], tags=[698]), TaggedDocument(words=['person', 'desk', 'soldering', 'iron'], tags=[699]), TaggedDocument(words=['bathroom', 'sink', 'soap', 'dispenser', 'cup', 'brushes'], tags=[700]), TaggedDocument(words=['group', 'people', 'skis', 'race'], tags=[701]), TaggedDocument(words=['one', 'turn', 'way', 'sign', 'middle', 'road'], tags=[702]), TaggedDocument(words=['man', 'surfboard', 'beach'], tags=[703]), TaggedDocument(words=['man', 'parking', 'meter', 'tree', 'city', 'street'], tags=[704]), TaggedDocument(words=['man', 'dog', 'house'], tags=[705]), TaggedDocument(words=['ketchup', 'dispenser', 'hotdog'], tags=[706]), TaggedDocument(words=['magazine', 'counter'], tags=[707]), TaggedDocument(words=['person', 'meal', 'vegetables', 'pizza'], tags=[708]), TaggedDocument(words=['bikes', 'sign'], tags=[709]), TaggedDocument(words=['person', 'surfboard', 'wave'], tags=[710]), TaggedDocument(words=['analog', 'clock', 'building', 'background'], tags=[711]), TaggedDocument(words=['train', 'line', 'bridge', 'top', 'river'], tags=[712]), TaggedDocument(words=['bathroom', 'tub', 'walk'], tags=[713]), TaggedDocument(words=['cat', 'keyboard', 'floor'], tags=[714]), TaggedDocument(words=['woman', 'baby', 'birds', 'shoulder'], tags=[715]), TaggedDocument(words=['wood', 'dining', 'room', 'table', 'chairs', 'sits', 'room', 'leather', 'chair'], tags=[716]), TaggedDocument(words=['computer', 'desk', 'printer', 'monitor'], tags=[717]), TaggedDocument(words=['large', 'truck', 'city', 'street'], tags=[718]), TaggedDocument(words=['people', 'frisbee', 'field'], tags=[719]), TaggedDocument(words=['surfer', 'head', 'surf'], tags=[720]), TaggedDocument(words=['woman', 'standing', 'duffle', 'bag', 'field', 'trees', 'frisbee'], tags=[721]), TaggedDocument(words=['giraffes', 'pen', 'trees'], tags=[722]), TaggedDocument(words=['toilet', 'lid', 'parts', 'seat'], tags=[723]), TaggedDocument(words=['intersection', 'street', 'signs', 'traffic', 'light'], tags=[724]), TaggedDocument(words=['horse', 'top', 'grass', 'field'], tags=[725]), TaggedDocument(words=['men', 'laptops'], tags=[726]), TaggedDocument(words=['man', 'motorcycle'], tags=[727]), TaggedDocument(words=['room', 'area', 'chairs', 'wall'], tags=[728]), TaggedDocument(words=['giraffe', 'camera', 'zebras'], tags=[729]), TaggedDocument(words=['workers', 'concrete', 'hole', 'field'], tags=[730]), TaggedDocument(words=['tv', 'top', 'refrigerator', 'items'], tags=[731]), TaggedDocument(words=['man', 'baseball', 'bat', 'airport'], tags=[732]), TaggedDocument(words=['view', 'street', 'traffic', 'buses', 'cars', 'motorcycle', 'rider', 'trees', 'buildings'], tags=[733]), TaggedDocument(words=['view', 'city', 'rainy', 'night'], tags=[734]), TaggedDocument(words=['man', 'tennis', 'court', 'racket'], tags=[735]), TaggedDocument(words=['man', 'tennis', 'ball', 'racket'], tags=[736]), TaggedDocument(words=['group', 'kids', 'grass'], tags=[737]), TaggedDocument(words=['women', 'side', 'walk', 'street', 'car', 'truck'], tags=[738]), TaggedDocument(words=['cat', 'picnic', 'table'], tags=[739]), TaggedDocument(words=['men', 'woman', 'photo'], tags=[740]), TaggedDocument(words=['herd', 'sheep', 'pasture'], tags=[741]), TaggedDocument(words=['cat', 'suitcase'], tags=[742]), TaggedDocument(words=['person', 'bottom', 'snowy', 'hill'], tags=[743]), TaggedDocument(words=['vases', 'flowers', 'table'], tags=[744]), TaggedDocument(words=['baseball', 'player', 'ball'], tags=[745]), TaggedDocument(words=['picture', 'person', 'soccerball'], tags=[746]), TaggedDocument(words=['man', 'dogs', 'park'], tags=[747]), TaggedDocument(words=['city', 'street', 'cars', 'people'], tags=[748]), TaggedDocument(words=['man', 'top', 'surfboard', 'wave'], tags=[749]), TaggedDocument(words=['dog', 'tricycle', 'leash'], tags=[750]), TaggedDocument(words=['woman', 'horse', 'fence', 'event'], tags=[751]), TaggedDocument(words=['hut', 'grass', 'roof', 'bench'], tags=[752]), TaggedDocument(words=['man', 'racket', 'game', 'tennis'], tags=[753]), TaggedDocument(words=['rider', 'bicycle', 'helmet', 'crosswalk'], tags=[754]), TaggedDocument(words=['man', 'phone', 'front', 'pool'], tags=[755]), TaggedDocument(words=['people', 'house', 'cake'], tags=[756]), TaggedDocument(words=['set', 'metal', 'stairs', 'room', 'clothes', 'vines'], tags=[757]), TaggedDocument(words=['decker', 'bus', 'city', 'street'], tags=[758]), TaggedDocument(words=['bird', 'person', 'hand', 'food'], tags=[759]), TaggedDocument(words=['plate', 'piece', 'meat', 'lettuce', 'cup', 'juice'], tags=[760]), TaggedDocument(words=['tennis', 'player', 'racket', 'court'], tags=[761]), TaggedDocument(words=['table', 'toothbrushes', 'toothpaste', 'lotion', 'snacks', 'deodorant'], tags=[762]), TaggedDocument(words=['pizza', 'entre', 'salad', 'plate'], tags=[763]), TaggedDocument(words=['men', 'baseball', 'bats'], tags=[764]), TaggedDocument(words=['dog', 'mattress', 'front', 'laptop'], tags=[765]), TaggedDocument(words=['dog', 'resting', 'hole', 'dirt', 'shoe'], tags=[766]), TaggedDocument(words=['several', 'boxes', 'fruit'], tags=[767]), TaggedDocument(words=['coney', 'dog', 'onions', 'fries'], tags=[768]), TaggedDocument(words=['meat', 'basket'], tags=[769]), TaggedDocument(words=['sun', 'shines', 'window', 'living', 'room'], tags=[770]), TaggedDocument(words=['train', 'train', 'tracks'], tags=[771]), TaggedDocument(words=['dirt', 'road', 'parking', 'area'], tags=[772]), TaggedDocument(words=['giraffe', 'standing', 'hay', 'trough'], tags=[773]), TaggedDocument(words=['gray', 'cat', 'grass'], tags=[774]), TaggedDocument(words=['woman', 'mirror', 'woman', 'teeth'], tags=[775]), TaggedDocument(words=['guy', 'bike', 'bus'], tags=[776]), TaggedDocument(words=['men', 'wine'], tags=[777]), TaggedDocument(words=['hot', 'dogs', 'grill', 'marks', 'buns', 'grill'], tags=[778]), TaggedDocument(words=['woman', 'phone', 'room'], tags=[779]), TaggedDocument(words=['stop', 'sign', 'street', 'sign'], tags=[780]), TaggedDocument(words=['bear', 'art', 'soul', 'cigarette', 'lighter', 'hand'], tags=[781]), TaggedDocument(words=['bull', 'men', 'cart', 'street'], tags=[782]), TaggedDocument(words=['living', 'room', 'area', 'table', 'chairs', 'bar', 'stools', 'counter', 'top', 'television'], tags=[783]), TaggedDocument(words=['man', 'skateboard', 'trick'], tags=[784]), TaggedDocument(words=['girl', 'ball', 'fire', 'hydrant'], tags=[785]), TaggedDocument(words=['ten', 'field', 'day'], tags=[786]), TaggedDocument(words=['picture', 'leather', 'couch', 'laptop'], tags=[787]), TaggedDocument(words=['image', 'person', 'skiis', 'making', 'tracks'], tags=[788]), TaggedDocument(words=['kitchen', 'oven', 'sink'], tags=[789]), TaggedDocument(words=['girl', 'dog', 'eat', 'cake', 'table'], tags=[790]), TaggedDocument(words=['kitchen', 'pantry', 'glass', 'bottles', 'counter'], tags=[791]), TaggedDocument(words=['train', 'track', 'caboose', 'car', 'silver', 'train'], tags=[792]), TaggedDocument(words=['group', 'people', 'living', 'room'], tags=[793]), TaggedDocument(words=['couple', 'of', 'giraffes', 'in', 'the', 'wild', 'walking', 'in', 'the', 'sand'], tags=[794]), TaggedDocument(words=['tree', 'forest'], tags=[795]), TaggedDocument(words=['story', 'commuter', 'bus', 'city', 'street'], tags=[796]), TaggedDocument(words=['adults', 'meal', 'pizza'], tags=[797]), TaggedDocument(words=['truck', 'street', 'buildings'], tags=[798]), TaggedDocument(words=['street', 'sign', 'ne', 'st', 'back', 'sign'], tags=[799]), TaggedDocument(words=['wing', 'outside', 'plane', 'window'], tags=[800]), TaggedDocument(words=['lady', 'front', 'refrigerator'], tags=[801]), TaggedDocument(words=['boys', 'bed', 'truck'], tags=[802]), TaggedDocument(words=['several', 'bags', 'middle', 'area'], tags=[803]), TaggedDocument(words=['car', 'street', 'streetlamp'], tags=[804]), TaggedDocument(words=['man', 'person', 'shooter', 'video', 'game'], tags=[805]), TaggedDocument(words=['giraffe', 'neck', 'leaves', 'tree'], tags=[806]), TaggedDocument(words=['woman', 'ball', 'tennis', 'racquet', 'court'], tags=[807]), TaggedDocument(words=['wall', 'bouquets'], tags=[808]), TaggedDocument(words=['person', 'friends'], tags=[809]), TaggedDocument(words=['group', 'people', 'park', 'benches', 'dog'], tags=[810]), TaggedDocument(words=['kitchen', 'bunch', 'items', 'shelf'], tags=[811]), TaggedDocument(words=['row', 'passenger', 'buses', 'lone', 'road'], tags=[812]), TaggedDocument(words=['woman', 'tennis', 'ball', 'court'], tags=[813]), TaggedDocument(words=['picture', 'person', 'frisbee', 'front', 'buildings'], tags=[814]), TaggedDocument(words=['lot', 'bunches', 'bananas', 'lot', 'watermelons'], tags=[815]), TaggedDocument(words=['people', 'fruit', 'market', 'tables'], tags=[816]), TaggedDocument(words=['couple', 'people', 'dog', 'water'], tags=[817]), TaggedDocument(words=['street', 'sign', 'names', 'streets'], tags=[818]), TaggedDocument(words=['pancakes', 'bacon', 'eggs', 'table'], tags=[819]), TaggedDocument(words=['man', 'surfboard', 'top', 'wave'], tags=[820]), TaggedDocument(words=['boy', 'baseball', 'bat', 'baseball', 'uniform'], tags=[821]), TaggedDocument(words=['dog', 'cat', 'bear', 'bed'], tags=[822]), TaggedDocument(words=['bowl', 'fruit', 'plate', 'croissant', 'sandwich'], tags=[823]), TaggedDocument(words=['baseball', 'player'], tags=[824]), TaggedDocument(words=['vendor', 'display', 'stone', 'walk'], tags=[825]), TaggedDocument(words=['plate', 'food'], tags=[826]), TaggedDocument(words=['motorcycles', 'front', 'mountain', 'landscape'], tags=[827]), TaggedDocument(words=['bathroom', 'toilet', 'sink', 'window'], tags=[828]), TaggedDocument(words=['three', 'baseball', 'players', 'baseball', 'field'], tags=[829]), TaggedDocument(words=['tour', 'car', 'passengers'], tags=[830]), TaggedDocument(words=['train', 'pulls', 'station'], tags=[831]), TaggedDocument(words=['toilet', 'sidewalk', 'graffiti'], tags=[832]), TaggedDocument(words=['cellphone', 'sits', 'desk', 'headphones'], tags=[833]), TaggedDocument(words=['man', 'women', 'cake'], tags=[834]), TaggedDocument(words=['woman', 'bike', 'lot', 'bikes', 'park'], tags=[835]), TaggedDocument(words=['horse', 'dog', 'jester', 'ceramics', 'store', 'window'], tags=[836]), TaggedDocument(words=['life', 'photograph', 'oranges', 'apples'], tags=[837]), TaggedDocument(words=['man', 'hair', 'microphone'], tags=[838]), TaggedDocument(words=['children', 'bed', 'camper'], tags=[839]), TaggedDocument(words=['tray', 'finger', 'sandwiches', 'scones', 'fruit', 'bottom', 'table', 'tea'], tags=[840]), TaggedDocument(words=['giraffe', 'water', 'hole', 'birds'], tags=[841]), TaggedDocument(words=['bikers', 'street'], tags=[842]), TaggedDocument(words=['baseball', 'player', 'ball', 'mitt', 'baseball', 'diamond'], tags=[843]), TaggedDocument(words=['elephant', 'grassy', 'area'], tags=[844]), TaggedDocument(words=['people', 'side', 'orad', 'bus', 'jeep', 'close'], tags=[845]), TaggedDocument(words=['group', 'people', 'beach', 'surfboards'], tags=[846]), TaggedDocument(words=['horse', 'cart', 'street'], tags=[847]), TaggedDocument(words=['guy', 'skateboard', 'curb'], tags=[848]), TaggedDocument(words=['table', 'burrito', 'plate', 'plates', 'food', 'cups'], tags=[849]), TaggedDocument(words=['plate', 'meat', 'ball', 'sandwiches', 'sauce'], tags=[850]), TaggedDocument(words=['shore', 'boats'], tags=[851]), TaggedDocument(words=['there', 'pizza', 'on', 'the', 'counter'], tags=[852]), TaggedDocument(words=['train', 'yard', 'trains'], tags=[853]), TaggedDocument(words=['man', 'dirtbike', 'dirt', 'track'], tags=[854]), TaggedDocument(words=['man', 'rain', 'coat', 'others', 'city', 'street'], tags=[855]), TaggedDocument(words=['elephant', 'food', 'people'], tags=[856]), TaggedDocument(words=['homemade', 'pizza', 'toppings', 'piece', 'paper'], tags=[857]), TaggedDocument(words=['passenger', 'train', 'track', 'trees'], tags=[858]), TaggedDocument(words=['plate', 'meal', 'broccoli', 'cheese'], tags=[859]), TaggedDocument(words=['couple', 'people', 'ocean'], tags=[860]), TaggedDocument(words=['person', 'table', 'plate', 'food'], tags=[861]), TaggedDocument(words=['room', 'cot', 'clothes'], tags=[862]), TaggedDocument(words=['lion', 'bottle'], tags=[863]), TaggedDocument(words=['dog', 'floor', 'office', 'area'], tags=[864]), TaggedDocument(words=['clock', 'side', 'building'], tags=[865]), TaggedDocument(words=['guys', 'rackets', 'ball'], tags=[866]), TaggedDocument(words=['man', 'surf', 'board', 'ocean'], tags=[867]), TaggedDocument(words=['snowboarder', 'snowy', 'mountain', 'slope'], tags=[868]), TaggedDocument(words=['teams', 'frisbee', 'field'], tags=[869]), TaggedDocument(words=['bird', 'grass'], tags=[870]), TaggedDocument(words=['view', 'ivy', 'stone', 'wall', 'train', 'station'], tags=[871]), TaggedDocument(words=['stuffed', 'animals', 'flowers', 'stone', 'memorial'], tags=[872]), TaggedDocument(words=['vintage', 'photo', 'woman', 'bath', 'tub'], tags=[873]), TaggedDocument(words=['vase', 'flower', 'table'], tags=[874]), TaggedDocument(words=['snowboarder', 'ramp'], tags=[875]), TaggedDocument(words=['plate', 'beef', 'broccoli'], tags=[876]), TaggedDocument(words=['elephant', 'pile', 'food'], tags=[877]), TaggedDocument(words=['bear', 'area', 'water'], tags=[878]), TaggedDocument(words=['man', 'ocean', 'board'], tags=[879]), TaggedDocument(words=['animals', 'building'], tags=[880]), TaggedDocument(words=['people', 'pose', 'picture'], tags=[881]), TaggedDocument(words=['picture', 'couch', 'room'], tags=[882]), TaggedDocument(words=['man', 'shirt', 'trick', 'skateboard'], tags=[883]), TaggedDocument(words=['street', 'sign', 'steiner', 'corner'], tags=[884]), TaggedDocument(words=['couple', 'street', 'signs', 'side', 'road'], tags=[885]), TaggedDocument(words=['group', 'animals', 'tree'], tags=[886]), TaggedDocument(words=['plate', 'club', 'sandwich', 'fries'], tags=[887]), TaggedDocument(words=['cat', 'front', 'computer', 'screen', 'keyboard'], tags=[888]), TaggedDocument(words=['bathroom', 'trash', 'sink'], tags=[889]), TaggedDocument(words=['dued', 'parking', 'lot', 'trick', 'skateboard'], tags=[890]), TaggedDocument(words=['man', 'trunks', 'beach', 'people', 'water'], tags=[891]), TaggedDocument(words=['chair', 'couch', 'room'], tags=[892]), TaggedDocument(words=['gas', 'station', 'toilet', 'months'], tags=[893]), TaggedDocument(words=['pair', 'scissors', 'hair', 'tie', 'hang', 'hooks', 'wall'], tags=[894]), TaggedDocument(words=['bird', 'ground', 'worm', 'mouth'], tags=[895]), TaggedDocument(words=['couple', 'giraffe', 'field'], tags=[896]), TaggedDocument(words=['airplane', 'town'], tags=[897]), TaggedDocument(words=['person', 'parasail', 'lake'], tags=[898]), TaggedDocument(words=['group', 'giraffe', 'tree'], tags=[899]), TaggedDocument(words=['woman', 'room', 'phone'], tags=[900]), TaggedDocument(words=['woman', 'something', 'coffee', 'table'], tags=[901]), TaggedDocument(words=['van', 'drives', 'pavement', 'row', 'meters'], tags=[902]), TaggedDocument(words=['group', 'people', 'kitchen'], tags=[903]), TaggedDocument(words=['kitchen', 'sink'], tags=[904]), TaggedDocument(words=['damaged', 'car', 'motorcycle', 'accident', 'street'], tags=[905]), TaggedDocument(words=['man', 'sidewalk', 'bus', 'background'], tags=[906]), TaggedDocument(words=['couple', 'people', 'frisbees'], tags=[907]), TaggedDocument(words=['person', 'persons', 'hair'], tags=[908]), TaggedDocument(words=['small', 'parts', 'bathroom'], tags=[909]), TaggedDocument(words=['five', 'sheep', 'standing', 'line', 'herder'], tags=[910]), TaggedDocument(words=['group', 'people', 'soccer', 'players'], tags=[911]), TaggedDocument(words=['three', 'boarders', 'mountain', 'slope'], tags=[912]), TaggedDocument(words=['man', 'baseball', 'bat', 'baseball', 'game'], tags=[913]), TaggedDocument(words=['kite'], tags=[914]), TaggedDocument(words=['people', 'run', 'hill'], tags=[915]), TaggedDocument(words=['sheep', 'top', 'stone', 'wall'], tags=[916]), TaggedDocument(words=['bus', 'buildings', 'car'], tags=[917]), TaggedDocument(words=['group', 'zebra', 'field', 'fence'], tags=[918]), TaggedDocument(words=['man', 'cork', 'bottle'], tags=[919]), TaggedDocument(words=['table', 'plates', 'food'], tags=[920]), TaggedDocument(words=['refrigerator', 'freezer', 'washer', 'dryer'], tags=[921]), TaggedDocument(words=['cellphone', 'back', 'vehicle'], tags=[922]), TaggedDocument(words=['reason', 'desk', 'flower'], tags=[923]), TaggedDocument(words=['herd', 'cattle', 'field'], tags=[924]), TaggedDocument(words=['baseball', 'player', 'baseball', 'outfield', 'birmingham'], tags=[925]), TaggedDocument(words=['box', 'doughnuts', 'lines'], tags=[926]), TaggedDocument(words=['man', 'camera', 'teeth'], tags=[927]), TaggedDocument(words=['cats', 'heads', 'toilet'], tags=[928]), TaggedDocument(words=['zebras', 'meander', 'wildlife', 'park'], tags=[929]), TaggedDocument(words=['picture', 'fire', 'hydrangeas'], tags=[930]), TaggedDocument(words=['woman', 'statue', 'bear'], tags=[931]), TaggedDocument(words=['breakfast', 'pancakes', 'cream', 'drizzle', 'caramel'], tags=[932]), TaggedDocument(words=['giraffes', 'tree', 'giraffe'], tags=[933]), TaggedDocument(words=['right', 'direction', 'sign'], tags=[934]), TaggedDocument(words=['bunches', 'bananas', 'fruit', 'tables'], tags=[935]), TaggedDocument(words=['cat', 'graffiti', 'sign'], tags=[936]), TaggedDocument(words=['surfer', 'sidewalk', 'beach'], tags=[937]), TaggedDocument(words=['couple', 'men'], tags=[938]), TaggedDocument(words=['man', 'cake', 'knife'], tags=[939]), TaggedDocument(words=['bull', 'dog', 'bandana', 'skateboard'], tags=[940]), TaggedDocument(words=['woman', 'motor', 'bike', 'truck'], tags=[941]), TaggedDocument(words=['people', 'giraffe'], tags=[942]), TaggedDocument(words=['stone', 'church', 'clock', 'tower', 'city', 'road'], tags=[943]), TaggedDocument(words=['horse', 'beach', 'day'], tags=[944]), TaggedDocument(words=['flowers', 'vase', 'window'], tags=[945]), TaggedDocument(words=['cow', 'top', 'beach', 'ocean'], tags=[946]), TaggedDocument(words=['picture', 'cooks', 'animal'], tags=[947]), TaggedDocument(words=['people', 'horseback', 'beach', 'shore'], tags=[948]), TaggedDocument(words=['man', 'snowboard', 'snow', 'slope'], tags=[949]), TaggedDocument(words=['cut', 'half', 'corn', 'table', 'fork'], tags=[950]), TaggedDocument(words=['bowl', 'food', 'broccoli'], tags=[951]), TaggedDocument(words=['boys', 'kite'], tags=[952]), TaggedDocument(words=['fighter', 'jet', 'display', 'building'], tags=[953]), TaggedDocument(words=['man', 'pair', 'scissors', 'head'], tags=[954]), TaggedDocument(words=['baseball', 'player', 'bat', 'batters'], tags=[955]), TaggedDocument(words=['woman', 'shirt', 'phone', 'ear'], tags=[956]), TaggedDocument(words=['people', 'lift', 'people'], tags=[957]), TaggedDocument(words=['baseball', 'players', 'baseball', 'field'], tags=[958]), TaggedDocument(words=['elephant', 'child', 'giraffes', 'lion'], tags=[959]), TaggedDocument(words=['baseball', 'player', 'pants', 'jersey', 'pitch'], tags=[960]), TaggedDocument(words=['three', 'women', 'skis', 'slope'], tags=[961]), TaggedDocument(words=['street', 'sign', 'tents'], tags=[962]), TaggedDocument(words=['green', 'bus', 'lot', 'buses'], tags=[963]), TaggedDocument(words=['cell', 'phone', 'somebody', 'hands', 'everything'], tags=[964]), TaggedDocument(words=['pair', 'zebras', 'enclosure'], tags=[965]), TaggedDocument(words=['person', 'jet', 'ski', 'water', 'buildings'], tags=[966]), TaggedDocument(words=['train', 'bridge'], tags=[967]), TaggedDocument(words=['man', 'wine', 'row', 'wine', 'glasses'], tags=[968]), TaggedDocument(words=['man', 'pink', 'frisbee'], tags=[969]), TaggedDocument(words=['beach', 'cloudless', 'day', 'dozens', 'kites', 'air'], tags=[970]), TaggedDocument(words=['road', 'sign', 'destinations', 'highway'], tags=[971]), TaggedDocument(words=['tree', 'lot', 'oranges'], tags=[972]), TaggedDocument(words=['man', 'camera', 'motorcycle'], tags=[973]), TaggedDocument(words=['man', 'trick', 'skateboard', 'park'], tags=[974]), TaggedDocument(words=['person', 'skis', 'snow', 'hill'], tags=[975]), TaggedDocument(words=['sandwich', 'greens', 'plate'], tags=[976]), TaggedDocument(words=['woman', 'frisbee', 'field'], tags=[977]), TaggedDocument(words=['dog', 'frisbee', 'mouth', 'dog', 'beach'], tags=[978]), TaggedDocument(words=['man', 'jumps', 'frisbee'], tags=[979]), TaggedDocument(words=['office', 'table', 'desks', 'area'], tags=[980]), TaggedDocument(words=['hand', 'piece', 'sandwich'], tags=[981]), TaggedDocument(words=['bowl', 'fruits', 'apples', 'bananas'], tags=[982]), TaggedDocument(words=['clock', 'hand', 'brick', 'wall'], tags=[983]), TaggedDocument(words=['dark', 'man', 'sunglasses', 'frisbee'], tags=[984]), TaggedDocument(words=['bed', 'room', 'bed'], tags=[985]), TaggedDocument(words=['girls', 'bed', 'lamp'], tags=[986]), TaggedDocument(words=['men', 'pile', 'gravel'], tags=[987]), TaggedDocument(words=['laptop', 'desk', 'window'], tags=[988]), TaggedDocument(words=['dog', 'floor', 'pair', 'scissors', 'floor'], tags=[989]), TaggedDocument(words=['cat', 'hiding', 'bag', 'floor', 'pair', 'scissors'], tags=[990]), TaggedDocument(words=['grey', 'park', 'bench', 'brick', 'wall'], tags=[991]), TaggedDocument(words=['baseball', 'player', 'ball', 'field'], tags=[992]), TaggedDocument(words=['couple', 'men', 'glasses', 'wine'], tags=[993]), TaggedDocument(words=['collection', 'vegetables', 'sits', 'sink'], tags=[994]), TaggedDocument(words=['lone', 'train', 'engine', 'traffic', 'signals'], tags=[995]), TaggedDocument(words=['box', 'donuts', 'chocolate', 'vanilla'], tags=[996]), TaggedDocument(words=['group', 'men', 'women', 'drinks', 'restaurant'], tags=[997]), TaggedDocument(words=['blender', 'lid', 'cord'], tags=[998]), TaggedDocument(words=['well', 'businessman', 'parking', 'lot'], tags=[999])]\n"
          ],
          "name": "stdout"
        }
      ]
    },
    {
      "cell_type": "markdown",
      "metadata": {
        "id": "9S8FQUE19o4k",
        "colab_type": "text"
      },
      "source": [
        "Now we will train it."
      ]
    },
    {
      "cell_type": "code",
      "metadata": {
        "id": "6QYGTrd3-Ht9",
        "colab_type": "code",
        "colab": {}
      },
      "source": [
        "import multiprocessing \n",
        "\n",
        "cores = multiprocessing.cpu_count() # Count the number of cores in a computer\n",
        "\n",
        "model = gensim.models.doc2vec.Doc2Vec(vector_size=40, min_count=2, epochs=30, \n",
        "                                      workers=cores-1)"
      ],
      "execution_count": 0,
      "outputs": []
    },
    {
      "cell_type": "code",
      "metadata": {
        "id": "7lwQ4oQf9qRD",
        "colab_type": "code",
        "outputId": "0192816c-fc15-4fad-abb9-702029e9d9ad",
        "colab": {
          "base_uri": "https://localhost:8080/",
          "height": 34
        }
      },
      "source": [
        "t = time.time()\n",
        "\n",
        "model.build_vocab(r, progress_per=10000)\n",
        "\n",
        "print('Time to build vocab: {} mins'.format(round((time.time() - t) / 60, 2)))"
      ],
      "execution_count": 189,
      "outputs": [
        {
          "output_type": "stream",
          "text": [
            "Time to build vocab: 0.01 mins\n"
          ],
          "name": "stdout"
        }
      ]
    },
    {
      "cell_type": "code",
      "metadata": {
        "id": "nsV2Oy5r9q6D",
        "colab_type": "code",
        "outputId": "9c9be110-a566-4298-dbaa-704dd3291055",
        "colab": {
          "base_uri": "https://localhost:8080/",
          "height": 34
        }
      },
      "source": [
        "\n",
        "model.train(r, total_examples=model.corpus_count, epochs=model.epochs)\n",
        "\n",
        "print('Time to train the model: {} mins'.format(round((time.time() - t) / 60, 2)))"
      ],
      "execution_count": 190,
      "outputs": [
        {
          "output_type": "stream",
          "text": [
            "Time to train the model: 0.05 mins\n"
          ],
          "name": "stdout"
        }
      ]
    },
    {
      "cell_type": "code",
      "metadata": {
        "id": "PgtwxYodX3NM",
        "colab_type": "code",
        "colab": {
          "base_uri": "https://localhost:8080/",
          "height": 54
        },
        "outputId": "1abb7a2a-e242-4b70-a800-1321439d36de"
      },
      "source": [
        "print(r)"
      ],
      "execution_count": 278,
      "outputs": [
        {
          "output_type": "stream",
          "text": [
            "[['skateboarder', 'trick', 'skateboard', 'ramp'], ['person', 'air', 'skis'], ['wood', 'door', 'boards'], ['do', 'enter', 'sign', 'road', 'stadium'], ['small', 'child', 'chair', 'plate'], ['groups', 'people', 'toilet', 'area'], ['hand', 'cellphone'], ['people', 'computers', 'student', 'room'], ['birds', 'field'], ['man', 'cell', 'phone', 'park'], ['group', 'men', 'table', 'microphones', 'speech'], ['bathroom', 'toilet', 'sprayer', 'wall'], ['woman', 'bench', 'phone'], ['woman', 'clock', 'purse', 'market'], ['surfer', 'hand', 'signal'], ['cat', 'asphalt'], ['carrots', 'cut', 'squash', 'carrots'], ['traffic', 'lights', 'intersection', 'world'], ['man', 'goatee', 'backseat', 'vehicle', 'luggage'], ['street', 'sign', 'intersection', 'beacon', 'ave', 'stevens', 'st'], ['kid', 'skateboard', 'kid'], ['apple', 'clock', 'display'], ['bunch', 'color', 'watches', 'table'], ['man', 'suit', 'standing', 'front', 'stove'], ['pizzas', 'sauce', 'cheese', 'table'], ['variety', 'vegetables', 'sticks', 'tray', 'control'], ['bus', 'road', 'driver'], ['pizza', 'cut', 'pieces', 'top', 'counter'], ['plate', 'breakfast', 'food', 'eggs', 'toast', 'hash', 'browns'], ['transit', 'bus', 'lot'], ['man', 'air', 'skateboard'], ['ground', 'plane'], ['person', 'bananas', 'back'], ['three', 'zebras', 'field', 'grass'], ['couple', 'pieces', 'toast', 'cup', 'syrup'], ['many', 'dishes', 'people'], ['herd', 'wire', 'fence'], ['slice', 'pizza', 'cheese', 'crust'], ['herd', 'cows', 'field'], ['paper', 'plate', 'dog', 'sandwich', 'cream', 'cheese'], ['baby', 'boy', 'room', 'baby', 'doll'], ['man', 'woman', 'tennis', 'rackets', 'court'], ['bus', 'side', 'man', 'storage', 'bus'], ['girl', 'man', 'tie'], ['baseball', 'player', 'bat', 'game'], ['man', 'ocean', 'waters', 'waves'], ['couple', 'women', 'top', 'tennis', 'court'], ['zebra'], ['clock', 'side', 'beige', 'bell', 'tower'], ['bear', 'teeth', 'camera'], ['remote', 'sink', 'room'], ['bathroom', 'sink', 'mirror', 'toilet', 'tub'], ['passenger', 'train', 'platform'], ['group', 'people', 'restaurant', 'table'], ['men', 'glasses'], ['woman', 'slice', 'pizza', 'cheese'], ['motor', 'bike', 'side', 'road'], ['plate', 'foods', 'cheeses'], ['donuts', 'cell', 'phone', 'table'], ['six', 'plastic', 'containers', 'vegetables'], ['horse', 'standing', 'front', 'portrait', 'village'], ['women', 'hill'], ['man', 'glasses', 'suit', 'vest'], ['kitchen', 'counters', 'chrome', 'microwave', 'backsplash'], ['retriever', 'dog', 'desk'], ['dog', 'leash', 'reflection', 'door'], ['giraffe', 'umbrella'], ['skier', 'blue', 'jacket', 'goggles'], ['skier', 'view', 'mountain', 'top'], ['truck', 'highway'], ['batter', 'plate', 'swing', 'pitch'], ['train', 'towards', 'train', 'station'], ['people', 'baggage', 'claim', 'area', 'airport'], ['bride', 'groom', 'wedding', 'cake'], ['parking', 'meters', 'front', 'spaces', 'lot'], ['bunch', 'road', 'signs', 'side', 'road'], ['plate', 'food', 'table', 'pitchers'], ['laptop', 'desk', 'coke', 'bottle', 'apple', 'monitor'], ['person', 'skis', 'lays', 'snow', 'legs'], ['cars', 'street', 'traffic', 'light'], ['people', 'tables', 'outdoors'], ['giraffe', 'boulder', 'wall'], ['leather', 'chair', 'book', 'arm'], ['group', 'cross', 'country', 'skiiers', 'race'], ['table', 'plates', 'food'], ['couple', 'animals', 'day'], ['man', 'tie', 'front', 'mirror'], ['cat', 'piece', 'luggage'], ['elephant', 'background', 'monkey', 'sides'], ['man', 'tennis', 'ball'], ['bathroom', 'door'], ['bar', 'blender', 'liquid'], ['girafee', 'top', 'tree', 'girafee'], ['clock', 'tower', 'towering', 'city'], ['man', 'motor', 'cycle', 'saddle', 'bags'], ['mug', 'keyboard', 'desk'], ['man', 'drives', 'horse', 'carriage'], ['zebras', 'side', 'side', 'grass'], ['inside', 'apartment', 'door', 'chairs', 'refrigerator'], ['bathroom', 'beige', 'flooring', 'walls'], ['glass', 'pan', 'sauce', 'zucchini'], ['child', 'skis', 'cable'], ['baseball', 'pitcher', 'motion', 'ball', 'fingers'], ['zebra', 'drinking', 'pond'], ['apple', 'grapes', 'kiwi', 'bowl'], ['sitting', 'table', 'papers', 'cups'], ['hill', 'skier', 'bottom'], ['passenger', 'train', 'station'], ['train', 'amount', 'pollution', 'traveling', 'train', 'station'], ['waterway', 'navigation'], ['couple', 'ripe', 'bananas', 'top', 'table'], ['person', 'tennis', 'racket', 'tennis', 'tennis', 'court'], ['woman', 'sky', 'man'], ['bus', 'flag', 'front'], ['motorcycles', 'line', 'walls', 'room'], ['bedroom', 'walls', 'bed', 'desk'], ['woman', 'racquet'], ['girl', 'surf', 'board', 'water'], ['beds', 'closet', 'room'], ['dessert', 'sample', 'plate', 'chocolate', 'cake', 'strawberry', 'ice', 'cream'], ['man', 'woman', 'hug', 'park', 'bench'], ['kitten', 'mirror', 'room'], ['three', 'ambulances', 'row', 'parking', 'lot'], ['living', 'room', 'man'], ['couple', 'people', 'horse'], ['shell', 'pasta', 'beef', 'broccoli', 'hunk', 'bread'], ['plate', 'meat', 'potatoes', 'broccolli'], ['woman', 'book', 'library'], ['bathtub', 'combination', 'hand', 'shower', 'cradle'], ['dogs', 'sidewalk', 'horse', 'passes'], ['man', 'bathroom'], ['air', 'canada', 'flight', 'sky'], ['batter', 'pitch', 'baseball', 'game'], ['pieces', 'cake', 'plates', 'table'], ['many', 'sheep', 'field', 'ones'], ['set', 'baskets', 'top', 'table'], ['computer', 'mouse', 'keyboard', 'table'], ['baseball', 'player', 'bat', 'game'], ['man', 'boy', 'tennis', 'tennis', 'court'], ['three', 'cups', 'saucers', 'gold', 'post'], ['group', 'wine', 'glasses', 'wine'], ['woman', 'table', 'plate', 'food', 'front'], ['bus', 'sign', 'side'], ['boys', 'tennis', 'court', 'basket', 'tennis', 'balls'], ['water', 'hydrant', 'police', 'cars', 'background'], ['book', 'bag', 'stairs'], ['group', 'people', 'bus'], ['man', 'teeth', 'bathroom'], ['man', 'wii', 'front', 'christmas', 'tree'], ['children', 'grandmother', 'bake', 'bread'], ['group', 'plates', 'donuts'], ['cat', 'wood', 'statue'], ['baseball', 'pitcher', 'baseball', 'pitchers', 'mound'], ['person', 'beach'], ['round', 'bed', 'room', 'walls', 'sheets'], ['bathroom', 'transportation'], ['cars', 'light', 'evening'], ['utility', 'truck', 'passing', 'people'], ['refrigerator', 'lot', 'things'], ['hotdog', 'bun', 'bottle', 'water', 'table'], ['woman', 'glasses', 'video', 'game', 'remote', 'hands'], ['man', 'skateboard', 'ramp'], ['object', 'photo'], ['woman', 'shirt', 'jeans', 'sits', 'park', 'bench', 'cell'], ['group', 'sailors', 'celebrating', 'something', 'people', 'cake'], ['picture', 'alaska', 'airlines', 'jumbo', 'jet', 'flight'], ['pizza', 'toppings'], ['many', 'signs', 'chain', 'link', 'fence', 'fire', 'hydrant'], ['sheep', 'middle', 'grass'], ['person', 'cake', 'lot', 'kids'], ['large', 'airplane', 'sky'], ['dog', 'furniture', 'background'], ['boy', 'tennis', 'ball', 'racket'], ['cat', 'front', 'window', 'grass'], ['hotel', 'room', 'swans', 'heart', 'bottom'], ['person', 'top'], ['group', 'motorcycles', 'display', 'room'], ['workers', 'luggage', 'passenger', 'jet'], ['cars', 'road', 'street', 'lights'], ['three', 'men', 'elephant', 'car', 'behind'], ['group', 'horses', 'dirt', 'field'], ['window', 'glass', 'shower', 'stall', 'bathroom', 'bright'], ['group', 'vases', 'counter'], ['motor', 'cycle', 'cop', 'truck'], ['cat', 'book'], ['woman', 'food'], ['room', 'window'], ['suitcase', 'clothing', 'floor', 'indoors'], ['police', 'officers', 'horse', 'street'], ['pile', 'produce', 'top', 'table'], ['zebra', 'field'], ['bathroom', 'mirror', 'sinks'], ['six', 'dollar', 'bills', 'phone'], ['view', 'laptop'], ['desk', 'laptop', 'monitor'], ['woman', 'book', 'airplane'], ['sign', 'beneath', 'stand', 'tree'], ['giraffes', 'field'], ['boy', 'skate', 'board', 'park'], ['woman', 'mask', 'someone', 'airplane'], ['tennis', 'player', 'racket', 'stares', 'thought'], ['red', 'airplane', 'airport'], ['dog', 'cage', 'motocycle'], ['dog', 'bed', 'slats'], ['couple', 'school', 'buses', 'dirt'], ['three', 'skiers', 'winter', 'gear', 'mountain', 'slope'], ['vendor', 'front', 'fruit'], ['tour', 'bus', 'middle', 'parking', 'lot'], ['person', 'flies', 'kite'], ['sheep', 'dirt', 'field'], ['group', 'bikers', 'highway'], ['row', 'urinals', 'line', 'wall', 'men', 'bathroom'], ['cooks', 'kitchen', 'food'], ['people', 'side', 'side', 'wearign', 'ballerina', 'shoes'], ['man', 'toddler', 'front', 'body', 'board'], ['style', 'living', 'room'], ['stuffed', 'bear', 'tree'], ['carrots', 'oranges', 'board'], ['passenger', 'jet', 'sky'], ['men', 'ties', 'way'], ['table', 'clock', 'bottles'], ['photo', 'dingy', 'bathroom', 'toilet'], ['cat', 'food', 'dish'], ['attractvie', 'lady', 'bikini', 'sits', 'towel', 'beach'], ['seagulls', 'ocean'], ['man', 'trench', 'coat', 'kite'], ['vases', 'window', 'ledge', 'day'], ['bananas', 'pears', 'lemons', 'fruit'], ['neckties', 'circumference', 'pole'], ['lot', 'suitcase', 'side', 'building'], ['baby', 'top', 'baby', 'elephant'], ['woman', 'dishes', 'kitchen'], ['child', 'piece', 'paper', 'scissors'], ['rancher', 'cowboy', 'hat'], ['child', 'food', 'plate'], ['family', 'giraffe', 'standing', 'front', 'building', 'baby', 'deer'], ['slice', 'pizza', 'knife', 'board'], ['man', 'cake', 'children', 'birthday', 'party'], ['service', 'bus', 'street'], ['playing', 'board'], ['blue', 'airplane', 'airport', 'runway'], ['silver', 'pasenger', 'trains', 'side', 'side'], ['image', 'steer', 'horns'], ['picture', 'boats', 'water'], ['giraffes', 'savanna', 'baobab', 'tree'], ['view', 'shop', 'clock', 'door'], ['boy', 'kitchen', 'pizza'], ['man', 'skateboard', 'ramp'], ['pizza', 'top', 'metal', 'counter'], ['bank', 'street', 'corner', 'clock', 'building'], ['fruit', 'yogurt', 'bowl', 'salad'], ['plant', 'shelf', 'window'], ['bathroom'], ['cat', 'bench'], ['inside', 'kitchen', 'door'], ['couple', 'stuffed', 'bears'], ['night', 'time', 'street', 'sign', 'pole'], ['couple', 'smiling', 'wine', 'glasses'], ['dish', 'broccoli', 'summer', 'squash', 'sits', 'table'], ['man', 'hill', 'snowboard'], ['guy', 'board', 'wave'], ['green', 'decker', 'bus', 'attendant', 'front'], ['man', 'home', 'plate', 'baseball', 'uniform'], ['meal', 'bread', 'vegetables', 'plate'], ['man', 'swings', 'tennis', 'racket', 'ball'], ['green', 'bananas', 'grapefruit', 'pot', 'flowers'], ['car', 'thats', 'front', 'fire', 'hydrant'], ['commercial', 'airliner', 'landing'], ['man', 'skis', 'crater', 'sorts'], ['meal', 'containers'], ['group', 'kids', 'game', 'soccer'], ['bear', 'carrot', 'field'], ['shots', 'bald', 'man', 'teeth'], ['group', 'buses', 'cars', 'street'], ['living', 'room', 'wit', 'ha', 'fire', 'place'], ['train', 'driving', 'bridge', 'field'], ['sailboat', 'water', 'cement', 'walkway'], ['cat', 'field'], ['birds', 'field'], ['bunch', 'food', 'table'], ['woman', 'frisbee', 'ball', 'dogs'], ['man', 'blackberry', 'phone', 'crowd', 'people', 'front', 'stage', 'men', 'podium'], ['bowl', 'soup', 'carrots', 'fork'], ['family', 'people', 'dining', 'room', 'table', 'assortment', 'food', 'wine'], ['lot', 'comdents'], ['people', 'bed'], ['wheelchair', 'cargo', 'van'], ['plane', 'runway'], ['cat', 'sits', 'living', 'room', 'front', 'television'], ['man', 'jump'], ['woman', 'car', 'dog'], ['woman', 'gesture', 'photograph'], ['baby', 'zebra', 'field'], ['several', 'flowers', 'stems', 'glass', 'vase'], ['woman', 'pair', 'scissors', 'tape', 'hands'], ['vegetables', 'counter', 'kitchen'], ['table', 'types', 'liquor'], ['trains', 'tracks', 'snow'], ['dog', 'cat', 'cake'], ['person', 'board'], ['birds', 'telephone', 'wires', 'bird'], ['sheep', 'eat', 'bowl', 'sheepdog'], ['giraffe', 'adult', 'giraffe'], ['female', 'surfer', 'waves', 'sea'], ['view', 'tennis', 'court', 'men', 'tennis'], ['woman', 'glass', 'plates', 'front'], ['woman', 'bench'], ['woman', 'dress', 'umbrella', 'walks', 'railing', 'stone', 'wall'], ['woman', 'horse'], ['keyboard', 'mouse', 'cell', 'phone', 'notepad', 'desk'], ['busy', 'crowded', 'city', 'with', 'lights', 'everywhere'], ['cows', 'directions', 'meadow'], ['clocks', 'signs', 'train', 'platforms'], ['crowd', 'people', 'fair', 'kites'], ['refrigerator', 'corner', 'room'], ['single', 'planes', 'airport', 'mountain'], ['three', 'giraffes', 'grassy', 'field'], ['grandfather', 'clock', 'wall'], ['person', 'sandwich'], ['woman', 'vegetables', 'kitchen'], ['man', 'suit', 'tie', 'laying', 'dirt'], ['man', 'hospital', 'bed', 'computer'], ['group', 'men', 'game', 'frisbee', 'park'], ['people', 'motorcycles', 'grass'], ['couple', 'bears', 'road'], ['man', 'refrigerator'], ['children', 'bathtub', 'suds'], ['giraffes', 'field', 'trees'], ['person', 'front', 'tray', 'pretzels'], ['number', 'zebras', 'field', 'trees'], ['man', 'jacket', 'bow', 'tie'], ['piece', 'cake', 'plate'], ['vintage', 'photo', 'man', 'bear'], ['people', 'bench', 'woods', 'shore', 'lake'], ['sign', 'fire', 'hydrant'], ['man', 'cell', 'phone', 'winter', 'hat'], ['people'], ['herd', 'cows', 'barb', 'wire', 'fence'], ['closeup', 'sign', 'piece', 'paper', 'tape'], ['people', 'motor', 'boat', 'body', 'water'], ['clock', 'top', 'tower'], ['laying', 'sand'], ['men', 'sit', 'shade', 'motorcycle'], ['group', 'birds', 'park', 'bench'], ['fire', 'hydrant', 'front', 'business'], ['group', 'people', 'skis', 'slope'], ['person', 'balcony', 'chandeliers'], ['plastic', 'container', 'finger', 'food', 'chopsticks', 'juice', 'box', 'rubber', 'band'], ['tennis', 'players', 'court', 'crowd', 'watches'], ['ducks', 'plants', 'edge', 'body', 'water'], ['group', 'people', 'city', 'street'], ['spoon', 'plate', 'food'], ['person', 'arms'], ['blanket', 'side', 'bed'], ['decker', 'buses', 'blue', 'decker', 'bus'], ['giraffes', 'field', 'trees', 'background'], ['taxi', 'bus', 'side', 'road'], ['line', 'traffic', 'truck', 'car', 'vehicle', 'horse'], ['man', 'tie', 'note'], ['boy', 'dog'], ['area', 'water', 'people'], ['zebra', 'top', 'grass', 'field'], ['wedding', 'cake', 'luggage'], ['children', 'outside', 'bench'], ['girl', 'bench', 'hands', 'chin'], ['man', 'laptop', 'cats', 'table'], ['men', 'hands', 'picture'], ['woman', 'wine', 'wine', 'event'], ['giraffe', 'group', 'spectators'], ['boat', 'stairs', 'field'], ['person', 'skis', 'slope'], ['water', 'show', 'skiers', 'shoulders', 'skiers'], ['downward', 'view', 'toilet', 'cubicle'], ['water', 'skier', 'watercraft', 'lake'], ['baby', 'sheep', 'mother', 'sheep', 'field'], ['cat', 'crib'], ['couple', 'people', 'standing', 'snow'], ['guy', 'umbrella', 'light', 'beach', 'night'], ['medium', 'size', 'boat', 'body', 'water'], ['man', 'skis', 'water'], ['officer', 'motorcycle', 'group', 'protesters', 'street'], ['stone', 'sign', 'temperature', 'date'], ['girl', 'pink', 'silverware', 'pizza'], ['fresh', 'fruit', 'vegetables', 'bunch'], ['sign', 'mirror'], ['street', 'signs', 'directions', 'castle', 'standing', 'background'], ['couple', 'puppies', 'bed'], ['guy', 'beach', 'surf', 'board'], ['giraffe', 'camel', 'grass', 'field'], ['man', 'suit', 'tie', 'room', 'renovation'], ['person', 'ocean', 'surfboard', 'trick'], ['man', 'bottle', 'liquor', 'field'], ['computer', 'top', 'table'], ['decker', 'bus', 'street'], ['jetliner', 'blue', 'sky'], ['street', 'sign', 'road'], ['lion', 'chair', 'table'], ['corner', 'street', 'people'], ['boy', 'girl'], ['man', 'woman', 'video', 'game'], ['woman', 'kitchen', 'pizza', 'cardboard'], ['ducks', 'water'], ['telephones', 'body', 'cat'], ['man', 'birth', 'baby', 'sheeps'], ['frolicking', 'shrubbery'], ['shutters', 'building', 'blue'], ['mixer', 'liquid'], ['holder', 'bathroom', 'toothbrushes'], ['blue', 'house', 'boat', 'grass'], ['bear', 'story', 'book'], ['bathroom'], ['statues', 'animals', 'lawn'], ['boy', 'bench', 'cellphone'], ['plane', 'hangar', 'photo'], ['hand', 'phones', 'room'], ['tray', 'oranges', 'bananas', 'pineapple'], ['child', 'piece', 'brocolli'], ['man', 'surfboard', 'towards', 'beach', 'foam'], ['emergency', 'vehicles', 'fireman', 'cherry', 'picker', 'top', 'ladder', 'city'], ['woman', 'drinks', 'kitchen'], ['man', 'steal', 'pizza'], ['person', 'skis', 'snow'], ['decker', 'bus', 'street'], ['woman', 'court', 'racquet'], ['woman', 'beach', 'blue', 'umbrella', 'head'], ['cat', 'apples'], ['military', 'man'], ['table', 'room'], ['officer', 'motorcycle', 'side', 'car'], ['street', 'downtown', 'skyscraper'], ['bunch', 'elephants', 'middle', 'brush'], ['truck', 'bus', 'tow'], ['motorcyclist', 'highway'], ['men', 'speed', 'boat', 'water'], ['twin', 'bed', 'corner', 'room', 'painting', 'wall'], ['man', 'back', 'truck'], ['horse', 'baggage', 'saddle'], ['five', 'remotes'], ['person', 'factor', 'bananas'], ['giraffe', 'standing', 'middle', 'area'], ['man', 'horse', 'number', 'shirt'], ['man', 'movie'], ['man', 'street', 'dog'], ['woman', 'plate', 'food'], ['children', 'steam', 'train', 'bear', 'front', 'engine'], ['plate', 'meat', 'seafood', 'corn', 'slice', 'bread'], ['airplane', 'top', 'airport', 'tarmac'], ['plate', 'fork', 'cake'], ['lunch', 'assortment', 'things'], ['pizza', 'plate', 'toppings'], ['blue', 'toilet', 'stall', 'foot', 'rests'], ['pile', 'veggies', 'gravy'], ['stone', 'clock', 'tower', 'trees'], ['baskets', 'fruit', 'vegetables'], ['woman', 'pink', 'umbrella', 'alleyway'], ['road', 'way', 'sign', 'middle', 'desert'], ['half', 'plate'], ['group', 'people', 'top', 'boat'], ['cat', 'bed'], ['kids', 'ball', 'court'], ['giraffes', 'path', 'food'], ['grazing', 'hillside'], ['man', 'shirt', 'tie', 'wool', 'vest'], ['zebra', 'one'], ['girls', 'bears', 'paper', 'hats'], ['clock', 'hippo', 'base'], ['man', 'pan', 'inside', 'metal', 'sink'], ['people', 'path', 'boat', 'body', 'water'], ['young', 'boy', 'bat', 'youth', 'baseball', 'game', 'park'], ['women', 'peace', 'sign', 'table', 'pizza'], ['person', 'skateboard', 'trick'], ['kitchen', 'pets', 'food', 'dishes', 'floor'], ['stone', 'house', 'clock', 'front'], ['kitchen', 'stainless', 'appliances'], ['box', 'pizza'], ['kitchen', 'appliances'], ['lady', 'kitchen'], ['surfer', 'wave', 'ocean'], ['man', 'wave', 'surfboard', 'ocean'], ['elephant', 'elephant', 'crossing', 'water'], ['woman', 'tennis', 'ball'], ['baby', 'front', 'cardboard', 'box', 'orange', 'bananas'], ['man', 'saddle', 'horse'], ['wind', 'surfer', 'water', 'mountain'], ['view', 'bathroom', 'hotel', 'room'], ['dog', 'window', 'building'], ['person', 'cowboy', 'hat', 'park', 'bench'], ['people', 'skateboards', 'ramp'], ['person', 'others', 'television'], ['baby', 'giraffe', 'cage', 'branch'], ['chairs', 'bench', 'bushes'], ['table', 'computer', 'type', 'equipment'], ['couple', 'animals', 'dirt'], ['airplane', 'sky'], ['person', 'motor', 'cart', 'para', 'sail', 'chute'], ['cow', 'head', 'someone', 'strap'], ['sort', 'experiment', 'toaster'], ['people', 'sandy', 'shore'], ['boy', 'board', 'hill'], ['row', 'park', 'benches', 'building', 'background'], ['bakers', 'kitchen', 'table', 'cakes', 'pastries'], ['man', 'glasses', 'works', 'computer'], ['skier', 'wheelchair', 'bound', 'skis', 'chair'], ['traffic', 'sign', 'sits', 'foreground', 'line', 'row', 'houses'], ['cat', 'couch', 'living', 'room'], ['tennis', 'player', 'tennis', 'ball'], ['athlete', 'horse', 'obstacle', 'field'], ['truck', 'mountains'], ['bridge', 'river'], ['picture', 'rockefeller', 'plaza', 'street', 'sign'], ['man', 'son', 'refrigerator'], ['man', 'motorcycle', 'metal', 'structure'], ['counter', 'bowls', 'bottles', 'stove'], ['pizza', 'card', 'board', 'box'], ['women', 'umbrella'], ['diapered', 'baby', 'adult', 'tie'], ['transit', 'bus', 'city', 'street'], ['herd', 'elephants', 'field'], ['man', 'birds'], ['baseball', 'pitcher', 'uniform', 'mound'], ['male', 'tennis', 'player', 'racket'], ['baseball', 'player', 'swings', 'baseball'], ['field', 'cows', 'trees'], ['couple', 'carrots', 'board', 'knife'], ['woman', 'wall', 'phone'], ['bowl', 'food', 'vegetables', 'foods'], ['people', 'rain', 'station'], ['men', 'field', 'frisbee'], ['bench', 'bend', 'path', 'woods'], ['view', 'people', 'surfboards', 'water'], ['construction', 'sign', 'street'], ['restaurant', 'bar', 'grill'], ['car', 'parking', 'lot', 'clock', 'tower', 'background'], ['sign', 'school', 'boring', 'slow', 'down'], ['train', 'station', 'train', 'passengers'], ['this', 'black', 'and', 'white', 'photo', 'surfer'], ['men', 'water', 'boat'], ['man', 'motorcycle', 'horse'], ['nose', 'dog', 'cushion', 'chair'], ['arrangement', 'vase'], ['zebra', 'standing', 'fence', 'area', 'zebra', 'ground'], ['cat', 'legs', 'bed'], ['people', 'city', 'street'], ['moden', 'tracks'], ['bathroom', 'vanity', 'sinks', 'countertop'], ['cows', 'grass', 'trees'], ['blue', 'airplane', 'runway'], ['men', 'bench', 'cell', 'phones'], ['guy', 'picture', 'group', 'people'], ['skier', 'powder', 'snow'], ['people', 'front', 'wall'], ['woman', 'shirt', 'sits', 'table', 'plate', 'food'], ['kite', 'air'], ['memory', 'foam', 'mattress', 'sit', 'room'], ['horse', 'grass', 'water'], ['woman', 'front', 'refrigerator', 'glass', 'beer'], ['roast', 'dinner', 'plate', 'table'], ['couple', 'umbrella', 'cloudy', 'afternoon'], ['many', 'motorcycles', 'bikers', 'parking', 'lot'], ['woman', 'umbrella', 'tree', 'water'], ['stop', 'sign', 'kinds', 'graffiti'], ['child', 'chair', 'bag', 'candy'], ['baseball', 'players', 'baseball', 'field', 'crowd', 'watching'], ['boy', 'skateboard', 'fence'], ['street', 'scene', 'police', 'officers', 'horses'], ['black', 'photograph', 'airplane', 'beach'], ['lights', 'dark', 'city', 'street', 'night'], ['one', 'suitcase', 'duffel', 'bag'], ['crown', 'people', 'beach', 'kites'], ['twin', 'bed', 'sheets', 'pair', 'pillows'], ['boat'], ['plate', 'food', 'table', 'cake', 'icing'], ['woman', 'baby', 'kitchen'], ['horse', 'field', 'grass'], ['trio', 'birds', 'stream', 'snow'], ['men', 'stand', 'front', 'war', 'plane'], ['skier', 'jump', 'slope'], ['man', 'surfboard', 'ocean'], ['man', 'back', 'motorcycle'], ['sink', 'bathroom'], ['skateboarder', 'rail', 'skatepark'], ['plate', 'donut', 'creamer'], ['man', 'air', 'skis'], ['crowd', 'people', 'flag'], ['brick', 'building', 'steeple', 'corner'], ['bunch', 'people', 'tables'], ['person', 'pink', 'donut', 'front', 'tv'], ['giraffe'], ['man', 'skateboard', 'street', 'people', 'road'], ['man', 'dog', 'side', 'street', 'cars'], ['man', 'head', 'lamp', 'apple', 'laptop'], ['zebra', 'dirt', 'bushes', 'tree'], ['one', 'boy', 'street'], ['dodgers', 'baseball', 'player', 'field'], ['baseball', 'player', 'baseball', 'catchers', 'baseball', 'field'], ['couple', 'carnival', 'assortment', 'stuffed', 'animals'], ['man', 'hat', 'gun'], ['crosswalk', 'city', 'street', 'night'], ['kid', 'hat', 'bench'], ['person', 'dogs', 'beach'], ['tennis', 'player', 'ball'], ['person', 'park', 'bench', 'grass'], ['jet', 'ocean', 'sky'], ['display', 'giraffes', 'zebras', 'elephants', 'building'], ['carnival', 'displays', 'lights', 'lots', 'people'], ['group', 'people', 'game', 'controllers'], ['doorway', 'bed', 'chair'], ['bus', 'side', 'street'], ['fire', 'hydrant', 'area', 'street'], ['dogs', 'sheep', 'arena', 'crowd', 'watching'], ['blue', 'plate', 'food', 'biscuits'], ['photos', 'kid', 'cake'], ['man', 'blanket', 'frisbee'], ['passenger', 'train', 'track'], ['people', 'sidewalk', 'city'], ['man', 'home', 'kitchen'], ['boy', 'skateboard', 'street', 'corner'], ['toilet', 'tub'], ['surfer', 'wet', 'suit', 'ocean'], ['lacrosse', 'player', 'game', 'equipment'], ['image', 'boy', 'tricks', 'skateboard'], ['giraffe', 'spots', 'tree'], ['man', 'street', 'sign', 'crowd', 'people'], ['street', 'sign', 'bicycle'], ['person', 'skateboard', 'standing', 'top', 'ramp'], ['people', 'board', 'train'], ['skateboarder', 'tricks', 'park', 'area'], ['woman', 'knife', 'party', 'foods'], ['table', 'chairs', 'window'], ['couple', 'trains', 'tracks', 'station'], ['kites', 'cloudy', 'sky'], ['jets', 'row'], ['man', 'man'], ['photo', 'baby', 'bed'], ['wine', 'glass', 'table', 'wine'], ['close', 'propeller', 'blades'], ['pace', 'car', 'marathon', 'time'], ['truck', 'yacht', 'street'], ['woman', 'bench', 'bear'], ['truck', 'trailer', 'man', 'walks'], ['men', 'wii', 'game', 'system'], ['chefs', 'meal', 'kitchen'], ['picture', 'bed', 'room'], ['picture', 'kid', 'water', 'fun'], ['vase'], ['couple', 'men', 'snowboards'], ['three', 'skiers', 'skies', 'icy', 'road'], ['man', 'horse', 'child'], ['man', 'air', 'board'], ['picture', 'street', 'sign'], ['man', 'tennis', 'court'], ['baseball', 'game', 'crowd', 'fans', 'stands'], ['man', 'suit', 'wall', 'beach', 'ocean'], ['variety', 'food', 'ingredients', 'silver', 'pot'], ['note', 'front', 'teddybear'], ['woman', 'umbrella', 'street'], ['woman', 'tennis', 'ball', 'racket'], ['dog', 'walks', 'adults', 'view', 'san', 'francisco', 'bridge'], ['baseball', 'batter', 'contact', 'ball'], ['baby', 'dress', 'shirt', 'vest'], ['mouth', 'ducks', 'background'], ['baseball', 'player', 'ball', 'bat'], ['man', 'suit', 'wave'], ['dishes', 'fruits', 'slice', 'watermelon', 'table'], ['beige', 'living', 'room', 'chairs', 'lamps', 'television'], ['sign', 'construction', 'area', 'building', 'street'], ['snowboarder', 'jump', 'air', 'night', 'boarding'], ['picture', 'people'], ['horse', 'fence', 'dirt'], ['zebra', 'baby', 'field'], ['woman', 'suitcases', 'escalator'], ['people', 'side', 'city', 'street'], ['woman', 'kite', 'daytime', 'sky'], ['tower', 'shows', 'clocks', 'circles'], ['group', 'people', 'luggage', 'airport'], ['oven', 'leg', 'joke'], ['giraffe', 'walks', 'field'], ['woman', 'bite', 'pizza', 'restaurant'], ['person', 'food'], ['guy', 'phone', 'hands'], ['course', 'meal', 'meat', 'vegetables'], ['car', 'turn', 'intersection', 'vehicles'], ['image', 'dog', 'front', 'fire', 'hydrant'], ['baseball', 'player', 'baseball', 'bat', 'baseball', 'field'], ['men', 'kitchen'], ['street', 'signs', 'sub', 'shop'], ['kitchen', 'man', 'bottle'], ['doughnuts'], ['person', 'picture', 'bathroom', 'mirror'], ['bunch', 'kites', 'sky'], ['man', 'snow', 'board', 'side', 'snow', 'slope'], ['person', 'head', 'hands', 'bench'], ['couple', 'horses', 'city', 'street'], ['couple', 'motorcycle', 'riders', 'track'], ['zebra', 'tree'], ['bathroom', 'pink', 'curtain'], ['man', 'shirt', 'frisbee'], ['cubicle', 'pins', 'wall', 'toys', 'top'], ['zebras', 'field', 'stand', 'side', 'side'], ['person', 'desk', 'soldering', 'iron'], ['bathroom', 'sink', 'soap', 'dispenser', 'cup', 'brushes'], ['group', 'people', 'skis', 'race'], ['one', 'turn', 'way', 'sign', 'middle', 'road'], ['man', 'surfboard', 'beach'], ['man', 'parking', 'meter', 'tree', 'city', 'street'], ['man', 'dog', 'house'], ['ketchup', 'dispenser', 'hotdog'], ['magazine', 'counter'], ['person', 'meal', 'vegetables', 'pizza'], ['bikes', 'sign'], ['person', 'surfboard', 'wave'], ['analog', 'clock', 'building', 'background'], ['train', 'line', 'bridge', 'top', 'river'], ['bathroom', 'tub', 'walk'], ['cat', 'keyboard', 'floor'], ['woman', 'baby', 'birds', 'shoulder'], ['wood', 'dining', 'room', 'table', 'chairs', 'sits', 'room', 'leather', 'chair'], ['computer', 'desk', 'printer', 'monitor'], ['large', 'truck', 'city', 'street'], ['people', 'frisbee', 'field'], ['surfer', 'head', 'surf'], ['woman', 'standing', 'duffle', 'bag', 'field', 'trees', 'frisbee'], ['giraffes', 'pen', 'trees'], ['toilet', 'lid', 'parts', 'seat'], ['intersection', 'street', 'signs', 'traffic', 'light'], ['horse', 'top', 'grass', 'field'], ['men', 'laptops'], ['man', 'motorcycle'], ['room', 'area', 'chairs', 'wall'], ['giraffe', 'camera', 'zebras'], ['workers', 'concrete', 'hole', 'field'], ['tv', 'top', 'refrigerator', 'items'], ['man', 'baseball', 'bat', 'airport'], ['view', 'street', 'traffic', 'buses', 'cars', 'motorcycle', 'rider', 'trees', 'buildings'], ['view', 'city', 'rainy', 'night'], ['man', 'tennis', 'court', 'racket'], ['man', 'tennis', 'ball', 'racket'], ['group', 'kids', 'grass'], ['women', 'side', 'walk', 'street', 'car', 'truck'], ['cat', 'picnic', 'table'], ['men', 'woman', 'photo'], ['herd', 'sheep', 'pasture'], ['cat', 'suitcase'], ['person', 'bottom', 'snowy', 'hill'], ['vases', 'flowers', 'table'], ['baseball', 'player', 'ball'], ['picture', 'person', 'soccerball'], ['man', 'dogs', 'park'], ['city', 'street', 'cars', 'people'], ['man', 'top', 'surfboard', 'wave'], ['dog', 'tricycle', 'leash'], ['woman', 'horse', 'fence', 'event'], ['hut', 'grass', 'roof', 'bench'], ['man', 'racket', 'game', 'tennis'], ['rider', 'bicycle', 'helmet', 'crosswalk'], ['man', 'phone', 'front', 'pool'], ['people', 'house', 'cake'], ['set', 'metal', 'stairs', 'room', 'clothes', 'vines'], ['decker', 'bus', 'city', 'street'], ['bird', 'person', 'hand', 'food'], ['plate', 'piece', 'meat', 'lettuce', 'cup', 'juice'], ['tennis', 'player', 'racket', 'court'], ['table', 'toothbrushes', 'toothpaste', 'lotion', 'snacks', 'deodorant'], ['pizza', 'entre', 'salad', 'plate'], ['men', 'baseball', 'bats'], ['dog', 'mattress', 'front', 'laptop'], ['dog', 'resting', 'hole', 'dirt', 'shoe'], ['several', 'boxes', 'fruit'], ['coney', 'dog', 'onions', 'fries'], ['meat', 'basket'], ['sun', 'shines', 'window', 'living', 'room'], ['train', 'train', 'tracks'], ['dirt', 'road', 'parking', 'area'], ['giraffe', 'standing', 'hay', 'trough'], ['gray', 'cat', 'grass'], ['woman', 'mirror', 'woman', 'teeth'], ['guy', 'bike', 'bus'], ['men', 'wine'], ['hot', 'dogs', 'grill', 'marks', 'buns', 'grill'], ['woman', 'phone', 'room'], ['stop', 'sign', 'street', 'sign'], ['bear', 'art', 'soul', 'cigarette', 'lighter', 'hand'], ['bull', 'men', 'cart', 'street'], ['living', 'room', 'area', 'table', 'chairs', 'bar', 'stools', 'counter', 'top', 'television'], ['man', 'skateboard', 'trick'], ['girl', 'ball', 'fire', 'hydrant'], ['ten', 'field', 'day'], ['picture', 'leather', 'couch', 'laptop'], ['image', 'person', 'skiis', 'making', 'tracks'], ['kitchen', 'oven', 'sink'], ['girl', 'dog', 'eat', 'cake', 'table'], ['kitchen', 'pantry', 'glass', 'bottles', 'counter'], ['train', 'track', 'caboose', 'car', 'silver', 'train'], ['group', 'people', 'living', 'room'], ['couple', 'of', 'giraffes', 'in', 'the', 'wild', 'walking', 'in', 'the', 'sand'], ['tree', 'forest'], ['story', 'commuter', 'bus', 'city', 'street'], ['adults', 'meal', 'pizza'], ['truck', 'street', 'buildings'], ['street', 'sign', 'ne', 'st', 'back', 'sign'], ['wing', 'outside', 'plane', 'window'], ['lady', 'front', 'refrigerator'], ['boys', 'bed', 'truck'], ['several', 'bags', 'middle', 'area'], ['car', 'street', 'streetlamp'], ['man', 'person', 'shooter', 'video', 'game'], ['giraffe', 'neck', 'leaves', 'tree'], ['woman', 'ball', 'tennis', 'racquet', 'court'], ['wall', 'bouquets'], ['person', 'friends'], ['group', 'people', 'park', 'benches', 'dog'], ['kitchen', 'bunch', 'items', 'shelf'], ['row', 'passenger', 'buses', 'lone', 'road'], ['woman', 'tennis', 'ball', 'court'], ['picture', 'person', 'frisbee', 'front', 'buildings'], ['lot', 'bunches', 'bananas', 'lot', 'watermelons'], ['people', 'fruit', 'market', 'tables'], ['couple', 'people', 'dog', 'water'], ['street', 'sign', 'names', 'streets'], ['pancakes', 'bacon', 'eggs', 'table'], ['man', 'surfboard', 'top', 'wave'], ['boy', 'baseball', 'bat', 'baseball', 'uniform'], ['dog', 'cat', 'bear', 'bed'], ['bowl', 'fruit', 'plate', 'croissant', 'sandwich'], ['baseball', 'player'], ['vendor', 'display', 'stone', 'walk'], ['plate', 'food'], ['motorcycles', 'front', 'mountain', 'landscape'], ['bathroom', 'toilet', 'sink', 'window'], ['three', 'baseball', 'players', 'baseball', 'field'], ['tour', 'car', 'passengers'], ['train', 'pulls', 'station'], ['toilet', 'sidewalk', 'graffiti'], ['cellphone', 'sits', 'desk', 'headphones'], ['man', 'women', 'cake'], ['woman', 'bike', 'lot', 'bikes', 'park'], ['horse', 'dog', 'jester', 'ceramics', 'store', 'window'], ['life', 'photograph', 'oranges', 'apples'], ['man', 'hair', 'microphone'], ['children', 'bed', 'camper'], ['tray', 'finger', 'sandwiches', 'scones', 'fruit', 'bottom', 'table', 'tea'], ['giraffe', 'water', 'hole', 'birds'], ['bikers', 'street'], ['baseball', 'player', 'ball', 'mitt', 'baseball', 'diamond'], ['elephant', 'grassy', 'area'], ['people', 'side', 'orad', 'bus', 'jeep', 'close'], ['group', 'people', 'beach', 'surfboards'], ['horse', 'cart', 'street'], ['guy', 'skateboard', 'curb'], ['table', 'burrito', 'plate', 'plates', 'food', 'cups'], ['plate', 'meat', 'ball', 'sandwiches', 'sauce'], ['shore', 'boats'], ['there', 'pizza', 'on', 'the', 'counter'], ['train', 'yard', 'trains'], ['man', 'dirtbike', 'dirt', 'track'], ['man', 'rain', 'coat', 'others', 'city', 'street'], ['elephant', 'food', 'people'], ['homemade', 'pizza', 'toppings', 'piece', 'paper'], ['passenger', 'train', 'track', 'trees'], ['plate', 'meal', 'broccoli', 'cheese'], ['couple', 'people', 'ocean'], ['person', 'table', 'plate', 'food'], ['room', 'cot', 'clothes'], ['lion', 'bottle'], ['dog', 'floor', 'office', 'area'], ['clock', 'side', 'building'], ['guys', 'rackets', 'ball'], ['man', 'surf', 'board', 'ocean'], ['snowboarder', 'snowy', 'mountain', 'slope'], ['teams', 'frisbee', 'field'], ['bird', 'grass'], ['view', 'ivy', 'stone', 'wall', 'train', 'station'], ['stuffed', 'animals', 'flowers', 'stone', 'memorial'], ['vintage', 'photo', 'woman', 'bath', 'tub'], ['vase', 'flower', 'table'], ['snowboarder', 'ramp'], ['plate', 'beef', 'broccoli'], ['elephant', 'pile', 'food'], ['bear', 'area', 'water'], ['man', 'ocean', 'board'], ['animals', 'building'], ['people', 'pose', 'picture'], ['picture', 'couch', 'room'], ['man', 'shirt', 'trick', 'skateboard'], ['street', 'sign', 'steiner', 'corner'], ['couple', 'street', 'signs', 'side', 'road'], ['group', 'animals', 'tree'], ['plate', 'club', 'sandwich', 'fries'], ['cat', 'front', 'computer', 'screen', 'keyboard'], ['bathroom', 'trash', 'sink'], ['dued', 'parking', 'lot', 'trick', 'skateboard'], ['man', 'trunks', 'beach', 'people', 'water'], ['chair', 'couch', 'room'], ['gas', 'station', 'toilet', 'months'], ['pair', 'scissors', 'hair', 'tie', 'hang', 'hooks', 'wall'], ['bird', 'ground', 'worm', 'mouth'], ['couple', 'giraffe', 'field'], ['airplane', 'town'], ['person', 'parasail', 'lake'], ['group', 'giraffe', 'tree'], ['woman', 'room', 'phone'], ['woman', 'something', 'coffee', 'table'], ['van', 'drives', 'pavement', 'row', 'meters'], ['group', 'people', 'kitchen'], ['kitchen', 'sink'], ['damaged', 'car', 'motorcycle', 'accident', 'street'], ['man', 'sidewalk', 'bus', 'background'], ['couple', 'people', 'frisbees'], ['person', 'persons', 'hair'], ['small', 'parts', 'bathroom'], ['five', 'sheep', 'standing', 'line', 'herder'], ['group', 'people', 'soccer', 'players'], ['three', 'boarders', 'mountain', 'slope'], ['man', 'baseball', 'bat', 'baseball', 'game'], ['kite'], ['people', 'run', 'hill'], ['sheep', 'top', 'stone', 'wall'], ['bus', 'buildings', 'car'], ['group', 'zebra', 'field', 'fence'], ['man', 'cork', 'bottle'], ['table', 'plates', 'food'], ['refrigerator', 'freezer', 'washer', 'dryer'], ['cellphone', 'back', 'vehicle'], ['reason', 'desk', 'flower'], ['herd', 'cattle', 'field'], ['baseball', 'player', 'baseball', 'outfield', 'birmingham'], ['box', 'doughnuts', 'lines'], ['man', 'camera', 'teeth'], ['cats', 'heads', 'toilet'], ['zebras', 'meander', 'wildlife', 'park'], ['picture', 'fire', 'hydrangeas'], ['woman', 'statue', 'bear'], ['breakfast', 'pancakes', 'cream', 'drizzle', 'caramel'], ['giraffes', 'tree', 'giraffe'], ['right', 'direction', 'sign'], ['bunches', 'bananas', 'fruit', 'tables'], ['cat', 'graffiti', 'sign'], ['surfer', 'sidewalk', 'beach'], ['couple', 'men'], ['man', 'cake', 'knife'], ['bull', 'dog', 'bandana', 'skateboard'], ['woman', 'motor', 'bike', 'truck'], ['people', 'giraffe'], ['stone', 'church', 'clock', 'tower', 'city', 'road'], ['horse', 'beach', 'day'], ['flowers', 'vase', 'window'], ['cow', 'top', 'beach', 'ocean'], ['picture', 'cooks', 'animal'], ['people', 'horseback', 'beach', 'shore'], ['man', 'snowboard', 'snow', 'slope'], ['cut', 'half', 'corn', 'table', 'fork'], ['bowl', 'food', 'broccoli'], ['boys', 'kite'], ['fighter', 'jet', 'display', 'building'], ['man', 'pair', 'scissors', 'head'], ['baseball', 'player', 'bat', 'batters'], ['woman', 'shirt', 'phone', 'ear'], ['people', 'lift', 'people'], ['baseball', 'players', 'baseball', 'field'], ['elephant', 'child', 'giraffes', 'lion'], ['baseball', 'player', 'pants', 'jersey', 'pitch'], ['three', 'women', 'skis', 'slope'], ['street', 'sign', 'tents'], ['green', 'bus', 'lot', 'buses'], ['cell', 'phone', 'somebody', 'hands', 'everything'], ['pair', 'zebras', 'enclosure'], ['person', 'jet', 'ski', 'water', 'buildings'], ['train', 'bridge'], ['man', 'wine', 'row', 'wine', 'glasses'], ['man', 'pink', 'frisbee'], ['beach', 'cloudless', 'day', 'dozens', 'kites', 'air'], ['road', 'sign', 'destinations', 'highway'], ['tree', 'lot', 'oranges'], ['man', 'camera', 'motorcycle'], ['man', 'trick', 'skateboard', 'park'], ['person', 'skis', 'snow', 'hill'], ['sandwich', 'greens', 'plate'], ['woman', 'frisbee', 'field'], ['dog', 'frisbee', 'mouth', 'dog', 'beach'], ['man', 'jumps', 'frisbee'], ['office', 'table', 'desks', 'area'], ['hand', 'piece', 'sandwich'], ['bowl', 'fruits', 'apples', 'bananas'], ['clock', 'hand', 'brick', 'wall'], ['dark', 'man', 'sunglasses', 'frisbee'], ['bed', 'room', 'bed'], ['girls', 'bed', 'lamp'], ['men', 'pile', 'gravel'], ['laptop', 'desk', 'window'], ['dog', 'floor', 'pair', 'scissors', 'floor'], ['cat', 'hiding', 'bag', 'floor', 'pair', 'scissors'], ['grey', 'park', 'bench', 'brick', 'wall'], ['baseball', 'player', 'ball', 'field'], ['couple', 'men', 'glasses', 'wine'], ['collection', 'vegetables', 'sits', 'sink'], ['lone', 'train', 'engine', 'traffic', 'signals'], ['box', 'donuts', 'chocolate', 'vanilla'], ['group', 'men', 'women', 'drinks', 'restaurant'], ['blender', 'lid', 'cord'], ['well', 'businessman', 'parking', 'lot']]\n"
          ],
          "name": "stdout"
        }
      ]
    },
    {
      "cell_type": "markdown",
      "metadata": {
        "id": "s8-ViZXIXTzP",
        "colab_type": "text"
      },
      "source": [
        "## Assessing the Model ##"
      ]
    },
    {
      "cell_type": "markdown",
      "metadata": {
        "id": "5Y9D5uHdXX-L",
        "colab_type": "text"
      },
      "source": [
        "To assess our model, first, we’ll first infer new vectors for each document of the training corpus.\n",
        "\n",
        "We will then compare it with the original caption and return the ranks based on how similar they are..\n",
        "\n",
        "\n",
        "Due to our data being very different, despite the ideal situation where overfittig the model is desirable, we expect that it will yield a close result.\n"
      ]
    },
    {
      "cell_type": "markdown",
      "metadata": {
        "id": "pT8xuQOGXkOO",
        "colab_type": "text"
      },
      "source": [
        "We will print out the documents and scenes."
      ]
    },
    {
      "cell_type": "code",
      "metadata": {
        "id": "Qi6X87BaCO7D",
        "colab_type": "code",
        "colab": {
          "base_uri": "https://localhost:8080/",
          "height": 71
        },
        "outputId": "82d7cb7f-82e0-4a70-c339-2f623a821a95"
      },
      "source": [
        "ranks = []\n",
        "second_ranks = []\n",
        "for doc_id in range(len(r)):\n",
        "    inferred_vector = model.infer_vector(r[doc_id].words)\n",
        "    sims = model.docvecs.most_similar([inferred_vector], topn=len(model.docvecs))\n",
        "    rank = [docid for docid, sim in sims].index(doc_id)\n",
        "    ranks.append(rank)\n",
        "\n",
        "    second_ranks.append(sims[1])"
      ],
      "execution_count": 191,
      "outputs": [
        {
          "output_type": "stream",
          "text": [
            "/usr/local/lib/python3.6/dist-packages/gensim/matutils.py:737: FutureWarning: Conversion of the second argument of issubdtype from `int` to `np.signedinteger` is deprecated. In future, it will be treated as `np.int64 == np.dtype(int).type`.\n",
            "  if np.issubdtype(vec.dtype, np.int):\n"
          ],
          "name": "stderr"
        }
      ]
    },
    {
      "cell_type": "code",
      "metadata": {
        "id": "xNEdr3DJCSg_",
        "colab_type": "code",
        "colab": {
          "base_uri": "https://localhost:8080/",
          "height": 54
        },
        "outputId": "be98667b-b390-44ea-fe99-2fa537d65b49"
      },
      "source": [
        "import collections\n",
        "\n",
        "counter = collections.Counter(ranks)\n",
        "print(counter)"
      ],
      "execution_count": 192,
      "outputs": [
        {
          "output_type": "stream",
          "text": [
            "Counter({602: 6, 795: 5, 944: 5, 722: 5, 245: 5, 136: 4, 423: 4, 408: 4, 426: 4, 615: 4, 35: 4, 501: 4, 384: 4, 346: 4, 476: 4, 820: 4, 89: 4, 468: 4, 824: 4, 40: 4, 556: 3, 873: 3, 219: 3, 455: 3, 450: 3, 153: 3, 677: 3, 965: 3, 91: 3, 41: 3, 794: 3, 439: 3, 318: 3, 747: 3, 127: 3, 605: 3, 474: 3, 431: 3, 295: 3, 983: 3, 844: 3, 838: 3, 776: 3, 688: 3, 629: 3, 633: 3, 15: 3, 924: 3, 205: 3, 20: 3, 891: 3, 5: 3, 523: 3, 945: 3, 313: 3, 305: 3, 118: 3, 818: 3, 114: 3, 246: 3, 93: 3, 115: 3, 826: 3, 673: 3, 529: 3, 973: 3, 551: 3, 596: 3, 337: 3, 204: 3, 358: 3, 415: 3, 437: 3, 416: 3, 696: 3, 607: 3, 661: 3, 405: 3, 435: 3, 715: 3, 349: 3, 230: 3, 353: 3, 83: 3, 3: 3, 761: 3, 265: 3, 133: 3, 101: 2, 105: 2, 784: 2, 662: 2, 726: 2, 952: 2, 707: 2, 788: 2, 610: 2, 954: 2, 535: 2, 269: 2, 409: 2, 905: 2, 71: 2, 646: 2, 543: 2, 527: 2, 67: 2, 580: 2, 899: 2, 303: 2, 181: 2, 811: 2, 733: 2, 212: 2, 760: 2, 169: 2, 291: 2, 456: 2, 263: 2, 17: 2, 837: 2, 681: 2, 361: 2, 850: 2, 911: 2, 771: 2, 961: 2, 541: 2, 895: 2, 66: 2, 780: 2, 137: 2, 182: 2, 550: 2, 540: 2, 379: 2, 904: 2, 879: 2, 566: 2, 394: 2, 981: 2, 335: 2, 422: 2, 451: 2, 253: 2, 751: 2, 338: 2, 914: 2, 923: 2, 80: 2, 549: 2, 887: 2, 397: 2, 465: 2, 548: 2, 667: 2, 876: 2, 518: 2, 154: 2, 833: 2, 233: 2, 381: 2, 560: 2, 248: 2, 921: 2, 506: 2, 919: 2, 609: 2, 33: 2, 151: 2, 693: 2, 913: 2, 724: 2, 683: 2, 21: 2, 863: 2, 936: 2, 13: 2, 77: 2, 315: 2, 643: 2, 121: 2, 790: 2, 486: 2, 129: 2, 816: 2, 594: 2, 256: 2, 140: 2, 991: 2, 85: 2, 161: 2, 215: 2, 364: 2, 57: 2, 617: 2, 867: 2, 868: 2, 207: 2, 533: 2, 150: 2, 953: 2, 440: 2, 237: 2, 845: 2, 841: 2, 624: 2, 980: 2, 187: 2, 103: 2, 131: 2, 209: 2, 989: 2, 141: 2, 644: 2, 797: 2, 937: 2, 7: 2, 718: 2, 310: 2, 280: 2, 507: 2, 579: 2, 896: 2, 497: 2, 922: 2, 538: 2, 616: 2, 149: 2, 406: 2, 611: 2, 79: 2, 445: 2, 680: 2, 511: 2, 843: 2, 705: 2, 787: 2, 111: 2, 880: 2, 798: 2, 107: 2, 4: 2, 584: 2, 162: 2, 898: 2, 81: 2, 885: 2, 163: 2, 655: 2, 894: 2, 168: 2, 202: 2, 155: 2, 675: 2, 620: 2, 39: 2, 38: 2, 345: 1, 860: 1, 992: 1, 636: 1, 37: 1, 419: 1, 591: 1, 443: 1, 232: 1, 478: 1, 210: 1, 464: 1, 374: 1, 638: 1, 477: 1, 779: 1, 448: 1, 971: 1, 234: 1, 221: 1, 375: 1, 717: 1, 367: 1, 217: 1, 858: 1, 292: 1, 312: 1, 526: 1, 805: 1, 95: 1, 487: 1, 23: 1, 836: 1, 124: 1, 333: 1, 214: 1, 621: 1, 694: 1, 109: 1, 554: 1, 878: 1, 770: 1, 301: 1, 188: 1, 928: 1, 404: 1, 926: 1, 97: 1, 106: 1, 399: 1, 902: 1, 252: 1, 286: 1, 206: 1, 18: 1, 218: 1, 485: 1, 354: 1, 695: 1, 184: 1, 663: 1, 371: 1, 689: 1, 967: 1, 278: 1, 258: 1, 319: 1, 324: 1, 710: 1, 758: 1, 978: 1, 197: 1, 351: 1, 832: 1, 239: 1, 557: 1, 249: 1, 877: 1, 449: 1, 284: 1, 26: 1, 226: 1, 100: 1, 524: 1, 604: 1, 343: 1, 648: 1, 625: 1, 966: 1, 460: 1, 730: 1, 299: 1, 957: 1, 229: 1, 414: 1, 573: 1, 490: 1, 985: 1, 290: 1, 53: 1, 240: 1, 223: 1, 444: 1, 598: 1, 732: 1, 962: 1, 420: 1, 123: 1, 86: 1, 441: 1, 304: 1, 380: 1, 387: 1, 368: 1, 321: 1, 250: 1, 227: 1, 484: 1, 479: 1, 810: 1, 489: 1, 539: 1, 28: 1, 366: 1, 471: 1, 976: 1, 890: 1, 32: 1, 532: 1, 502: 1, 146: 1, 213: 1, 909: 1, 173: 1, 331: 1, 363: 1, 960: 1, 43: 1, 308: 1, 211: 1, 915: 1, 236: 1, 812: 1, 568: 1, 458: 1, 660: 1, 614: 1, 687: 1, 775: 1, 743: 1, 848: 1, 545: 1, 329: 1, 571: 1, 969: 1, 682: 1, 650: 1, 999: 1, 749: 1, 228: 1, 927: 1, 27: 1, 203: 1, 113: 1, 822: 1, 741: 1, 998: 1, 128: 1, 418: 1, 593: 1, 821: 1, 68: 1, 640: 1, 309: 1, 652: 1, 777: 1, 897: 1, 22: 1, 63: 1, 261: 1, 746: 1, 152: 1, 809: 1, 585: 1, 170: 1, 178: 1, 425: 1, 647: 1, 190: 1, 731: 1, 407: 1, 8: 1, 748: 1, 177: 1, 685: 1, 781: 1, 401: 1, 11: 1, 65: 1, 854: 1, 819: 1, 847: 1, 800: 1, 628: 1, 807: 1, 738: 1, 512: 1, 762: 1, 955: 1, 601: 1, 801: 1, 452: 1, 52: 1, 48: 1, 637: 1, 574: 1, 411: 1, 791: 1, 192: 1, 908: 1, 201: 1, 110: 1, 871: 1, 262: 1, 653: 1, 388: 1, 783: 1, 938: 1, 189: 1, 49: 1, 690: 1, 575: 1, 285: 1, 62: 1, 627: 1, 803: 1, 984: 1, 785: 1, 901: 1, 46: 1, 98: 1, 728: 1, 505: 1, 194: 1, 87: 1, 260: 1, 686: 1, 735: 1, 74: 1, 708: 1, 619: 1, 869: 1, 382: 1, 272: 1, 281: 1, 330: 1, 138: 1, 82: 1, 941: 1, 906: 1, 1: 1, 370: 1, 786: 1, 562: 1, 69: 1, 942: 1, 664: 1, 665: 1, 348: 1, 804: 1, 612: 1, 491: 1, 14: 1, 521: 1, 276: 1, 392: 1, 592: 1, 948: 1, 302: 1, 277: 1, 391: 1, 578: 1, 271: 1, 767: 1, 317: 1, 555: 1, 259: 1, 99: 1, 44: 1, 76: 1, 0: 1, 424: 1, 241: 1, 483: 1, 29: 1, 865: 1, 990: 1, 763: 1, 606: 1, 974: 1, 332: 1, 413: 1, 56: 1, 385: 1, 734: 1, 84: 1, 599: 1, 831: 1, 536: 1, 764: 1, 492: 1, 595: 1, 257: 1, 34: 1, 336: 1, 279: 1, 251: 1, 958: 1, 658: 1, 372: 1, 355: 1, 757: 1, 589: 1, 360: 1, 334: 1, 268: 1, 323: 1, 166: 1, 778: 1, 709: 1, 949: 1, 12: 1, 630: 1, 508: 1, 198: 1, 287: 1, 383: 1, 639: 1, 711: 1, 587: 1, 130: 1, 765: 1, 300: 1, 903: 1, 243: 1, 768: 1, 514: 1, 494: 1, 274: 1, 266: 1, 729: 1, 982: 1, 513: 1, 672: 1, 428: 1, 674: 1, 889: 1, 132: 1, 884: 1, 157: 1, 216: 1, 815: 1, 704: 1, 25: 1, 36: 1, 311: 1, 737: 1, 306: 1, 156: 1, 447: 1})\n"
          ],
          "name": "stdout"
        }
      ]
    },
    {
      "cell_type": "markdown",
      "metadata": {
        "id": "5BpUwjDcCwW5",
        "colab_type": "text"
      },
      "source": [
        "We see that there are five ranks of variation of how similar each caption's noun list is.\n",
        "\n",
        "Below is a test on the dataset itself. We will see if this model detects reasonably a similar scene, from similar to dissimilar.\n",
        "\n",
        "Note that the result may vary, due to randomised indicies. "
      ]
    },
    {
      "cell_type": "code",
      "metadata": {
        "id": "83rEKfTwXlr4",
        "colab_type": "code",
        "outputId": "cf710948-760f-4b01-d62b-324a86fafdc5",
        "colab": {
          "base_uri": "https://localhost:8080/",
          "height": 241
        }
      },
      "source": [
        "print('Document ({}): «{}»\\n'.format(doc_id, ' '.join(r[doc_id].words)))\n",
        "print(u'SIMILAR/DISSIMILAR DOCS PER MODEL %s:\\n' % model)\n",
        "for label, index in [('MOST', 0), ('SECOND-MOST', 1), ('MEDIAN', len(sims)//2), ('LEAST', len(sims) - 1)]:\n",
        "    print(u'%s %s: «%s»\\n' % (label, sims[index], ' '.join(r[sims[index][0]].words)))"
      ],
      "execution_count": 193,
      "outputs": [
        {
          "output_type": "stream",
          "text": [
            "Document (999): «well businessman parking lot»\n",
            "\n",
            "SIMILAR/DISSIMILAR DOCS PER MODEL Doc2Vec(dm/m,d40,n5,w5,mc2,s0.001):\n",
            "\n",
            "MOST (794, 0.9920157194137573): «couple of giraffes in the wild walking in the sand»\n",
            "\n",
            "SECOND-MOST (783, 0.9911683797836304): «living room area table chairs bar stools counter top television»\n",
            "\n",
            "MEDIAN (396, 0.9554594159126282): «lion chair table»\n",
            "\n",
            "LEAST (404, -0.2596120834350586): «frolicking shrubbery»\n",
            "\n"
          ],
          "name": "stdout"
        }
      ]
    },
    {
      "cell_type": "code",
      "metadata": {
        "id": "JR5iFUxTXnix",
        "colab_type": "code",
        "outputId": "4560e04d-abc0-4896-9dcf-8c9fa70b68c3",
        "colab": {
          "base_uri": "https://localhost:8080/",
          "height": 105
        }
      },
      "source": [
        "# Pick a random document from the corpus and infer a vector from the model\n",
        "import random\n",
        "doc_id = random.randint(0, len(r) - 1)\n",
        "\n",
        "# Compare and print the second-most-similar document\n",
        "print('Train Document ({}): «{}»\\n'.format(doc_id, ' '.join(r[doc_id].words)))\n",
        "sim_id = second_ranks[doc_id]\n",
        "print('Similar Document {}: «{}»\\n'.format(sim_id, ' '.join(r[sim_id[0]].words)))"
      ],
      "execution_count": 194,
      "outputs": [
        {
          "output_type": "stream",
          "text": [
            "Train Document (716): «wood dining room table chairs sits room leather chair»\n",
            "\n",
            "Similar Document (733, 0.9962451457977295): «view street traffic buses cars motorcycle rider trees buildings»\n",
            "\n"
          ],
          "name": "stdout"
        }
      ]
    },
    {
      "cell_type": "markdown",
      "metadata": {
        "id": "FAnONgtzXttZ",
        "colab_type": "text"
      },
      "source": [
        "### Model Test ###"
      ]
    },
    {
      "cell_type": "markdown",
      "metadata": {
        "id": "Rp7bzg7CDSNF",
        "colab_type": "text"
      },
      "source": [
        "Now we will input related strings into the predictor and produce two inferred vectors and compute its cosine similarity see how close the two vectors that this model has inferred in two different strings."
      ]
    },
    {
      "cell_type": "code",
      "metadata": {
        "id": "Yi65uMH_Xvab",
        "colab_type": "code",
        "outputId": "087e25ac-b5a9-4ae6-9618-f36e3543257d",
        "colab": {
          "base_uri": "https://localhost:8080/",
          "height": 136
        }
      },
      "source": [
        "predictor1 = ['skateboard', 'park', 'ball']\n",
        "vector1 = model.infer_vector(predictor1)\n",
        "print(vector1)"
      ],
      "execution_count": 268,
      "outputs": [
        {
          "output_type": "stream",
          "text": [
            "[ 0.0560973   0.02087294  0.00180406  0.09710477  0.02333952  0.07255014\n",
            "  0.06565705 -0.02230296 -0.07310336 -0.00193053  0.02880027  0.02730857\n",
            "  0.08376947 -0.04046534  0.02650589  0.06919712 -0.03841364  0.08937874\n",
            "  0.07742574  0.03510408 -0.12007035  0.03933863 -0.04093681 -0.06311447\n",
            " -0.14468518  0.04291464 -0.08864843 -0.09914405 -0.09048756 -0.11178316\n",
            " -0.13620527  0.04812532 -0.08467326 -0.10183536  0.04535187 -0.00438034\n",
            "  0.07035069  0.03395114 -0.0795885   0.02704406]\n"
          ],
          "name": "stdout"
        }
      ]
    },
    {
      "cell_type": "code",
      "metadata": {
        "id": "uQT8F_XsVwka",
        "colab_type": "code",
        "colab": {
          "base_uri": "https://localhost:8080/",
          "height": 136
        },
        "outputId": "db018f64-7ba6-43a4-ce29-20aa41c0aea6"
      },
      "source": [
        "predictor2 = ['skateboard', 'park', 'ball']\n",
        "vector2 = model.infer_vector(predictor2)\n",
        "print(vector2)"
      ],
      "execution_count": 269,
      "outputs": [
        {
          "output_type": "stream",
          "text": [
            "[ 0.0470546   0.0182476   0.00309396  0.08058     0.02001555  0.06013324\n",
            "  0.0564094  -0.01808879 -0.06304573 -0.00117356  0.02491001  0.02284865\n",
            "  0.07245806 -0.03306089  0.02349225  0.05919446 -0.03202067  0.07703348\n",
            "  0.06495262  0.02741354 -0.10209163  0.03459143 -0.03395511 -0.05330769\n",
            " -0.12331484  0.03786299 -0.07471219 -0.08272516 -0.07858968 -0.09736083\n",
            " -0.11742573  0.04197249 -0.07234819 -0.08617231  0.03811171 -0.00478465\n",
            "  0.0584606   0.02672559 -0.06730628  0.02235813]\n"
          ],
          "name": "stdout"
        }
      ]
    },
    {
      "cell_type": "code",
      "metadata": {
        "id": "imNyT2bWRkzF",
        "colab_type": "code",
        "colab": {
          "base_uri": "https://localhost:8080/",
          "height": 34
        },
        "outputId": "3ab6c22a-5fce-4916-da24-f5da2bb95828"
      },
      "source": [
        "from scipy import spatial\n",
        "\n",
        "result = 1 - spatial.distance.cosine(vector1, vector2)\n",
        "print(result)"
      ],
      "execution_count": 270,
      "outputs": [
        {
          "output_type": "stream",
          "text": [
            "0.9998189210891724\n"
          ],
          "name": "stdout"
        }
      ]
    },
    {
      "cell_type": "markdown",
      "metadata": {
        "id": "cvYaIvXYWCVu",
        "colab_type": "text"
      },
      "source": [
        "If we change the input string into something else, the cosine similarity varies. In this case, we have entered a completely unrelated predictor, which predicted a vector that is far from similar."
      ]
    },
    {
      "cell_type": "code",
      "metadata": {
        "id": "2qYWpZAIVAcn",
        "colab_type": "code",
        "colab": {
          "base_uri": "https://localhost:8080/",
          "height": 136
        },
        "outputId": "e180eb22-5da9-41f1-f305-92bce0683ff1"
      },
      "source": [
        "predictor2 = ['angry', 'bad', 'hello']\n",
        "vector2 = model.infer_vector(predictor2)\n",
        "print(vector2)"
      ],
      "execution_count": 271,
      "outputs": [
        {
          "output_type": "stream",
          "text": [
            "[-0.00753467  0.00846924 -0.00795946  0.00313274  0.00587448  0.00163562\n",
            "  0.0108287  -0.00280833 -0.00856584  0.005291    0.00797991  0.00445892\n",
            "  0.00711466  0.00342442  0.00371753  0.01115284  0.00361398 -0.00637501\n",
            " -0.00527698 -0.0046436  -0.0006466   0.01152344  0.0079599  -0.00840125\n",
            " -0.00846403 -0.00880434 -0.00732999 -0.00931043 -0.01054741  0.00065712\n",
            "  0.00601443  0.00011732  0.00846152  0.00660248  0.00059417  0.00370222\n",
            " -0.01074943 -0.01123463  0.00943444  0.00393857]\n"
          ],
          "name": "stdout"
        }
      ]
    },
    {
      "cell_type": "code",
      "metadata": {
        "id": "wEzZWNTQWORP",
        "colab_type": "code",
        "colab": {
          "base_uri": "https://localhost:8080/",
          "height": 34
        },
        "outputId": "6dddfa07-af10-4b1f-e16e-cdaa37f1fb77"
      },
      "source": [
        "result = 1 - spatial.distance.cosine(vector1, vector2)\n",
        "print(result)"
      ],
      "execution_count": 272,
      "outputs": [
        {
          "output_type": "stream",
          "text": [
            "0.10725320875644684\n"
          ],
          "name": "stdout"
        }
      ]
    },
    {
      "cell_type": "code",
      "metadata": {
        "id": "7BU3D2kVYkDy",
        "colab_type": "code",
        "colab": {}
      },
      "source": [
        ""
      ],
      "execution_count": 0,
      "outputs": []
    },
    {
      "cell_type": "code",
      "metadata": {
        "id": "Ow9cthuxT02B",
        "colab_type": "code",
        "colab": {
          "base_uri": "https://localhost:8080/",
          "height": 278
        },
        "outputId": "d1fe71bd-cb93-435e-c8e4-51651e64e9b8"
      },
      "source": [
        "# Imports\n",
        "from sklearn.cluster import KMeans\n",
        "from sklearn.decomposition import PCA\n",
        "from sklearn.preprocessing import StandardScaler\n",
        "%config InlineBackend.figure_format='retina'\n",
        "\n",
        "# Load in the data\n",
        "df = cos_sim_vec\n",
        "# Standardize the data to have a mean of ~0 and a variance of 1\n",
        "X_std = StandardScaler().fit_transform(df)\n",
        "# Create a PCA instance: pca\n",
        "pca = PCA(n_components=10)\n",
        "principalComponents = pca.fit_transform(X_std)\n",
        "# Plot the explained variances\n",
        "features = range(pca.n_components_)\n",
        "plt.bar(features, pca.explained_variance_ratio_, color='red')\n",
        "plt.xlabel('PCA features')\n",
        "plt.ylabel('variance %')\n",
        "plt.xticks(features)\n",
        "# Save components to a DataFrame\n",
        "PCA_components = pd.DataFrame(principalComponents)"
      ],
      "execution_count": 207,
      "outputs": [
        {
          "output_type": "display_data",
          "data": {
            "image/png": "[encoded data removed]",
            "text/plain": [
              "<Figure size 432x288 with 1 Axes>"
            ]
          },
          "metadata": {
            "tags": [],
            "image/png": {
              "width": 385,
              "height": 261
            }
          }
        }
      ]
    },
    {
      "cell_type": "markdown",
      "metadata": {
        "id": "30yQh9lrHx-d",
        "colab_type": "text"
      },
      "source": [
        "## Matthew edit this box and please write the analysis here. ##"
      ]
    }
  ]
}