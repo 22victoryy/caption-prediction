{
 "cells": [
  {
   "cell_type": "code",
   "execution_count": 19,
   "metadata": {},
   "outputs": [
    {
     "data": {
      "text/plain": [
       "[['lines', 'string', 'words'], ['name', 'Jeff']]"
      ]
     },
     "execution_count": 19,
     "metadata": {},
     "output_type": "execute_result"
    }
   ],
   "source": [
    "import nltk\n",
    "# nltk.download()\n",
    "\n",
    "\n",
    "lines = [['lines is was some string of words'], ['My name is Jeff']]\n",
    "\n",
    "\n",
    "\n",
    "def filter_nouns(data):\n",
    "    \n",
    "    i = 0\n",
    "    nouns = None\n",
    "    noun_list = []\n",
    "    while i < len(data):\n",
    "        lines = ''.join(data[i])\n",
    "        # function to test if something is a noun\n",
    "        is_noun = lambda pos: pos[:2] == 'NN'\n",
    "        # do the nlp stuff\n",
    "        tokenized = nltk.word_tokenize(lines)\n",
    "        nouns = [word for (word, pos) in nltk.pos_tag(tokenized) if is_noun(pos)] \n",
    "        noun_list = [*noun_list, nouns]\n",
    "        i += 1\n",
    "        \n",
    "    return noun_list\n",
    "    \n",
    "\n",
    "filter_nouns(lines)\n",
    "\n",
    "\n"
   ]
  },
  {
   "cell_type": "code",
   "execution_count": null,
   "metadata": {},
   "outputs": [],
   "source": []
  }
 ],
 "metadata": {
  "kernelspec": {
   "display_name": "Python 3",
   "language": "python",
   "name": "python3"
  },
  "language_info": {
   "codemirror_mode": {
    "name": "ipython",
    "version": 3
   },
   "file_extension": ".py",
   "mimetype": "text/x-python",
   "name": "python",
   "nbconvert_exporter": "python",
   "pygments_lexer": "ipython3",
   "version": "3.6.2"
  }
 },
 "nbformat": 4,
 "nbformat_minor": 2
}
